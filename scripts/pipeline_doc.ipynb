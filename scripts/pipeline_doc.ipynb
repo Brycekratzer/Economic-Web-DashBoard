{
 "cells": [
  {
   "cell_type": "markdown",
   "metadata": {},
   "source": [
    "# How the data pipeline works"
   ]
  },
  {
   "cell_type": "markdown",
   "metadata": {},
   "source": [
    "## Importing libraries"
   ]
  },
  {
   "cell_type": "code",
   "execution_count": 1,
   "metadata": {},
   "outputs": [],
   "source": [
    "import pandas as pd\n",
    "import numpy as np\n",
    "np.NaN = np.nan # For pandas_ta\n",
    "import matplotlib.pyplot as plt\n",
    "import yfinance as yf\n",
    "import pandas_datareader as pdr\n",
    "import pandas_ta as ta\n",
    "import datetime\n",
    "from datetime import timedelta"
   ]
  },
  {
   "cell_type": "markdown",
   "metadata": {},
   "source": [
    "## Defining Helper Functions"
   ]
  },
  {
   "cell_type": "code",
   "execution_count": null,
   "metadata": {},
   "outputs": [],
   "source": [
    "# adds data to data frame\n",
    "def get_data_frame(fred_code, start_date, end_date):\n",
    "    df = pdr.get_data_fred(fred_code, start=start_date, end=end_date)\n",
    "    df = df.reset_index()\n",
    "    df['Date'] = df['DATE']\n",
    "    return df"
   ]
  },
  {
   "cell_type": "markdown",
   "metadata": {},
   "source": [
    "## Gathering Data"
   ]
  },
  {
   "cell_type": "code",
   "execution_count": 2,
   "metadata": {},
   "outputs": [],
   "source": [
    "# Getting dates to examine previous 50 days and 120 days of the S&P 500 and Dow Jones\n",
    "today = datetime.date.today()\n",
    "previous_50_days = today - timedelta(days=50)\n",
    "previous_120_days = today - timedelta(days=120)"
   ]
  },
  {
   "cell_type": "code",
   "execution_count": 8,
   "metadata": {},
   "outputs": [
    {
     "name": "stderr",
     "output_type": "stream",
     "text": [
      "[*********************100%***********************]  1 of 1 completed"
     ]
    },
    {
     "name": "stderr",
     "output_type": "stream",
     "text": [
      "\n",
      "[*********************100%***********************]  1 of 1 completed\n",
      "[*********************100%***********************]  1 of 1 completed\n",
      "[*********************100%***********************]  1 of 1 completed\n"
     ]
    }
   ],
   "source": [
    "sp_ticker = '^GSPC'\n",
    "dj_ticker = '^DJI'\n",
    "\n",
    "# S&P data\n",
    "SP500_50_Day = yf.download(sp_ticker, start=previous_50_days, end=today)\n",
    "SP500_120_Day = yf.download(sp_ticker, start=previous_120_days, end=today)\n",
    "\n",
    "# Dow Jones data\n",
    "Dow_Jones_50_Day = yf.download(dj_ticker, start=previous_50_days, end=today)\n",
    "Dow_Jones_120_Day = yf.download(dj_ticker, start=previous_120_days, end=today)"
   ]
  },
  {
   "cell_type": "code",
   "execution_count": 20,
   "metadata": {},
   "outputs": [],
   "source": [
    "SP500_50_Day_Formatted = SP500_50_Day['Close']\n",
    "SP500_50_Day_Formatted.index = SP500_50_Day.index\n",
    "\n",
    "SP500_120_Day_Formatted = SP500_120_Day['Close']\n",
    "SP500_120_Day_Formatted.index = SP500_120_Day.index"
   ]
  },
  {
   "cell_type": "code",
   "execution_count": 21,
   "metadata": {},
   "outputs": [],
   "source": [
    "SP500_120_Day_Formatted.to_csv('120_day.csv')"
   ]
  },
  {
   "cell_type": "code",
   "execution_count": null,
   "metadata": {},
   "outputs": [],
   "source": []
  }
 ],
 "metadata": {
  "kernelspec": {
   "display_name": "Personal_Proj",
   "language": "python",
   "name": "python3"
  },
  "language_info": {
   "codemirror_mode": {
    "name": "ipython",
    "version": 3
   },
   "file_extension": ".py",
   "mimetype": "text/x-python",
   "name": "python",
   "nbconvert_exporter": "python",
   "pygments_lexer": "ipython3",
   "version": "3.12.8"
  }
 },
 "nbformat": 4,
 "nbformat_minor": 2
}
