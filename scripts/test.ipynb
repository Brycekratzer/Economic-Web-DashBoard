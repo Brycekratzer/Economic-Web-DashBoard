{
 "cells": [
  {
   "cell_type": "code",
   "execution_count": 9,
   "metadata": {},
   "outputs": [],
   "source": [
    "# Importing The Necessary Libraries\n",
    "import pandas as pd\n",
    "import numpy as np\n",
    "np.NaN = np.nan # For pandas_ta\n",
    "import yfinance as yf\n",
    "import pandas_datareader as pdr\n",
    "import pandas_ta as ta\n",
    "import datetime \n",
    "from datetime import timedelta"
   ]
  },
  {
   "cell_type": "code",
   "execution_count": 2,
   "metadata": {},
   "outputs": [],
   "source": [
    "CONTEXT_LEN = 120\n",
    "SP_TICKER = '^GSPC'\n",
    "DJ_TICKER = '^DJI'"
   ]
  },
  {
   "cell_type": "code",
   "execution_count": 12,
   "metadata": {},
   "outputs": [],
   "source": [
    "today = datetime.date.today()\n",
    "previous_120_days = today - timedelta(days=120)"
   ]
  },
  {
   "cell_type": "code",
   "execution_count": 13,
   "metadata": {},
   "outputs": [],
   "source": [
    "def get_stock_data(ticker, start_date, end_date):\n",
    "    copy_df = yf.download(ticker, start=start_date, end=end_date).ffill().bfill()\n",
    "    copy_df = copy_df.reset_index()\n",
    "    copy_df = copy_df[['Date','Close']]\n",
    "    copy_df.columns = copy_df.columns.get_level_values(0)\n",
    "    copy_df = copy_df.rename(columns={\n",
    "           'Date'  : 'DATE',\n",
    "           'Close' : f'{ticker} Close'\n",
    "    })\n",
    "    return copy_df"
   ]
  },
  {
   "cell_type": "code",
   "execution_count": 16,
   "metadata": {},
   "outputs": [
    {
     "name": "stderr",
     "output_type": "stream",
     "text": [
      "[*********************100%***********************]  1 of 1 completed"
     ]
    },
    {
     "name": "stderr",
     "output_type": "stream",
     "text": [
      "\n",
      "[*********************100%***********************]  1 of 1 completed\n"
     ]
    }
   ],
   "source": [
    "SP_data = get_stock_data(SP_TICKER, previous_120_days, today)\n",
    "DJ_data = get_stock_data(DJ_TICKER, previous_120_days, today)"
   ]
  },
  {
   "cell_type": "code",
   "execution_count": 17,
   "metadata": {},
   "outputs": [],
   "source": [
    "def add_data_based_on_date(main_df, new_data, col_name):\n",
    "    return pd.merge_asof(\n",
    "            main_df, \n",
    "            new_data,\n",
    "            on='DATE',\n",
    "            direction='forward' # How we fill the gaps when adding content\n",
    "        )[col_name]"
   ]
  },
  {
   "cell_type": "code",
   "execution_count": null,
   "metadata": {},
   "outputs": [],
   "source": [
    "combined_df = pd.DataFrame()\n",
    "\n",
    "combined_df['DATE'] = SP_data['DATE']\n",
    "\n",
    "# Adding Stock Markets\n",
    "combined_df[f'{SP_TICKER} Close'] = add_data_based_on_date(combined_df, SP_data, f'{SP_TICKER} Close')\n",
    "combined_df[f'{DJ_TICKER} Close'] = add_data_based_on_date(combined_df, DJ_data, f'{DJ_TICKER} Close')"
   ]
  }
 ],
 "metadata": {
  "kernelspec": {
   "display_name": "Personal_Proj",
   "language": "python",
   "name": "python3"
  },
  "language_info": {
   "codemirror_mode": {
    "name": "ipython",
    "version": 3
   },
   "file_extension": ".py",
   "mimetype": "text/x-python",
   "name": "python",
   "nbconvert_exporter": "python",
   "pygments_lexer": "ipython3",
   "version": "3.12.8"
  }
 },
 "nbformat": 4,
 "nbformat_minor": 2
}
