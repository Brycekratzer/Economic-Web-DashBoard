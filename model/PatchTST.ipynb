{
 "cells": [
  {
   "cell_type": "markdown",
   "metadata": {},
   "source": [
    "# PatchTST Model Development"
   ]
  },
  {
   "cell_type": "markdown",
   "metadata": {},
   "source": [
    "In this section we will develop the PatchTST model to predict S&P Close, Dow Jones Close."
   ]
  },
  {
   "cell_type": "markdown",
   "metadata": {},
   "source": [
    "## Model Congfiguration "
   ]
  },
  {
   "cell_type": "markdown",
   "metadata": {},
   "source": [
    "We will configure the PatchTST model based on the `Economic_Data_1994_2025` dataset we processed"
   ]
  },
  {
   "cell_type": "code",
   "execution_count": 15,
   "metadata": {},
   "outputs": [
    {
     "ename": "ImportError",
     "evalue": "cannot import name 'PatchTST' from 'transformers' (/opt/anaconda3/envs/Personal_Proj/lib/python3.12/site-packages/transformers/__init__.py)",
     "output_type": "error",
     "traceback": [
      "\u001b[0;31m---------------------------------------------------------------------------\u001b[0m",
      "\u001b[0;31mImportError\u001b[0m                               Traceback (most recent call last)",
      "\u001b[1;32m/Users/brycekratzer/PersonalProjects/Economic-DashBoard/Economic-Web-DashBoard/model/PatchTST.ipynb Cell 5\u001b[0m line \u001b[0;36m1\n\u001b[0;32m----> <a href='vscode-notebook-cell:/Users/brycekratzer/PersonalProjects/Economic-DashBoard/Economic-Web-DashBoard/model/PatchTST.ipynb#W4sZmlsZQ%3D%3D?line=0'>1</a>\u001b[0m \u001b[39mfrom\u001b[39;00m \u001b[39mtransformers\u001b[39;00m \u001b[39mimport\u001b[39;00m PatchTSTConfig, PatchTSTForPrediction, PatchTSTForPretraining, PatchTST\n\u001b[1;32m      <a href='vscode-notebook-cell:/Users/brycekratzer/PersonalProjects/Economic-DashBoard/Economic-Web-DashBoard/model/PatchTST.ipynb#W4sZmlsZQ%3D%3D?line=1'>2</a>\u001b[0m \u001b[39mfrom\u001b[39;00m \u001b[39mtorch\u001b[39;00m\u001b[39m.\u001b[39;00m\u001b[39mutils\u001b[39;00m\u001b[39m.\u001b[39;00m\u001b[39mdata\u001b[39;00m \u001b[39mimport\u001b[39;00m TensorDataset, DataLoader\n\u001b[1;32m      <a href='vscode-notebook-cell:/Users/brycekratzer/PersonalProjects/Economic-DashBoard/Economic-Web-DashBoard/model/PatchTST.ipynb#W4sZmlsZQ%3D%3D?line=2'>3</a>\u001b[0m \u001b[39mimport\u001b[39;00m \u001b[39mpandas\u001b[39;00m \u001b[39mas\u001b[39;00m \u001b[39mpd\u001b[39;00m\n",
      "\u001b[0;31mImportError\u001b[0m: cannot import name 'PatchTST' from 'transformers' (/opt/anaconda3/envs/Personal_Proj/lib/python3.12/site-packages/transformers/__init__.py)"
     ]
    }
   ],
   "source": [
    "from transformers import PatchTSTConfig, PatchTSTForPrediction, PatchTSTForPretraining\n",
    "from torch.utils.data import TensorDataset, DataLoader\n",
    "import pandas as pd\n",
    "import numpy as np\n",
    "import torch"
   ]
  },
  {
   "cell_type": "code",
   "execution_count": 3,
   "metadata": {},
   "outputs": [
    {
     "data": {
      "text/plain": [
       "{'^GSPC Close': 0,\n",
       " '^GSPC High': 1,\n",
       " '^GSPC Low': 2,\n",
       " '^GSPC Open': 3,\n",
       " '^GSPC Volume': 4,\n",
       " '^DJI Close': 5,\n",
       " '^DJI High': 6,\n",
       " '^DJI Low': 7,\n",
       " '^DJI Open': 8,\n",
       " '^DJI Volume': 9,\n",
       " '^IXIC Close': 10,\n",
       " '^IXIC High': 11,\n",
       " '^IXIC Low': 12,\n",
       " '^IXIC Open': 13,\n",
       " '^IXIC Volume': 14,\n",
       " 'CPIAUCSL': 15,\n",
       " 'DFF': 16,\n",
       " 'UNRATE': 17,\n",
       " 'GDP': 18,\n",
       " 'WM2NS': 19,\n",
       " 'ICSA': 20,\n",
       " 'JTS2300JOL': 21,\n",
       " 'JTS1000JOL': 22,\n",
       " 'JTSJOL': 23,\n",
       " 'PCE': 24,\n",
       " 'REVOLSL': 25,\n",
       " 'TDSP': 26,\n",
       " 'CDSP': 27,\n",
       " 'T10Y2Y': 28,\n",
       " 'T10YFF': 29,\n",
       " 'INDPRO': 30,\n",
       " 'TCU': 31,\n",
       " 'RSAFS': 32,\n",
       " 'PSAVERT': 33,\n",
       " 'MORTGAGE30US': 34,\n",
       " 'HOUST': 35,\n",
       " 'PI': 36}"
      ]
     },
     "execution_count": 3,
     "metadata": {},
     "output_type": "execute_result"
    }
   ],
   "source": [
    "dataset = pd.read_csv('../data/Economic_Data_1994-2025.csv')\n",
    "dataset = dataset.drop(['DATE', 'Unnamed: 0'], axis=1)\n",
    "\n",
    "col_id = {}\n",
    "curr_id = 0\n",
    "for col in dataset:\n",
    "    col_id[col] = curr_id\n",
    "    curr_id = curr_id + 1\n",
    "\n",
    "# Dictionary of what each index represents\n",
    "col_id"
   ]
  },
  {
   "cell_type": "markdown",
   "metadata": {},
   "source": [
    "### Understanding PatchTST\n",
    "\n",
    "- **Context Length**\n",
    "\n",
    "    Context length is how far we look back in total. If we were trying to predict the closing price for the SP500 tomorrow, our context length would be how far we look back to make our prediction.\n",
    "\n",
    "- **Patch Length**\n",
    "\n",
    "    Patch length is like a subset of our context length. When looking at our entire context length, patch length is the looking at each individual week up until tomorrow to make our final prediction\n",
    "\n",
    "- **Patch Stride**\n",
    "\n",
    "    Patch stride is how far our patch length will move after observing an individual week. We can overlap weeks to see any comparisons. "
   ]
  },
  {
   "cell_type": "code",
   "execution_count": 4,
   "metadata": {},
   "outputs": [
    {
     "data": {
      "text/plain": [
       "PatchTSTForPrediction(\n",
       "  (model): PatchTSTModel(\n",
       "    (scaler): PatchTSTScaler(\n",
       "      (scaler): PatchTSTStdScaler()\n",
       "    )\n",
       "    (patchifier): PatchTSTPatchify()\n",
       "    (masking): Identity()\n",
       "    (encoder): PatchTSTEncoder(\n",
       "      (embedder): PatchTSTEmbedding(\n",
       "        (input_embedding): Linear(in_features=10, out_features=128, bias=True)\n",
       "      )\n",
       "      (positional_encoder): PatchTSTPositionalEncoding(\n",
       "        (positional_dropout): Identity()\n",
       "      )\n",
       "      (layers): ModuleList(\n",
       "        (0-2): 3 x PatchTSTEncoderLayer(\n",
       "          (self_attn): PatchTSTAttention(\n",
       "            (k_proj): Linear(in_features=128, out_features=128, bias=True)\n",
       "            (v_proj): Linear(in_features=128, out_features=128, bias=True)\n",
       "            (q_proj): Linear(in_features=128, out_features=128, bias=True)\n",
       "            (out_proj): Linear(in_features=128, out_features=128, bias=True)\n",
       "          )\n",
       "          (dropout_path1): Identity()\n",
       "          (norm_sublayer1): PatchTSTBatchNorm(\n",
       "            (batchnorm): BatchNorm1d(128, eps=1e-05, momentum=0.1, affine=True, track_running_stats=True)\n",
       "          )\n",
       "          (ff): Sequential(\n",
       "            (0): Linear(in_features=128, out_features=512, bias=True)\n",
       "            (1): GELUActivation()\n",
       "            (2): Identity()\n",
       "            (3): Linear(in_features=512, out_features=128, bias=True)\n",
       "          )\n",
       "          (dropout_path3): Identity()\n",
       "          (norm_sublayer3): PatchTSTBatchNorm(\n",
       "            (batchnorm): BatchNorm1d(128, eps=1e-05, momentum=0.1, affine=True, track_running_stats=True)\n",
       "          )\n",
       "        )\n",
       "      )\n",
       "    )\n",
       "  )\n",
       "  (head): PatchTSTPredictionHead(\n",
       "    (flatten): Flatten(start_dim=2, end_dim=-1)\n",
       "    (projection): Linear(in_features=128, out_features=91, bias=True)\n",
       "    (dropout): Identity()\n",
       "  )\n",
       ")"
      ]
     },
     "execution_count": 4,
     "metadata": {},
     "output_type": "execute_result"
    }
   ],
   "source": [
    "# How many features we are including \n",
    "NUM_INPUT = len(dataset.columns)\n",
    "\n",
    "# For What we are predicting\n",
    "NUM_TARGET = 2\n",
    "\n",
    "# How many steps we take in the context length\n",
    "CONTEXT_LEN = 365\n",
    "\n",
    "# How many steps we take in the context length\n",
    "PATCH_LEN = 10\n",
    "\n",
    "# How far we move our patch length\n",
    "PATCH_STRD = 5\n",
    "\n",
    "NUM_ATT_HEADS = 8\n",
    "\n",
    "# How many days to predict into the future\n",
    "PRED_LEN = int(365 / 4)\n",
    "\n",
    "# Configuring Model\n",
    "config = PatchTSTConfig(\n",
    "    num_input_channels = NUM_INPUT,\n",
    "    num_target = NUM_TARGET,\n",
    "    context_length = CONTEXT_LEN,\n",
    "    patch_length = PATCH_LEN,\n",
    "    patch_stride = PATCH_STRD,\n",
    "    num_attention_heads = NUM_ATT_HEADS,\n",
    "    prediction_length = PRED_LEN\n",
    ")\n",
    "\n",
    "model = PatchTSTForPrediction(config)\n",
    "model"
   ]
  },
  {
   "cell_type": "code",
   "execution_count": 5,
   "metadata": {},
   "outputs": [],
   "source": [
    "# Set up constraints for development\n",
    "num_train = int(len(dataset) * .7)\n",
    "num_test = int(len(dataset) * .2)\n",
    "num_val = int(len(dataset) * .1)\n",
    "\n",
    "targets = dataset\n",
    "features = dataset"
   ]
  },
  {
   "cell_type": "markdown",
   "metadata": {},
   "source": [
    "**Getting Target/Input Features**\n",
    "\n",
    "This part is a little odd. \n",
    "\n",
    "- **Input Features**\n",
    "\n",
    "    To get the target features all we need to do is construct a window that looks at the past N amount of days for each data point.\n",
    "    We include the features we want to predict which makes it **Self Supervised**. \n",
    "\n",
    "- **Output Features**\n",
    "\n",
    "    What we are doing is getting the actual targets we want to predict and making a future window for just the 2 features. \n",
    "    In this case we are looking 90 days into the future, or what the model is predicting, and grabbing those values. This is used \n",
    "    for the model to evalute it's prediction"
   ]
  },
  {
   "cell_type": "code",
   "execution_count": 6,
   "metadata": {},
   "outputs": [],
   "source": [
    "# Creates a context window for each data point to feed into the model during training\n",
    "def create_sequence_windows(data, window_size):\n",
    "    windows = []\n",
    "    \n",
    "    # We start in the dataFrame at an index 'window_size' and look back depending on the window size\n",
    "    # We will grab a context window for all data points\n",
    "    for i in range(len(data) - window_size + 1):\n",
    "        windows.append(data.iloc[i:i+window_size].values)\n",
    "    return np.array(windows)\n",
    "\n",
    "input_windows = create_sequence_windows(features, CONTEXT_LEN)\n",
    "\n",
    "# Remove values at the end that don't have enough future data\n",
    "input_windows = input_windows[0:7459-91]"
   ]
  },
  {
   "cell_type": "code",
   "execution_count": 7,
   "metadata": {},
   "outputs": [],
   "source": [
    "# Gets indices for the target variables, starting from where we first start predicting with a full context length\n",
    "# to the last index that will allow for a full prediction\n",
    "target_indices = range(CONTEXT_LEN, len(features) - PRED_LEN + 1)"
   ]
  },
  {
   "cell_type": "code",
   "execution_count": 8,
   "metadata": {},
   "outputs": [
    {
     "data": {
      "text/plain": [
       "(7368, 91, 37)"
      ]
     },
     "execution_count": 8,
     "metadata": {},
     "output_type": "execute_result"
    }
   ],
   "source": [
    "target_windows = [targets.iloc[i:i+PRED_LEN].values for i in target_indices]\n",
    "target_windows = np.array(target_windows)\n",
    "target_windows.shape"
   ]
  },
  {
   "cell_type": "code",
   "execution_count": 9,
   "metadata": {},
   "outputs": [],
   "source": [
    "past_values = torch.tensor(input_windows, dtype=torch.float32)\n",
    "future_values = torch.tensor(target_windows, dtype=torch.float32)"
   ]
  },
  {
   "cell_type": "code",
   "execution_count": 10,
   "metadata": {},
   "outputs": [],
   "source": [
    "data = TensorDataset(past_values, future_values)\n",
    "dataloader = DataLoader(data, batch_size=32, shuffle=True)"
   ]
  },
  {
   "cell_type": "code",
   "execution_count": 11,
   "metadata": {},
   "outputs": [],
   "source": [
    "device = torch.device('mps')\n",
    "model = model.to(device)"
   ]
  },
  {
   "cell_type": "code",
   "execution_count": 12,
   "metadata": {},
   "outputs": [],
   "source": [
    "from tqdm import tqdm"
   ]
  },
  {
   "cell_type": "code",
   "execution_count": 13,
   "metadata": {},
   "outputs": [
    {
     "name": "stderr",
     "output_type": "stream",
     "text": [
      "  0%|          | 0/231 [00:00<?, ?it/s]"
     ]
    },
    {
     "name": "stderr",
     "output_type": "stream",
     "text": [
      "Epoch 0: 100%|██████████| 231/231 [01:28<00:00,  2.62it/s, loss=1.77e+3]\n",
      "Epoch 1: 100%|██████████| 231/231 [01:27<00:00,  2.63it/s, loss=118]    \n",
      "Epoch 2: 100%|██████████| 231/231 [01:26<00:00,  2.67it/s, loss=62.9]\n",
      "Epoch 3: 100%|██████████| 231/231 [01:27<00:00,  2.65it/s, loss=48.5]  \n",
      "Epoch 4: 100%|██████████| 231/231 [01:27<00:00,  2.64it/s, loss=271] \n",
      "Epoch 5: 100%|██████████| 231/231 [01:29<00:00,  2.59it/s, loss=6.6] \n",
      "Epoch 6: 100%|██████████| 231/231 [01:27<00:00,  2.64it/s, loss=45]  \n",
      "Epoch 7: 100%|██████████| 231/231 [01:28<00:00,  2.61it/s, loss=3.24]\n",
      "Epoch 8: 100%|██████████| 231/231 [01:28<00:00,  2.60it/s, loss=30.9]\n",
      "Epoch 9: 100%|██████████| 231/231 [01:27<00:00,  2.65it/s, loss=10.5]\n"
     ]
    }
   ],
   "source": [
    "optimizer = torch.optim.Adam(model.parameters(), lr=.001)\n",
    "epochs = 10\n",
    "\n",
    "model.train()\n",
    "for epoch in range(epochs):\n",
    "\n",
    "    loop = tqdm(dataloader, leave=True)\n",
    "    losses = []\n",
    "    \n",
    "    for past_values, future_values in loop:\n",
    "        optimizer.zero_grad()\n",
    "        \n",
    "        past_values = past_values.to(device)\n",
    "        future_values = future_values.to(device)\n",
    "        \n",
    "        outputs = model(past_values=past_values, future_values=future_values)\n",
    "        \n",
    "        loss = outputs.loss\n",
    "        loss.backward()\n",
    "        \n",
    "        optimizer.step()\n",
    "        \n",
    "        loop.set_description(f'Epoch {epoch}')\n",
    "        loop.set_postfix(loss=loss.item())\n"
   ]
  },
  {
   "cell_type": "code",
   "execution_count": 14,
   "metadata": {},
   "outputs": [],
   "source": [
    "torch.save(model.state_dict(), 'Economic_Model_V1.bin')"
   ]
  },
  {
   "cell_type": "markdown",
   "metadata": {},
   "source": [
    "## Evaluate"
   ]
  },
  {
   "cell_type": "code",
   "execution_count": 22,
   "metadata": {},
   "outputs": [
    {
     "data": {
      "text/plain": [
       "PatchTSTForPrediction(\n",
       "  (model): PatchTSTModel(\n",
       "    (scaler): PatchTSTScaler(\n",
       "      (scaler): PatchTSTStdScaler()\n",
       "    )\n",
       "    (patchifier): PatchTSTPatchify()\n",
       "    (masking): Identity()\n",
       "    (encoder): PatchTSTEncoder(\n",
       "      (embedder): PatchTSTEmbedding(\n",
       "        (input_embedding): Linear(in_features=10, out_features=128, bias=True)\n",
       "      )\n",
       "      (positional_encoder): PatchTSTPositionalEncoding(\n",
       "        (positional_dropout): Identity()\n",
       "      )\n",
       "      (layers): ModuleList(\n",
       "        (0-2): 3 x PatchTSTEncoderLayer(\n",
       "          (self_attn): PatchTSTAttention(\n",
       "            (k_proj): Linear(in_features=128, out_features=128, bias=True)\n",
       "            (v_proj): Linear(in_features=128, out_features=128, bias=True)\n",
       "            (q_proj): Linear(in_features=128, out_features=128, bias=True)\n",
       "            (out_proj): Linear(in_features=128, out_features=128, bias=True)\n",
       "          )\n",
       "          (dropout_path1): Identity()\n",
       "          (norm_sublayer1): PatchTSTBatchNorm(\n",
       "            (batchnorm): BatchNorm1d(128, eps=1e-05, momentum=0.1, affine=True, track_running_stats=True)\n",
       "          )\n",
       "          (ff): Sequential(\n",
       "            (0): Linear(in_features=128, out_features=512, bias=True)\n",
       "            (1): GELUActivation()\n",
       "            (2): Identity()\n",
       "            (3): Linear(in_features=512, out_features=128, bias=True)\n",
       "          )\n",
       "          (dropout_path3): Identity()\n",
       "          (norm_sublayer3): PatchTSTBatchNorm(\n",
       "            (batchnorm): BatchNorm1d(128, eps=1e-05, momentum=0.1, affine=True, track_running_stats=True)\n",
       "          )\n",
       "        )\n",
       "      )\n",
       "    )\n",
       "  )\n",
       "  (head): PatchTSTPredictionHead(\n",
       "    (flatten): Flatten(start_dim=2, end_dim=-1)\n",
       "    (projection): Linear(in_features=128, out_features=91, bias=True)\n",
       "    (dropout): Identity()\n",
       "  )\n",
       ")"
      ]
     },
     "execution_count": 22,
     "metadata": {},
     "output_type": "execute_result"
    }
   ],
   "source": [
    "model_eval = PatchTSTForPrediction(config=config)\n",
    "\n",
    "model_eval.load_state_dict(torch.load('Economic_Model_V1.bin'))\n",
    "model_eval.eval()\n"
   ]
  },
  {
   "cell_type": "code",
   "execution_count": 23,
   "metadata": {},
   "outputs": [],
   "source": [
    "features = dataset.iloc[-CONTEXT_LEN:].values  # Last CONTEXT_LEN days\n",
    "x = torch.FloatTensor(features).unsqueeze(0)"
   ]
  },
  {
   "cell_type": "code",
   "execution_count": 30,
   "metadata": {},
   "outputs": [],
   "source": [
    "with torch.no_grad():\n",
    "    predictions = model_eval(x)\n",
    "\n",
    "predictions = predictions.prediction_outputs"
   ]
  },
  {
   "cell_type": "code",
   "execution_count": 54,
   "metadata": {},
   "outputs": [],
   "source": [
    "predictions = predictions.squeeze(0).numpy()"
   ]
  },
  {
   "cell_type": "code",
   "execution_count": 55,
   "metadata": {},
   "outputs": [
    {
     "data": {
      "text/plain": [
       "(91, 37)"
      ]
     },
     "execution_count": 55,
     "metadata": {},
     "output_type": "execute_result"
    }
   ],
   "source": [
    "pred_np =predictions"
   ]
  },
  {
   "cell_type": "code",
   "execution_count": 50,
   "metadata": {},
   "outputs": [
    {
     "data": {
      "text/plain": [
       "Timestamp('2025-03-30 00:00:00')"
      ]
     },
     "execution_count": 50,
     "metadata": {},
     "output_type": "execute_result"
    }
   ],
   "source": [
    "import pandas as pd\n",
    "from datetime import datetime, timedelta\n",
    "\n",
    "df = pd.read_csv('../data/Economic_Data_1994-2025.csv')\n",
    "\n",
    "# Get the last date in your dataset\n",
    "last_date = pd.to_datetime(df['DATE'])\n",
    "last_date = last_date[7822]\n",
    "\n",
    "# Create date range for predictions\n",
    "future_dates = pd.date_range(\n",
    "    start=last_date + timedelta(days=1),\n",
    "    periods=PRED_LEN,\n",
    "    freq='D'\n",
    ")\n",
    "\n"
   ]
  },
  {
   "cell_type": "code",
   "execution_count": 66,
   "metadata": {},
   "outputs": [],
   "source": [
    "df_copy = df.drop(['DATE', 'Unnamed: 0'], axis=1)\n",
    "\n",
    "pred_df = pd.DataFrame(pred_np, columns=df_copy.columns)\n",
    "\n",
    "pred_df['DATE'] = future_dates\n",
    "\n",
    "result_df = pd.concat([df, pred_df], ignore_index=True)"
   ]
  },
  {
   "cell_type": "code",
   "execution_count": 82,
   "metadata": {},
   "outputs": [],
   "source": [
    "result_df['DATE'] = pd.to_datetime(result_df['DATE'])"
   ]
  },
  {
   "cell_type": "code",
   "execution_count": 85,
   "metadata": {},
   "outputs": [],
   "source": [
    "import matplotlib.pyplot as plt\n",
    "\n",
    "def plot_time_frame_x2(year_start, year_end, df, x1, x2):\n",
    "    df_tf = df[(df['DATE'].dt.year >= year_start) & (df['DATE'].dt.year <= year_end)]\n",
    "\n",
    "    plt.plot(df_tf['DATE'], df_tf[x1], label=x1)\n",
    "    plt.plot(df_tf['DATE'], df_tf[x2], label=x2)\n",
    "    plt.legend()\n",
    "    plt.show()"
   ]
  },
  {
   "cell_type": "code",
   "execution_count": 86,
   "metadata": {},
   "outputs": [
    {
     "data": {
      "image/png": "[encoded data removed]",
      "text/plain": [
       "<Figure size 640x480 with 1 Axes>"
      ]
     },
     "metadata": {},
     "output_type": "display_data"
    }
   ],
   "source": [
    "plot_time_frame_x2(2025, 2025, result_df, '^GSPC Close', '^DJI Close')"
   ]
  },
  {
   "cell_type": "code",
   "execution_count": null,
   "metadata": {},
   "outputs": [],
   "source": []
  }
 ],
 "metadata": {
  "kernelspec": {
   "display_name": "Personal_Proj",
   "language": "python",
   "name": "python3"
  },
  "language_info": {
   "codemirror_mode": {
    "name": "ipython",
    "version": 3
   },
   "file_extension": ".py",
   "mimetype": "text/x-python",
   "name": "python",
   "nbconvert_exporter": "python",
   "pygments_lexer": "ipython3",
   "version": "3.12.8"
  }
 },
 "nbformat": 4,
 "nbformat_minor": 2
}
