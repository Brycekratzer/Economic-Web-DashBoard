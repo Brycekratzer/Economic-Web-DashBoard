{
 "cells": [
  {
   "cell_type": "markdown",
   "metadata": {},
   "source": [
    "# PatchTST Model Development"
   ]
  },
  {
   "cell_type": "markdown",
   "metadata": {},
   "source": [
    "In this section we will develop the PatchTST model to predict S&P Close, Dow Jones Close."
   ]
  },
  {
   "cell_type": "markdown",
   "metadata": {},
   "source": [
    "## Model Congfiguration "
   ]
  },
  {
   "cell_type": "markdown",
   "metadata": {},
   "source": [
    "We will configure the PatchTST model based on the `Economic_Data_1994_2025` dataset we processed"
   ]
  },
  {
   "cell_type": "code",
   "execution_count": 2,
   "metadata": {},
   "outputs": [
    {
     "name": "stderr",
     "output_type": "stream",
     "text": [
      "/opt/anaconda3/envs/Personal_Proj/lib/python3.12/site-packages/tqdm/auto.py:21: TqdmWarning: IProgress not found. Please update jupyter and ipywidgets. See https://ipywidgets.readthedocs.io/en/stable/user_install.html\n",
      "  from .autonotebook import tqdm as notebook_tqdm\n"
     ]
    }
   ],
   "source": [
    "from transformers import PatchTSTConfig, PatchTSTForPrediction, PatchTSTForPretraining\n",
    "from torch.utils.data import TensorDataset, DataLoader\n",
    "import pandas as pd\n",
    "import numpy as np\n",
    "from tqdm import tqdm\n",
    "import torch"
   ]
  },
  {
   "cell_type": "code",
   "execution_count": 79,
   "metadata": {},
   "outputs": [
    {
     "data": {
      "text/plain": [
       "device(type='mps')"
      ]
     },
     "execution_count": 79,
     "metadata": {},
     "output_type": "execute_result"
    }
   ],
   "source": [
    "# For faster development\n",
    "device = torch.device('mps')\n",
    "device"
   ]
  },
  {
   "cell_type": "code",
   "execution_count": 80,
   "metadata": {},
   "outputs": [],
   "source": [
    "dataset = pd.read_csv('../data/Economic_Data_1994-2025.csv')\n",
    "dataset = dataset.drop(['DATE', 'Unnamed: 0'], axis=1)"
   ]
  },
  {
   "cell_type": "markdown",
   "metadata": {},
   "source": [
    "## Understanding PatchTST"
   ]
  },
  {
   "cell_type": "markdown",
   "metadata": {},
   "source": [
    "- **Context Length**\n",
    "\n",
    "    Context length is how far we look back in total. If we were trying to predict the closing price for the SP500 tomorrow, our context length would be how far we look back to make our prediction.\n",
    "\n",
    "- **Patch Length**\n",
    "\n",
    "    Patch length is like a subset of our context length. When looking at our entire context length, patch length is the looking at each individual week up until tomorrow to make our final prediction\n",
    "\n",
    "- **Patch Stride**\n",
    "\n",
    "    Patch stride is how far our patch length will move after observing an individual week. We can overlap weeks to see any comparisons.\n",
    "    \n",
    "For each batch we will pass N amount of rows. Each row has previous rows (context length) attached to it. For each row & it's context length we pass it into our model to train on. During the training process we will used. masked forecasting. This will mask the last portion of our patch's for the model to predict. It then check's it's guesses and updates its weights accordingly."
   ]
  },
  {
   "cell_type": "markdown",
   "metadata": {},
   "source": [
    "## PreTraining Model"
   ]
  },
  {
   "cell_type": "markdown",
   "metadata": {},
   "source": [
    "The pre-training model will learn ***every*** column in our dataset from all dates. This will help the model develop relationships between all variables. "
   ]
  },
  {
   "cell_type": "code",
   "execution_count": 81,
   "metadata": {},
   "outputs": [],
   "source": [
    "# How many features we are including \n",
    "NUM_INPUT = len(dataset.columns)\n",
    "\n",
    "# Batch size for training\n",
    "BATCH_SIZE = 16\n",
    "\n",
    "# For What we are predicting\n",
    "NUM_TARGET = 2\n",
    "\n",
    "# How many steps we take in the context length\n",
    "CONTEXT_LEN = 60\n",
    "\n",
    "# How many steps we take in the context length\n",
    "PATCH_LEN = 5\n",
    "\n",
    "# How far we move our patch length\n",
    "PATCH_STRD = 4\n",
    "\n",
    "# How our model is trained\n",
    "MASK_TYPE = 'forecast'\n",
    "\n",
    "# How many patches are masked for prediction during training\n",
    "\n",
    "NUM_ATT_HEADS = 8\n",
    "\n",
    "# How many days to predict into the future\n",
    "PRED_LEN = int(365 / 4)\n",
    "\n",
    "# Configuring Model\n",
    "pretrain_config = PatchTSTConfig(\n",
    "    num_input_channels = NUM_INPUT,\n",
    "    context_length = CONTEXT_LEN,\n",
    "    patch_length = PATCH_LEN,\n",
    "    stride = PATCH_STRD,\n",
    "    mask_type='forecast',\n",
    "    num_forecast_mask_patches = [int(BATCH_SIZE * .2)], # 20% of our batch\n",
    "    do_mask_input=False\n",
    ")\n",
    "\n",
    "pretrain_model = PatchTSTForPretraining(pretrain_config)"
   ]
  },
  {
   "cell_type": "markdown",
   "metadata": {},
   "source": [
    "Here we are splitting up our data into 2 portions. A `test` set and a `train` set. The test set is used to evalute our model based on training from the train set\n",
    "\n",
    "We split it 80/10/10, where 80% of our data is training data, and 10% of our data is testing, and 10% is validation for each epoch."
   ]
  },
  {
   "cell_type": "code",
   "execution_count": 83,
   "metadata": {},
   "outputs": [],
   "source": [
    "# Set up constraints for development\n",
    "num_train = int(len(dataset) * .8)\n",
    "num_test = int(len(dataset) * .1)\n",
    "num_val = int(len(dataset) * .1)\n",
    "\n",
    "# Breaking up the data into train/test sets.\n",
    "train = dataset[0: num_train]\n",
    "test = dataset[num_train:num_test + num_train]\n",
    "val = dataset[num_test+num_train:(num_test+num_train) + num_val]"
   ]
  },
  {
   "cell_type": "markdown",
   "metadata": {},
   "source": [
    "This portion here grabs context windows for all rows in our train/test sets"
   ]
  },
  {
   "cell_type": "code",
   "execution_count": 84,
   "metadata": {},
   "outputs": [],
   "source": [
    "# Creates a context window for each data point to feed into the model during training\n",
    "def create_sequence_windows(data, window_size):\n",
    "    windows = []\n",
    "    \n",
    "    # We start in the dataFrame at an index 'window_size' and look back depending on the window size\n",
    "    # We will grab a context window for all data points\n",
    "    for i in range(len(data) - window_size + 1):\n",
    "        windows.append(data.iloc[i:i+window_size].values)\n",
    "    return np.array(windows)\n",
    "\n",
    "train_windows = create_sequence_windows(train, CONTEXT_LEN)\n",
    "test_windows = create_sequence_windows(test, CONTEXT_LEN)\n",
    "val_windows = create_sequence_windows(val, CONTEXT_LEN)"
   ]
  },
  {
   "cell_type": "code",
   "execution_count": 85,
   "metadata": {},
   "outputs": [],
   "source": [
    "# Puts our data in PyTorch tensors for proper data types during training\n",
    "past_values_train = torch.tensor(train_windows, dtype=torch.float32)\n",
    "past_values_test = torch.tensor(test_windows, dtype=torch.float32)\n",
    "past_values_val = torch.tensor(val_windows, dtype=torch.float32)"
   ]
  },
  {
   "cell_type": "markdown",
   "metadata": {},
   "source": [
    "Preparing our data to be passed into our model for pre training"
   ]
  },
  {
   "cell_type": "code",
   "execution_count": 86,
   "metadata": {},
   "outputs": [],
   "source": [
    "# Puts the tensors in a dataset for the dataloader to properly use\n",
    "data_train = TensorDataset(past_values_train)\n",
    "\n",
    "# Divides our data into batches based on the BATCH_SIZE\n",
    "dataloader_train = DataLoader(data_train, batch_size=BATCH_SIZE, shuffle=True)\n",
    "\n",
    "data_test = TensorDataset(past_values_test)\n",
    "dataloader_test = DataLoader(data_test, batch_size=BATCH_SIZE)\n",
    "\n",
    "data_val = TensorDataset(past_values_val)\n",
    "dataloader_val = DataLoader(data_val, batch_size=BATCH_SIZE)"
   ]
  },
  {
   "cell_type": "code",
   "execution_count": 87,
   "metadata": {},
   "outputs": [],
   "source": [
    "pretrain_model = pretrain_model.to(device)"
   ]
  },
  {
   "cell_type": "markdown",
   "metadata": {},
   "source": [
    "### Pre-Training"
   ]
  },
  {
   "cell_type": "markdown",
   "metadata": {},
   "source": [
    "Here we are training our model by doing the following:\n",
    "\n",
    "1. Divide Training into Epoch\n",
    "    - For each epoch we:\n",
    "        - Set model to train mode\n",
    "        - Pass in all of our data one batch size at a time\n",
    "        - After training on a patch we update our parameters\n",
    "        - Put our model into evaluation mode\n",
    "        - Test on our validation set and print results to output\n",
    "2. Final Train\n",
    "    - Once we pass through all epochs we do a final test on our\n",
    "        never seen data, `test` set. \n",
    "    - We iterate through our data one batch size at a time and evaluate the model\n",
    "        one last time"
   ]
  },
  {
   "cell_type": "code",
   "execution_count": 88,
   "metadata": {},
   "outputs": [
    {
     "name": "stderr",
     "output_type": "stream",
     "text": [
      "Epoch 0: 100%|██████████| 388/388 [00:59<00:00,  6.49it/s, loss=0.199] \n"
     ]
    },
    {
     "name": "stdout",
     "output_type": "stream",
     "text": [
      "Mean Training Loss 0.19811561421404794\n"
     ]
    },
    {
     "name": "stderr",
     "output_type": "stream",
     "text": [
      "Epoch 0: 100%|██████████| 46/46 [00:09<00:00,  4.95it/s, loss=0.184] \n"
     ]
    },
    {
     "name": "stdout",
     "output_type": "stream",
     "text": [
      "Mean Training Loss for validation set on EPOCH 0 : 0.12264834571143855\n"
     ]
    },
    {
     "name": "stderr",
     "output_type": "stream",
     "text": [
      "Epoch 1: 100%|██████████| 388/388 [00:49<00:00,  7.91it/s, loss=0.487]\n"
     ]
    },
    {
     "name": "stdout",
     "output_type": "stream",
     "text": [
      "Mean Training Loss 3.082270907871809\n"
     ]
    },
    {
     "name": "stderr",
     "output_type": "stream",
     "text": [
      "Epoch 1: 100%|██████████| 46/46 [00:01<00:00, 24.02it/s, loss=0.432]\n"
     ]
    },
    {
     "name": "stdout",
     "output_type": "stream",
     "text": [
      "Mean Training Loss for validation set on EPOCH 1 : 0.5722824859878292\n"
     ]
    },
    {
     "name": "stderr",
     "output_type": "stream",
     "text": [
      "Epoch 2: 100%|██████████| 388/388 [00:48<00:00,  7.93it/s, loss=6.6]    \n"
     ]
    },
    {
     "name": "stdout",
     "output_type": "stream",
     "text": [
      "Mean Training Loss 515.7107951557359\n"
     ]
    },
    {
     "name": "stderr",
     "output_type": "stream",
     "text": [
      "Epoch 2: 100%|██████████| 46/46 [00:01<00:00, 23.74it/s, loss=7.52]\n"
     ]
    },
    {
     "name": "stdout",
     "output_type": "stream",
     "text": [
      "Mean Training Loss for validation set on EPOCH 2 : 7.546136296313742\n"
     ]
    },
    {
     "name": "stderr",
     "output_type": "stream",
     "text": [
      "Epoch 3: 100%|██████████| 388/388 [00:49<00:00,  7.82it/s, loss=4.27]\n"
     ]
    },
    {
     "name": "stdout",
     "output_type": "stream",
     "text": [
      "Mean Training Loss 6.182767348805654\n"
     ]
    },
    {
     "name": "stderr",
     "output_type": "stream",
     "text": [
      "Epoch 3: 100%|██████████| 46/46 [00:01<00:00, 23.78it/s, loss=9.47]\n"
     ]
    },
    {
     "name": "stdout",
     "output_type": "stream",
     "text": [
      "Mean Training Loss for validation set on EPOCH 3 : 5.628124957499296\n"
     ]
    },
    {
     "name": "stderr",
     "output_type": "stream",
     "text": [
      "Epoch 4: 100%|██████████| 388/388 [00:49<00:00,  7.81it/s, loss=3.19]\n"
     ]
    },
    {
     "name": "stdout",
     "output_type": "stream",
     "text": [
      "Mean Training Loss 5.414813171342476\n"
     ]
    },
    {
     "name": "stderr",
     "output_type": "stream",
     "text": [
      "Epoch 4: 100%|██████████| 46/46 [00:02<00:00, 22.77it/s, loss=5.85]\n"
     ]
    },
    {
     "name": "stdout",
     "output_type": "stream",
     "text": [
      "Mean Training Loss for validation set on EPOCH 4 : 3.966689161632372\n"
     ]
    },
    {
     "name": "stderr",
     "output_type": "stream",
     "text": [
      "Epoch 5: 100%|██████████| 388/388 [00:48<00:00,  7.95it/s, loss=13.6]\n"
     ]
    },
    {
     "name": "stdout",
     "output_type": "stream",
     "text": [
      "Mean Training Loss 5.067326193617792\n"
     ]
    },
    {
     "name": "stderr",
     "output_type": "stream",
     "text": [
      "Epoch 5: 100%|██████████| 46/46 [00:01<00:00, 23.15it/s, loss=4.5] \n"
     ]
    },
    {
     "name": "stdout",
     "output_type": "stream",
     "text": [
      "Mean Training Loss for validation set on EPOCH 5 : 3.745139075362164\n"
     ]
    },
    {
     "name": "stderr",
     "output_type": "stream",
     "text": [
      "Epoch 6: 100%|██████████| 388/388 [00:48<00:00,  8.04it/s, loss=14.7]\n"
     ]
    },
    {
     "name": "stdout",
     "output_type": "stream",
     "text": [
      "Mean Training Loss 5.467807463763916\n"
     ]
    },
    {
     "name": "stderr",
     "output_type": "stream",
     "text": [
      "Epoch 6: 100%|██████████| 46/46 [00:01<00:00, 23.52it/s, loss=2.86]\n"
     ]
    },
    {
     "name": "stdout",
     "output_type": "stream",
     "text": [
      "Mean Training Loss for validation set on EPOCH 6 : 5.205370581668356\n"
     ]
    },
    {
     "name": "stderr",
     "output_type": "stream",
     "text": [
      "Epoch 7: 100%|██████████| 388/388 [00:48<00:00,  8.06it/s, loss=1.37]\n"
     ]
    },
    {
     "name": "stdout",
     "output_type": "stream",
     "text": [
      "Mean Training Loss 2.225867042836455\n"
     ]
    },
    {
     "name": "stderr",
     "output_type": "stream",
     "text": [
      "Epoch 7: 100%|██████████| 46/46 [00:01<00:00, 24.18it/s, loss=2.35]\n"
     ]
    },
    {
     "name": "stdout",
     "output_type": "stream",
     "text": [
      "Mean Training Loss for validation set on EPOCH 7 : 1.882491181726041\n"
     ]
    },
    {
     "name": "stderr",
     "output_type": "stream",
     "text": [
      "Epoch 8: 100%|██████████| 388/388 [00:48<00:00,  8.04it/s, loss=0.928]\n"
     ]
    },
    {
     "name": "stdout",
     "output_type": "stream",
     "text": [
      "Mean Training Loss 1.5729254794489478\n"
     ]
    },
    {
     "name": "stderr",
     "output_type": "stream",
     "text": [
      "Epoch 8: 100%|██████████| 46/46 [00:01<00:00, 23.43it/s, loss=1.44] \n"
     ]
    },
    {
     "name": "stdout",
     "output_type": "stream",
     "text": [
      "Mean Training Loss for validation set on EPOCH 8 : 1.3628585947596508\n"
     ]
    },
    {
     "name": "stderr",
     "output_type": "stream",
     "text": [
      "Epoch 9: 100%|██████████| 388/388 [00:50<00:00,  7.76it/s, loss=1.3] \n"
     ]
    },
    {
     "name": "stdout",
     "output_type": "stream",
     "text": [
      "Mean Training Loss 1.5017029068519159\n"
     ]
    },
    {
     "name": "stderr",
     "output_type": "stream",
     "text": [
      "Epoch 9: 100%|██████████| 46/46 [00:02<00:00, 21.38it/s, loss=1.22] \n"
     ]
    },
    {
     "name": "stdout",
     "output_type": "stream",
     "text": [
      "Mean Training Loss for validation set on EPOCH 9 : 1.351538457300352\n"
     ]
    },
    {
     "name": "stderr",
     "output_type": "stream",
     "text": [
      "Test: 100%|██████████| 46/46 [00:01<00:00, 24.15it/s, loss=1.08] "
     ]
    },
    {
     "name": "stdout",
     "output_type": "stream",
     "text": [
      "Mean Training Loss for test set : 1.285752334024595\n"
     ]
    },
    {
     "name": "stderr",
     "output_type": "stream",
     "text": [
      "\n"
     ]
    }
   ],
   "source": [
    "optimizer = torch.optim.Adam(pretrain_model.parameters(), lr=.001)\n",
    "epochs = 10\n",
    "\n",
    "\n",
    "for epoch in range(epochs):\n",
    "\n",
    "    # Allows for progress bar during training per epoch\n",
    "    loop = tqdm(dataloader_train, leave=True)\n",
    "    losses = []\n",
    "    \n",
    "    for batch in loop:\n",
    "        \n",
    "        # Puts model in train mode\n",
    "        pretrain_model.train()\n",
    "        \n",
    "        # Clears any previous gradient calculations\n",
    "        optimizer.zero_grad()\n",
    "        \n",
    "        # Transfers batch onto GPU for faster processing\n",
    "        past_values = batch[0].to(device)\n",
    "        \n",
    "        # Foward pass through our model, generates predictions\n",
    "        outputs = pretrain_model(past_values=past_values)\n",
    "        \n",
    "        # Get's the loss for our predictions (how far off our predictions were)\n",
    "        loss = outputs.loss\n",
    "        \n",
    "        # Calculates which weights contributed to the error of our prediction\n",
    "        loss.backward()\n",
    "        \n",
    "        # Updates the optimizer based on the calculations made from loss.backward()\n",
    "        optimizer.step()\n",
    "        \n",
    "        loop.set_description(f'Epoch {epoch}')\n",
    "        loop.set_postfix(loss=loss.item())\n",
    "        losses.append(loss.item())\n",
    "    \n",
    "    print(\"Mean Training Loss\", np.mean(losses))\n",
    "        \n",
    "    pretrain_model.eval()\n",
    "    losses = []\n",
    "\n",
    "    loop = tqdm(dataloader_val, leave=True)\n",
    "    \n",
    "    for batch in loop:\n",
    "        pretrain_model.eval()\n",
    "        \n",
    "        past_values = batch[0].to(device)\n",
    "        \n",
    "        outputs = pretrain_model(past_values=past_values)\n",
    "        \n",
    "        loss = outputs.loss\n",
    "        \n",
    "        loop.set_description(f'Epoch {epoch}')\n",
    "        loop.set_postfix(loss=loss.item())\n",
    "        losses.append(loss.item())\n",
    "        \n",
    "    print(f\"Mean Training Loss for validation set on EPOCH {epoch} : {np.mean(losses)}\")\n",
    "\n",
    "pretrain_model.eval()\n",
    "losses = []\n",
    "\n",
    "loop = tqdm(dataloader_test, leave=True)\n",
    "\n",
    "for batch in loop:\n",
    "    \n",
    "    past_values = batch[0].to(device)\n",
    "    \n",
    "    outputs = pretrain_model(past_values=past_values)\n",
    "    \n",
    "    loss = outputs.loss\n",
    "    \n",
    "    loop.set_description(f'Test')\n",
    "    loop.set_postfix(loss=loss.item())\n",
    "    losses.append(loss.item())\n",
    "    \n",
    "print(f\"Mean Training Loss for test set : {np.mean(losses)}\")"
   ]
  },
  {
   "cell_type": "code",
   "execution_count": 89,
   "metadata": {},
   "outputs": [],
   "source": [
    "torch.save(pretrain_model.state_dict(), 'pretrain_model_mask_v2.bin')"
   ]
  },
  {
   "cell_type": "markdown",
   "metadata": {},
   "source": [
    "### Model Logs"
   ]
  },
  {
   "cell_type": "markdown",
   "metadata": {},
   "source": [
    "#### Parameters Set 1"
   ]
  },
  {
   "cell_type": "code",
   "execution_count": 20,
   "metadata": {},
   "outputs": [],
   "source": [
    "NUM_INPUT = len(dataset.columns)\n",
    "BATCH_SIZE = 16\n",
    "CONTEXT_LEN = 190\n",
    "PATCH_LEN = 10\n",
    "PATCH_STRD = 8\n",
    "MASK_TYPE = 'forecast'\n",
    "NUM_ATT_HEADS = 8\n",
    "PRED_LEN = int(365 / 4)\n",
    "num_forecast_mask_patches = [int(BATCH_SIZE * .2)]"
   ]
  },
  {
   "cell_type": "markdown",
   "metadata": {},
   "source": [
    "- **pretrained_model_no_mask** \n",
    "\n",
    "    Mean Training Loss for test set : 0.0191\n",
    "\n",
    "- **pretrained_model_mask** \n",
    "\n",
    "    Mean Training Loss for test set : 0.0199\n"
   ]
  },
  {
   "cell_type": "markdown",
   "metadata": {},
   "source": [
    "#### Parameters Set 2"
   ]
  },
  {
   "cell_type": "code",
   "execution_count": 21,
   "metadata": {},
   "outputs": [],
   "source": [
    "NUM_INPUT = len(dataset.columns)\n",
    "BATCH_SIZE = 16\n",
    "CONTEXT_LEN = 60 # Only looking back 60 days instead of 190\n",
    "PATCH_LEN = 5 # Look at each prior week before for each data point in context length \n",
    "PATCH_STRD = 4 # Move window while keeping the last week's most recent day in set.\n",
    "MASK_TYPE = 'forecast'\n",
    "NUM_ATT_HEADS = 8\n",
    "PRED_LEN = int(365 / 4)\n",
    "num_forecast_mask_patches = [int(BATCH_SIZE * .2)]"
   ]
  },
  {
   "cell_type": "markdown",
   "metadata": {},
   "source": [
    "- **pretrained_model_no_mask** \n",
    "\n",
    "    Mean Training Loss for test set : \n",
    "\n",
    "- **pretrained_model_mask** \n",
    "\n",
    "    Mean Training Loss for test set : 1.29"
   ]
  },
  {
   "cell_type": "markdown",
   "metadata": {},
   "source": [
    "## Fine-Tuning"
   ]
  },
  {
   "cell_type": "code",
   "execution_count": 78,
   "metadata": {},
   "outputs": [
    {
     "ename": "RuntimeError",
     "evalue": "Error(s) in loading state_dict for PatchTSTForPrediction:\n\tsize mismatch for model.encoder.positional_encoder.position_enc: copying a param with shape torch.Size([181, 128]) from checkpoint, the shape in current model is torch.Size([51, 128]).",
     "output_type": "error",
     "traceback": [
      "\u001b[0;31m---------------------------------------------------------------------------\u001b[0m",
      "\u001b[0;31mRuntimeError\u001b[0m                              Traceback (most recent call last)",
      "\u001b[1;32m/Users/brycekratzer/PersonalProjects/Economic-DashBoard/Economic-Web-DashBoard/model/PatchTST.ipynb Cell 31\u001b[0m line \u001b[0;36m4\n\u001b[1;32m     <a href='vscode-notebook-cell:/Users/brycekratzer/PersonalProjects/Economic-DashBoard/Economic-Web-DashBoard/model/PatchTST.ipynb#Y230sZmlsZQ%3D%3D?line=44'>45</a>\u001b[0m         \u001b[39mif\u001b[39;00m name \u001b[39min\u001b[39;00m prediction_model_dict:\n\u001b[1;32m     <a href='vscode-notebook-cell:/Users/brycekratzer/PersonalProjects/Economic-DashBoard/Economic-Web-DashBoard/model/PatchTST.ipynb#Y230sZmlsZQ%3D%3D?line=45'>46</a>\u001b[0m             prediction_model_dict[name] \u001b[39m=\u001b[39m param\n\u001b[0;32m---> <a href='vscode-notebook-cell:/Users/brycekratzer/PersonalProjects/Economic-DashBoard/Economic-Web-DashBoard/model/PatchTST.ipynb#Y230sZmlsZQ%3D%3D?line=47'>48</a>\u001b[0m ft_model\u001b[39m.\u001b[39mload_state_dict(prediction_model_dict)\n\u001b[1;32m     <a href='vscode-notebook-cell:/Users/brycekratzer/PersonalProjects/Economic-DashBoard/Economic-Web-DashBoard/model/PatchTST.ipynb#Y230sZmlsZQ%3D%3D?line=49'>50</a>\u001b[0m ft_model\n",
      "File \u001b[0;32m/opt/anaconda3/envs/Personal_Proj/lib/python3.12/site-packages/torch/nn/modules/module.py:2581\u001b[0m, in \u001b[0;36mModule.load_state_dict\u001b[0;34m(self, state_dict, strict, assign)\u001b[0m\n\u001b[1;32m   2573\u001b[0m         error_msgs\u001b[39m.\u001b[39minsert(\n\u001b[1;32m   2574\u001b[0m             \u001b[39m0\u001b[39m,\n\u001b[1;32m   2575\u001b[0m             \u001b[39m\"\u001b[39m\u001b[39mMissing key(s) in state_dict: \u001b[39m\u001b[39m{}\u001b[39;00m\u001b[39m. \u001b[39m\u001b[39m\"\u001b[39m\u001b[39m.\u001b[39mformat(\n\u001b[1;32m   2576\u001b[0m                 \u001b[39m\"\u001b[39m\u001b[39m, \u001b[39m\u001b[39m\"\u001b[39m\u001b[39m.\u001b[39mjoin(\u001b[39mf\u001b[39m\u001b[39m'\u001b[39m\u001b[39m\"\u001b[39m\u001b[39m{\u001b[39;00mk\u001b[39m}\u001b[39;00m\u001b[39m\"\u001b[39m\u001b[39m'\u001b[39m \u001b[39mfor\u001b[39;00m k \u001b[39min\u001b[39;00m missing_keys)\n\u001b[1;32m   2577\u001b[0m             ),\n\u001b[1;32m   2578\u001b[0m         )\n\u001b[1;32m   2580\u001b[0m \u001b[39mif\u001b[39;00m \u001b[39mlen\u001b[39m(error_msgs) \u001b[39m>\u001b[39m \u001b[39m0\u001b[39m:\n\u001b[0;32m-> 2581\u001b[0m     \u001b[39mraise\u001b[39;00m \u001b[39mRuntimeError\u001b[39;00m(\n\u001b[1;32m   2582\u001b[0m         \u001b[39m\"\u001b[39m\u001b[39mError(s) in loading state_dict for \u001b[39m\u001b[39m{}\u001b[39;00m\u001b[39m:\u001b[39m\u001b[39m\\n\u001b[39;00m\u001b[39m\\t\u001b[39;00m\u001b[39m{}\u001b[39;00m\u001b[39m\"\u001b[39m\u001b[39m.\u001b[39mformat(\n\u001b[1;32m   2583\u001b[0m             \u001b[39mself\u001b[39m\u001b[39m.\u001b[39m\u001b[39m__class__\u001b[39m\u001b[39m.\u001b[39m\u001b[39m__name__\u001b[39m, \u001b[39m\"\u001b[39m\u001b[39m\\n\u001b[39;00m\u001b[39m\\t\u001b[39;00m\u001b[39m\"\u001b[39m\u001b[39m.\u001b[39mjoin(error_msgs)\n\u001b[1;32m   2584\u001b[0m         )\n\u001b[1;32m   2585\u001b[0m     )\n\u001b[1;32m   2586\u001b[0m \u001b[39mreturn\u001b[39;00m _IncompatibleKeys(missing_keys, unexpected_keys)\n",
      "\u001b[0;31mRuntimeError\u001b[0m: Error(s) in loading state_dict for PatchTSTForPrediction:\n\tsize mismatch for model.encoder.positional_encoder.position_enc: copying a param with shape torch.Size([181, 128]) from checkpoint, the shape in current model is torch.Size([51, 128])."
     ]
    }
   ],
   "source": [
    "# How many features we are including \n",
    "NUM_INPUT = len(dataset.columns)\n",
    "\n",
    "# Batch size for training\n",
    "BATCH_SIZE = 16\n",
    "\n",
    "# For What we are predicting\n",
    "NUM_TARGET = 2\n",
    "\n",
    "# How many steps we take in the context length\n",
    "CONTEXT_LEN = 60\n",
    "\n",
    "# How many steps we take in the context length\n",
    "PATCH_LEN = 5\n",
    "\n",
    "# How far we move our patch length\n",
    "PATCH_STRD = 4\n",
    "\n",
    "# How many patches are masked for prediction during training\n",
    "NUM_ATT_HEADS = 8\n",
    "\n",
    "# How many days to predict into the future\n",
    "PRED_LEN = 10 # One Month Prediction\n",
    "\n",
    "ft_config = PatchTSTConfig(\n",
    "    num_input_channels = NUM_INPUT,\n",
    "    num_targets = NUM_TARGET,\n",
    "    context_length = CONTEXT_LEN,\n",
    "    patch_length = PATCH_LEN,\n",
    "    stride = PATCH_STRD,\n",
    "    prediction_length=PRED_LEN\n",
    ")\n",
    "\n",
    "ft_model = PatchTSTForPrediction(ft_config)\n",
    "\n",
    "# First, load your saved pretrained model\n",
    "pretrained_weights = torch.load('pretrain_model_no_mask.bin')\n",
    "\n",
    "# Copy weights from the encoder part of the pretrained model\n",
    "# This will transfer only the compatible weights\n",
    "prediction_model_dict = ft_model.state_dict()\n",
    "for name, param in pretrained_weights.items():\n",
    "    if 'encoder' in name:\n",
    "        # The encoder part is usually named like 'encoder.xxx' in both models\n",
    "        if name in prediction_model_dict:\n",
    "            prediction_model_dict[name] = param\n",
    "\n",
    "ft_model.load_state_dict(prediction_model_dict)\n",
    "\n",
    "ft_model"
   ]
  },
  {
   "cell_type": "code",
   "execution_count": 31,
   "metadata": {},
   "outputs": [],
   "source": [
    "# Set up constraints for development\n",
    "num_train = int(len(dataset) * .7)\n",
    "num_test = int(len(dataset) * .2)\n",
    "num_val = int(len(dataset) * .1)\n",
    "\n",
    "targ_data = dataset[['^GSPC Close', '^IXIC Close']]\n",
    "\n",
    "train_targ = targ_data[0: num_train]\n",
    "train_feat = dataset[0: num_train]\n",
    "\n",
    "test_targ = targ_data[num_train:num_test + num_train]\n",
    "test_feat = dataset[num_train:num_test + num_train]\n",
    "\n",
    "val_targ = targ_data[num_test+num_train:(num_test+num_train) + num_val]\n",
    "val_feat = dataset[num_test+num_train:(num_test+num_train) + num_val]"
   ]
  },
  {
   "cell_type": "markdown",
   "metadata": {},
   "source": [
    "**Getting Target/Input Features**\n",
    "\n",
    "This part is a little odd. \n",
    "\n",
    "- **Input Features**\n",
    "\n",
    "    To get the target features all we need to do is construct a window that looks at the past N amount of days for each data point.\n",
    "    We include the features we want to predict which makes it **Self Supervised**. \n",
    "\n",
    "- **Output Features**\n",
    "\n",
    "    What we are doing is getting the actual targets we want to predict and making a future window for just the 2 features. \n",
    "    In this case we are looking 90 days into the future, or what the model is predicting, and grabbing those values. This is used \n",
    "    for the model to evalute it's prediction"
   ]
  },
  {
   "cell_type": "code",
   "execution_count": 32,
   "metadata": {},
   "outputs": [],
   "source": [
    "# Creates a context window for each data point to feed into the model during training\n",
    "def create_sequence_windows(data, window_size):\n",
    "    windows = []\n",
    "    \n",
    "    # We start in the dataFrame at an index 'window_size' and look back depending on the window size\n",
    "    # We will grab a context window for all data points\n",
    "    for i in range(len(data) - window_size + 1):\n",
    "        windows.append(data.iloc[i:i+window_size].values)\n",
    "    return np.array(windows)\n",
    "\n",
    "train_feat_windows = create_sequence_windows(train_feat, CONTEXT_LEN)\n",
    "test_feat_windows = create_sequence_windows(test_feat, CONTEXT_LEN)\n",
    "val_feat_windows = create_sequence_windows(val_feat, CONTEXT_LEN)\n",
    "\n",
    "# Remove values at the end that don't have enough future data\n",
    "train_feat_windows = train_feat_windows[0:len(train_feat_windows) - PRED_LEN]\n",
    "test_feat_windows = test_feat_windows[0:len(test_feat_windows) - PRED_LEN]\n",
    "val_feat_windows = val_feat_windows[0:len(val_feat_windows) - PRED_LEN]"
   ]
  },
  {
   "cell_type": "code",
   "execution_count": 33,
   "metadata": {},
   "outputs": [],
   "source": [
    "# Gets indices for the target variables, starting from where we first start predicting with a full context length\n",
    "# to the last index that will allow for a full prediction\n",
    "train_targ_indices = range(CONTEXT_LEN, len(train_feat) - PRED_LEN + 1)\n",
    "test_targ_indices = range(CONTEXT_LEN, len(test_feat) - PRED_LEN + 1)\n",
    "val_targ_indices = range(CONTEXT_LEN, len(val_feat) - PRED_LEN + 1)"
   ]
  },
  {
   "cell_type": "code",
   "execution_count": 34,
   "metadata": {},
   "outputs": [],
   "source": [
    "train_targ_windows = [train_targ.iloc[i:i+PRED_LEN].values for i in train_targ_indices]\n",
    "test_targ_windows = [test_targ.iloc[i:i+PRED_LEN].values for i in test_targ_indices]\n",
    "val_targ_windows = [val_targ.iloc[i:i+PRED_LEN].values for i in val_targ_indices]\n",
    "\n",
    "train_targ_windows = np.array(train_targ_windows)\n",
    "test_targ_windows = np.array(test_targ_windows )\n",
    "val_targ_windows = np.array(val_targ_windows)"
   ]
  },
  {
   "cell_type": "code",
   "execution_count": 35,
   "metadata": {},
   "outputs": [
    {
     "data": {
      "text/plain": [
       "(torch.Size([1345, 190, 37]), torch.Size([1345, 30, 2]))"
      ]
     },
     "execution_count": 35,
     "metadata": {},
     "output_type": "execute_result"
    }
   ],
   "source": [
    "\n",
    "past_train = torch.tensor(train_feat_windows, dtype=torch.float32)\n",
    "past_test = torch.tensor(test_feat_windows, dtype=torch.float32)\n",
    "past_val = torch.tensor(val_feat_windows, dtype=torch.float32)\n",
    "\n",
    "future_train = torch.tensor(train_targ_windows, dtype=torch.float32)\n",
    "future_test = torch.tensor(test_targ_windows, dtype=torch.float32)\n",
    "future_val = torch.tensor(val_targ_windows, dtype=torch.float32)\n",
    "past_test.shape, future_test.shape"
   ]
  },
  {
   "cell_type": "code",
   "execution_count": 36,
   "metadata": {},
   "outputs": [],
   "source": [
    "train_data = TensorDataset(past_train, future_train)\n",
    "test_data = TensorDataset(past_test, future_test)\n",
    "val_data = TensorDataset(past_val, future_val)\n",
    "\n",
    "dataloader_train = DataLoader(train_data, batch_size=32, shuffle=True)\n",
    "dataloader_test = DataLoader(test_data, batch_size=32, shuffle=True)\n",
    "dataloader_val = DataLoader(val_data, batch_size=32, shuffle=True)"
   ]
  },
  {
   "cell_type": "code",
   "execution_count": 37,
   "metadata": {},
   "outputs": [],
   "source": [
    "device = torch.device('mps')\n",
    "ft_model = ft_model.to(device)"
   ]
  },
  {
   "cell_type": "code",
   "execution_count": 38,
   "metadata": {},
   "outputs": [
    {
     "name": "stderr",
     "output_type": "stream",
     "text": [
      "  0%|          | 0/165 [00:00<?, ?it/s]/opt/anaconda3/envs/Personal_Proj/lib/python3.12/site-packages/torch/nn/modules/loss.py:610: UserWarning: Using a target size (torch.Size([32, 30, 2])) that is different to the input size (torch.Size([32, 30, 37])). This will likely lead to incorrect results due to broadcasting. Please ensure they have the same size.\n",
      "  return F.mse_loss(input, target, reduction=self.reduction)\n",
      "  0%|          | 0/165 [00:01<?, ?it/s]\n"
     ]
    },
    {
     "ename": "RuntimeError",
     "evalue": "The size of tensor a (37) must match the size of tensor b (2) at non-singleton dimension 2",
     "output_type": "error",
     "traceback": [
      "\u001b[0;31m---------------------------------------------------------------------------\u001b[0m",
      "\u001b[0;31mRuntimeError\u001b[0m                              Traceback (most recent call last)",
      "\u001b[1;32m/Users/brycekratzer/PersonalProjects/Economic-DashBoard/Economic-Web-DashBoard/model/PatchTST.ipynb Cell 40\u001b[0m line \u001b[0;36m2\n\u001b[1;32m     <a href='vscode-notebook-cell:/Users/brycekratzer/PersonalProjects/Economic-DashBoard/Economic-Web-DashBoard/model/PatchTST.ipynb#Y243sZmlsZQ%3D%3D?line=17'>18</a>\u001b[0m future_values \u001b[39m=\u001b[39m future_values\u001b[39m.\u001b[39mto(device)\n\u001b[1;32m     <a href='vscode-notebook-cell:/Users/brycekratzer/PersonalProjects/Economic-DashBoard/Economic-Web-DashBoard/model/PatchTST.ipynb#Y243sZmlsZQ%3D%3D?line=19'>20</a>\u001b[0m \u001b[39m# Foward pass through our model, generates predictions\u001b[39;00m\n\u001b[0;32m---> <a href='vscode-notebook-cell:/Users/brycekratzer/PersonalProjects/Economic-DashBoard/Economic-Web-DashBoard/model/PatchTST.ipynb#Y243sZmlsZQ%3D%3D?line=20'>21</a>\u001b[0m outputs \u001b[39m=\u001b[39m ft_model(past_values\u001b[39m=\u001b[39mpast_values, future_values\u001b[39m=\u001b[39mfuture_values)\n\u001b[1;32m     <a href='vscode-notebook-cell:/Users/brycekratzer/PersonalProjects/Economic-DashBoard/Economic-Web-DashBoard/model/PatchTST.ipynb#Y243sZmlsZQ%3D%3D?line=22'>23</a>\u001b[0m \u001b[39m# Get's the loss for our predictions (how far off our predictions were)\u001b[39;00m\n\u001b[1;32m     <a href='vscode-notebook-cell:/Users/brycekratzer/PersonalProjects/Economic-DashBoard/Economic-Web-DashBoard/model/PatchTST.ipynb#Y243sZmlsZQ%3D%3D?line=23'>24</a>\u001b[0m loss \u001b[39m=\u001b[39m outputs\u001b[39m.\u001b[39mloss\n",
      "File \u001b[0;32m/opt/anaconda3/envs/Personal_Proj/lib/python3.12/site-packages/torch/nn/modules/module.py:1739\u001b[0m, in \u001b[0;36mModule._wrapped_call_impl\u001b[0;34m(self, *args, **kwargs)\u001b[0m\n\u001b[1;32m   1737\u001b[0m     \u001b[39mreturn\u001b[39;00m \u001b[39mself\u001b[39m\u001b[39m.\u001b[39m_compiled_call_impl(\u001b[39m*\u001b[39margs, \u001b[39m*\u001b[39m\u001b[39m*\u001b[39mkwargs)  \u001b[39m# type: ignore[misc]\u001b[39;00m\n\u001b[1;32m   1738\u001b[0m \u001b[39melse\u001b[39;00m:\n\u001b[0;32m-> 1739\u001b[0m     \u001b[39mreturn\u001b[39;00m \u001b[39mself\u001b[39m\u001b[39m.\u001b[39m_call_impl(\u001b[39m*\u001b[39margs, \u001b[39m*\u001b[39m\u001b[39m*\u001b[39mkwargs)\n",
      "File \u001b[0;32m/opt/anaconda3/envs/Personal_Proj/lib/python3.12/site-packages/torch/nn/modules/module.py:1750\u001b[0m, in \u001b[0;36mModule._call_impl\u001b[0;34m(self, *args, **kwargs)\u001b[0m\n\u001b[1;32m   1745\u001b[0m \u001b[39m# If we don't have any hooks, we want to skip the rest of the logic in\u001b[39;00m\n\u001b[1;32m   1746\u001b[0m \u001b[39m# this function, and just call forward.\u001b[39;00m\n\u001b[1;32m   1747\u001b[0m \u001b[39mif\u001b[39;00m \u001b[39mnot\u001b[39;00m (\u001b[39mself\u001b[39m\u001b[39m.\u001b[39m_backward_hooks \u001b[39mor\u001b[39;00m \u001b[39mself\u001b[39m\u001b[39m.\u001b[39m_backward_pre_hooks \u001b[39mor\u001b[39;00m \u001b[39mself\u001b[39m\u001b[39m.\u001b[39m_forward_hooks \u001b[39mor\u001b[39;00m \u001b[39mself\u001b[39m\u001b[39m.\u001b[39m_forward_pre_hooks\n\u001b[1;32m   1748\u001b[0m         \u001b[39mor\u001b[39;00m _global_backward_pre_hooks \u001b[39mor\u001b[39;00m _global_backward_hooks\n\u001b[1;32m   1749\u001b[0m         \u001b[39mor\u001b[39;00m _global_forward_hooks \u001b[39mor\u001b[39;00m _global_forward_pre_hooks):\n\u001b[0;32m-> 1750\u001b[0m     \u001b[39mreturn\u001b[39;00m forward_call(\u001b[39m*\u001b[39margs, \u001b[39m*\u001b[39m\u001b[39m*\u001b[39mkwargs)\n\u001b[1;32m   1752\u001b[0m result \u001b[39m=\u001b[39m \u001b[39mNone\u001b[39;00m\n\u001b[1;32m   1753\u001b[0m called_always_called_hooks \u001b[39m=\u001b[39m \u001b[39mset\u001b[39m()\n",
      "File \u001b[0;32m/opt/anaconda3/envs/Personal_Proj/lib/python3.12/site-packages/transformers/models/patchtst/modeling_patchtst.py:1758\u001b[0m, in \u001b[0;36mPatchTSTForPrediction.forward\u001b[0;34m(self, past_values, past_observed_mask, future_values, output_hidden_states, output_attentions, return_dict)\u001b[0m\n\u001b[1;32m   1756\u001b[0m     \u001b[39melse\u001b[39;00m:\n\u001b[1;32m   1757\u001b[0m         loss \u001b[39m=\u001b[39m nn\u001b[39m.\u001b[39mMSELoss(reduction\u001b[39m=\u001b[39m\u001b[39m\"\u001b[39m\u001b[39mmean\u001b[39m\u001b[39m\"\u001b[39m)\n\u001b[0;32m-> 1758\u001b[0m         loss_val \u001b[39m=\u001b[39m loss(y_hat_out, future_values)\n\u001b[1;32m   1760\u001b[0m loc \u001b[39m=\u001b[39m model_output\u001b[39m.\u001b[39mloc\n\u001b[1;32m   1761\u001b[0m scale \u001b[39m=\u001b[39m model_output\u001b[39m.\u001b[39mscale\n",
      "File \u001b[0;32m/opt/anaconda3/envs/Personal_Proj/lib/python3.12/site-packages/torch/nn/modules/module.py:1739\u001b[0m, in \u001b[0;36mModule._wrapped_call_impl\u001b[0;34m(self, *args, **kwargs)\u001b[0m\n\u001b[1;32m   1737\u001b[0m     \u001b[39mreturn\u001b[39;00m \u001b[39mself\u001b[39m\u001b[39m.\u001b[39m_compiled_call_impl(\u001b[39m*\u001b[39margs, \u001b[39m*\u001b[39m\u001b[39m*\u001b[39mkwargs)  \u001b[39m# type: ignore[misc]\u001b[39;00m\n\u001b[1;32m   1738\u001b[0m \u001b[39melse\u001b[39;00m:\n\u001b[0;32m-> 1739\u001b[0m     \u001b[39mreturn\u001b[39;00m \u001b[39mself\u001b[39m\u001b[39m.\u001b[39m_call_impl(\u001b[39m*\u001b[39margs, \u001b[39m*\u001b[39m\u001b[39m*\u001b[39mkwargs)\n",
      "File \u001b[0;32m/opt/anaconda3/envs/Personal_Proj/lib/python3.12/site-packages/torch/nn/modules/module.py:1750\u001b[0m, in \u001b[0;36mModule._call_impl\u001b[0;34m(self, *args, **kwargs)\u001b[0m\n\u001b[1;32m   1745\u001b[0m \u001b[39m# If we don't have any hooks, we want to skip the rest of the logic in\u001b[39;00m\n\u001b[1;32m   1746\u001b[0m \u001b[39m# this function, and just call forward.\u001b[39;00m\n\u001b[1;32m   1747\u001b[0m \u001b[39mif\u001b[39;00m \u001b[39mnot\u001b[39;00m (\u001b[39mself\u001b[39m\u001b[39m.\u001b[39m_backward_hooks \u001b[39mor\u001b[39;00m \u001b[39mself\u001b[39m\u001b[39m.\u001b[39m_backward_pre_hooks \u001b[39mor\u001b[39;00m \u001b[39mself\u001b[39m\u001b[39m.\u001b[39m_forward_hooks \u001b[39mor\u001b[39;00m \u001b[39mself\u001b[39m\u001b[39m.\u001b[39m_forward_pre_hooks\n\u001b[1;32m   1748\u001b[0m         \u001b[39mor\u001b[39;00m _global_backward_pre_hooks \u001b[39mor\u001b[39;00m _global_backward_hooks\n\u001b[1;32m   1749\u001b[0m         \u001b[39mor\u001b[39;00m _global_forward_hooks \u001b[39mor\u001b[39;00m _global_forward_pre_hooks):\n\u001b[0;32m-> 1750\u001b[0m     \u001b[39mreturn\u001b[39;00m forward_call(\u001b[39m*\u001b[39margs, \u001b[39m*\u001b[39m\u001b[39m*\u001b[39mkwargs)\n\u001b[1;32m   1752\u001b[0m result \u001b[39m=\u001b[39m \u001b[39mNone\u001b[39;00m\n\u001b[1;32m   1753\u001b[0m called_always_called_hooks \u001b[39m=\u001b[39m \u001b[39mset\u001b[39m()\n",
      "File \u001b[0;32m/opt/anaconda3/envs/Personal_Proj/lib/python3.12/site-packages/torch/nn/modules/loss.py:610\u001b[0m, in \u001b[0;36mMSELoss.forward\u001b[0;34m(self, input, target)\u001b[0m\n\u001b[1;32m    609\u001b[0m \u001b[39mdef\u001b[39;00m \u001b[39mforward\u001b[39m(\u001b[39mself\u001b[39m, \u001b[39minput\u001b[39m: Tensor, target: Tensor) \u001b[39m-\u001b[39m\u001b[39m>\u001b[39m Tensor:\n\u001b[0;32m--> 610\u001b[0m     \u001b[39mreturn\u001b[39;00m F\u001b[39m.\u001b[39mmse_loss(\u001b[39minput\u001b[39m, target, reduction\u001b[39m=\u001b[39m\u001b[39mself\u001b[39m\u001b[39m.\u001b[39mreduction)\n",
      "File \u001b[0;32m/opt/anaconda3/envs/Personal_Proj/lib/python3.12/site-packages/torch/nn/functional.py:3884\u001b[0m, in \u001b[0;36mmse_loss\u001b[0;34m(input, target, size_average, reduce, reduction, weight)\u001b[0m\n\u001b[1;32m   3881\u001b[0m \u001b[39mif\u001b[39;00m size_average \u001b[39mis\u001b[39;00m \u001b[39mnot\u001b[39;00m \u001b[39mNone\u001b[39;00m \u001b[39mor\u001b[39;00m reduce \u001b[39mis\u001b[39;00m \u001b[39mnot\u001b[39;00m \u001b[39mNone\u001b[39;00m:\n\u001b[1;32m   3882\u001b[0m     reduction \u001b[39m=\u001b[39m _Reduction\u001b[39m.\u001b[39mlegacy_get_string(size_average, reduce)\n\u001b[0;32m-> 3884\u001b[0m expanded_input, expanded_target \u001b[39m=\u001b[39m torch\u001b[39m.\u001b[39mbroadcast_tensors(\u001b[39minput\u001b[39m, target)\n\u001b[1;32m   3886\u001b[0m \u001b[39mif\u001b[39;00m weight \u001b[39mis\u001b[39;00m \u001b[39mnot\u001b[39;00m \u001b[39mNone\u001b[39;00m:\n\u001b[1;32m   3887\u001b[0m     \u001b[39mif\u001b[39;00m weight\u001b[39m.\u001b[39msize() \u001b[39m!=\u001b[39m \u001b[39minput\u001b[39m\u001b[39m.\u001b[39msize():\n",
      "File \u001b[0;32m/opt/anaconda3/envs/Personal_Proj/lib/python3.12/site-packages/torch/functional.py:76\u001b[0m, in \u001b[0;36mbroadcast_tensors\u001b[0;34m(*tensors)\u001b[0m\n\u001b[1;32m     74\u001b[0m \u001b[39mif\u001b[39;00m has_torch_function(tensors):\n\u001b[1;32m     75\u001b[0m     \u001b[39mreturn\u001b[39;00m handle_torch_function(broadcast_tensors, tensors, \u001b[39m*\u001b[39mtensors)\n\u001b[0;32m---> 76\u001b[0m \u001b[39mreturn\u001b[39;00m _VF\u001b[39m.\u001b[39mbroadcast_tensors(tensors)\n",
      "\u001b[0;31mRuntimeError\u001b[0m: The size of tensor a (37) must match the size of tensor b (2) at non-singleton dimension 2"
     ]
    }
   ],
   "source": [
    "optimizer = torch.optim.Adam(ft_model.parameters(), lr=.000001)\n",
    "epochs = 10\n",
    "\n",
    "for epoch in range(epochs):\n",
    "\n",
    "    # Allows for progress bar during training per epoch\n",
    "    loop = tqdm(dataloader_train, leave=True)\n",
    "    losses = []\n",
    "    \n",
    "    for past_values, future_values in loop:\n",
    "        ft_model.train()\n",
    "        \n",
    "        # Clears any previous gradient calculations\n",
    "        optimizer.zero_grad()\n",
    "        \n",
    "        # Transfers batch onto GPU for faster processing\n",
    "        past_values = past_values.to(device)\n",
    "        future_values = future_values.to(device)\n",
    "        \n",
    "        # Foward pass through our model, generates predictions\n",
    "        outputs = ft_model(past_values=past_values, future_values=future_values)\n",
    "        \n",
    "        # Get's the loss for our predictions (how far off our predictions were)\n",
    "        loss = outputs.loss\n",
    "        \n",
    "        # Calculates which weights contributed to the error of our prediction\n",
    "        loss.backward()\n",
    "        \n",
    "        # Updates the optimizer based on the calculations made from loss.backward()\n",
    "        optimizer.step()\n",
    "        \n",
    "        loop.set_description(f'Epoch {epoch}')\n",
    "        loop.set_postfix(loss=loss.item())\n",
    "        losses.append(loss.item())\n",
    "    \n",
    "    print(\"Mean Training Loss\", np.mean(losses))\n",
    "        \n",
    "    ft_model.eval()\n",
    "    losses = []\n",
    "\n",
    "    loop = tqdm(dataloader_val, leave=True)\n",
    "    \n",
    "    for past_values, future_values in loop:\n",
    "        \n",
    "        past_values = past_values.to(device)\n",
    "        future_values = future_values.to(device)\n",
    "        \n",
    "        # Foward pass through our model, generates predictions\n",
    "        outputs = ft_model(past_values=past_values, future_values=future_values)\n",
    "        \n",
    "        loss = outputs.loss\n",
    "        \n",
    "        loop.set_description(f'Epoch {epoch}')\n",
    "        loop.set_postfix(loss=loss.item())\n",
    "        losses.append(loss.item())\n",
    "        \n",
    "    print(f\"Mean Training Loss for validation set on EPOCH {epoch} : {np.mean(losses)}\")\n",
    "\n",
    "ft_model.eval()\n",
    "losses = []\n",
    "\n",
    "loop = tqdm(dataloader_test, leave=True)\n",
    "\n",
    "for past_values, future_values in loop:\n",
    "    \n",
    "    past_values = past_values.to(device)\n",
    "    future_values = future_values.to(device)\n",
    "    \n",
    "    # Foward pass through our model, generates predictions\n",
    "    outputs = ft_model(past_values=past_values, future_values=future_values)\n",
    "    \n",
    "    loss = outputs.loss\n",
    "    \n",
    "    loop.set_description(f'Test')\n",
    "    loop.set_postfix(loss=loss.item())\n",
    "    losses.append(loss.item())\n",
    "    \n",
    "print(f\"Mean Training Loss for test set : {np.mean(losses)}\")\n"
   ]
  },
  {
   "cell_type": "code",
   "execution_count": null,
   "metadata": {},
   "outputs": [],
   "source": [
    "torch.save(model.state_dict(), 'Economic_Model_V1.bin')"
   ]
  },
  {
   "cell_type": "markdown",
   "metadata": {},
   "source": [
    "## Evaluate"
   ]
  },
  {
   "cell_type": "code",
   "execution_count": null,
   "metadata": {},
   "outputs": [],
   "source": [
    "model_eval = PatchTSTForPrediction(config=config)\n",
    "\n",
    "model_eval.load_state_dict(torch.load('Economic_Model_V1.bin'))\n",
    "model_eval.eval()\n"
   ]
  },
  {
   "cell_type": "code",
   "execution_count": 65,
   "metadata": {},
   "outputs": [],
   "source": [
    "with torch.no_grad():\n",
    "    features = dataset.iloc[-CONTEXT_LEN:].values  # Last CONTEXT_LEN days\n",
    "    features = torch.tensor(features, dtype=torch.float32).unsqueeze(0)\n",
    "    predictions = ft_model(past_values=features)\n",
    "    forcast = predictions.prediction_outputs"
   ]
  },
  {
   "cell_type": "code",
   "execution_count": 66,
   "metadata": {},
   "outputs": [],
   "source": [
    "predictions = forcast.squeeze(0).numpy()"
   ]
  },
  {
   "cell_type": "code",
   "execution_count": 67,
   "metadata": {},
   "outputs": [],
   "source": [
    "pred_np = predictions"
   ]
  },
  {
   "cell_type": "code",
   "execution_count": 68,
   "metadata": {},
   "outputs": [],
   "source": [
    "import pandas as pd\n",
    "from datetime import datetime, timedelta\n",
    "\n",
    "df = pd.read_csv('../data/Economic_Data_1994-2025.csv')\n",
    "\n",
    "# Get the last date in your dataset\n",
    "last_date = pd.to_datetime(df['DATE'])\n",
    "last_date = last_date[7822]\n",
    "\n",
    "# Create date range for predictions\n",
    "future_dates = pd.date_range(\n",
    "    start=last_date + timedelta(days=1),\n",
    "    periods=PRED_LEN,\n",
    "    freq='D'\n",
    ")\n",
    "\n"
   ]
  },
  {
   "cell_type": "code",
   "execution_count": 69,
   "metadata": {},
   "outputs": [],
   "source": [
    "df_copy = df.drop(['DATE', 'Unnamed: 0'], axis=1)\n",
    "\n",
    "pred_df = pd.DataFrame(pred_np, columns=df_copy.columns)\n",
    "\n",
    "pred_df['DATE'] = future_dates\n",
    "\n",
    "result_df = pd.concat([df, pred_df], ignore_index=True)"
   ]
  },
  {
   "cell_type": "code",
   "execution_count": 70,
   "metadata": {},
   "outputs": [],
   "source": [
    "result_df['DATE'] = pd.to_datetime(result_df['DATE'])\n",
    "\n",
    "result_df.to_csv('data_check.csv')"
   ]
  },
  {
   "cell_type": "code",
   "execution_count": 71,
   "metadata": {},
   "outputs": [],
   "source": [
    "import matplotlib.pyplot as plt\n",
    "\n",
    "def plot_time_frame_x2(year_start, year_end, df, x1, x2):\n",
    "    df_tf = df[(df['DATE'].dt.year >= year_start) & (df['DATE'].dt.year <= year_end)]\n",
    "\n",
    "    plt.plot(df_tf['DATE'], df_tf[x1], label=x1)\n",
    "    plt.plot(df_tf['DATE'], df_tf[x2], label=x2)\n",
    "    plt.legend()\n",
    "    plt.show()"
   ]
  },
  {
   "cell_type": "code",
   "execution_count": 77,
   "metadata": {},
   "outputs": [
    {
     "data": {
      "image/png": "[encoded data removed]",
      "text/plain": [
       "<Figure size 640x480 with 1 Axes>"
      ]
     },
     "metadata": {},
     "output_type": "display_data"
    }
   ],
   "source": [
    "plot_time_frame_x2(2025, 2025, result_df, '^GSPC Close', '^IXIC Close')"
   ]
  },
  {
   "cell_type": "code",
   "execution_count": null,
   "metadata": {},
   "outputs": [],
   "source": []
  }
 ],
 "metadata": {
  "kernelspec": {
   "display_name": "Python 3 (ipykernel)",
   "language": "python",
   "name": "python3"
  },
  "language_info": {
   "codemirror_mode": {
    "name": "ipython",
    "version": 3
   },
   "file_extension": ".py",
   "mimetype": "text/x-python",
   "name": "python",
   "nbconvert_exporter": "python",
   "pygments_lexer": "ipython3",
   "version": "3.12.8"
  }
 },
 "nbformat": 4,
 "nbformat_minor": 4
}
