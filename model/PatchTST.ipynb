{
 "cells": [
  {
   "cell_type": "markdown",
   "metadata": {},
   "source": [
    "# PatchTST Model Development"
   ]
  },
  {
   "cell_type": "markdown",
   "metadata": {},
   "source": [
    "In this section we will develop the PatchTST model to predict S&P Close, Dow Jones Close."
   ]
  },
  {
   "cell_type": "markdown",
   "metadata": {},
   "source": [
    "## Model Congfiguration "
   ]
  },
  {
   "cell_type": "markdown",
   "metadata": {},
   "source": [
    "We will configure the PatchTST model based on the `Economic_Data_1994_2025` dataset we processed"
   ]
  },
  {
   "cell_type": "code",
   "execution_count": 2,
   "metadata": {},
   "outputs": [
    {
     "name": "stderr",
     "output_type": "stream",
     "text": [
      "/opt/anaconda3/envs/Personal_Proj/lib/python3.12/site-packages/tqdm/auto.py:21: TqdmWarning: IProgress not found. Please update jupyter and ipywidgets. See https://ipywidgets.readthedocs.io/en/stable/user_install.html\n",
      "  from .autonotebook import tqdm as notebook_tqdm\n"
     ]
    }
   ],
   "source": [
    "from transformers import PatchTSTConfig, PatchTSTForPrediction, PatchTSTForPretraining\n",
    "from torch.utils.data import TensorDataset, DataLoader\n",
    "import pandas as pd\n",
    "import numpy as np\n",
    "from tqdm import tqdm\n",
    "import torch"
   ]
  },
  {
   "cell_type": "code",
   "execution_count": 3,
   "metadata": {},
   "outputs": [
    {
     "data": {
      "text/plain": [
       "device(type='mps')"
      ]
     },
     "execution_count": 3,
     "metadata": {},
     "output_type": "execute_result"
    }
   ],
   "source": [
    "# For faster development\n",
    "device = torch.device('mps')\n",
    "device"
   ]
  },
  {
   "cell_type": "code",
   "execution_count": 4,
   "metadata": {},
   "outputs": [],
   "source": [
    "dataset = pd.read_csv('../data/model_data/Economic_Data_1994-2025.csv')\n",
    "dataset = dataset.drop(['DATE', 'Unnamed: 0'], axis=1)"
   ]
  },
  {
   "cell_type": "markdown",
   "metadata": {},
   "source": [
    "## Understanding PatchTST"
   ]
  },
  {
   "cell_type": "markdown",
   "metadata": {},
   "source": [
    "- **Context Length**\n",
    "\n",
    "    Context length is how far we look back in total. If we were trying to predict the closing price for the SP500 tomorrow, our context length would be how far we look back to make our prediction.\n",
    "\n",
    "- **Patch Length**\n",
    "\n",
    "    Patch length is like a subset of our context length. When looking at our entire context length, patch length is the looking at each individual week up until tomorrow to make our final prediction\n",
    "\n",
    "- **Patch Stride**\n",
    "\n",
    "    Patch stride is how far our patch length will move after observing an individual week. We can overlap weeks to see any comparisons.\n",
    "    \n",
    "For each batch we will pass N amount of rows. Each row has previous rows (context length) attached to it. For each row & it's context length we pass it into our model to train on. During the training process we will used. masked forecasting. This will mask the last portion of our patch's for the model to predict. It then check's it's guesses and updates its weights accordingly."
   ]
  },
  {
   "cell_type": "markdown",
   "metadata": {},
   "source": [
    "## PreTraining Model"
   ]
  },
  {
   "cell_type": "markdown",
   "metadata": {},
   "source": [
    "The pre-training model will learn ***every*** column in our dataset from all dates. This will help the model develop relationships between all variables. "
   ]
  },
  {
   "cell_type": "code",
   "execution_count": 5,
   "metadata": {},
   "outputs": [],
   "source": [
    "# How many features we are including \n",
    "NUM_INPUT = len(dataset.columns)\n",
    "\n",
    "# Batch size for training\n",
    "BATCH_SIZE = 16\n",
    "\n",
    "# For What we are predicting\n",
    "NUM_TARGET = 2\n",
    "\n",
    "# How many steps we take in the context length\n",
    "CONTEXT_LEN = 120\n",
    "\n",
    "# How many steps we take in the context length\n",
    "PATCH_LEN = 20\n",
    "\n",
    "# How far we predict into the future:\n",
    "PRED_LEN = 10\n",
    "\n",
    "# How far we move our patch length\n",
    "PATCH_STRD = int(PATCH_LEN * .35)\n",
    "\n",
    "# How our model is trained\n",
    "MASK_TYPE = 'forecast'\n",
    "\n",
    "# Dimension of the model's internal representations\n",
    "D_MODEL = 256\n",
    "\n",
    "# Number of transformer encoder layers (should be multiple of d_model)\n",
    "# When increased should increase path_dropout.\n",
    "# default: 3\n",
    "NUM_HIDD_LAYERS = 4\n",
    "\n",
    "# Number of parallel attention mechanisms, allows model to focus on different temporal patterns simultaneously (4-8) ideal range\n",
    "# should divide d model evenly \n",
    "#\n",
    "# larger d_model and more attention heads benefit from higher dropout rates\n",
    "# default: 4\n",
    "NUM_ATT_HEAD = 8\n",
    "\n",
    "# Prevent overfitting by randomly deactivating components, acts as regularization during training\n",
    "ATT_DROP = .1\n",
    "\n",
    "# Applies dropout to the feed-forward networks within transformer blocks, \n",
    "FF_DROP = .2\n",
    "\n",
    "# Randomly skips entire layers or sub-pathways during training\n",
    "# rule of thumb (num_hidden_layers - 2) * .05\n",
    "PATH_DROP = (NUM_HIDD_LAYERS - 2) * .05\n",
    "\n",
    "# How many items are masked in our forcast\n",
    "NUM_PATCH = [int(BATCH_SIZE * .4)] # 20% of our batch\n",
    "\n",
    "# Configuring Model\n",
    "pretrain_config = PatchTSTConfig(\n",
    "    num_input_channels = NUM_INPUT,\n",
    "    context_length = CONTEXT_LEN,\n",
    "    patch_length = PATCH_LEN,\n",
    "    stride = PATCH_STRD,\n",
    "    mask_type='forecast',\n",
    "    num_forecast_mask_patches = NUM_PATCH,\n",
    "    do_mask_input=True,\n",
    "    prediction_length=PRED_LEN,\n",
    "    d_model=D_MODEL,\n",
    "    num_hidden_layers=NUM_HIDD_LAYERS,\n",
    "    num_attention_heads=NUM_ATT_HEAD,\n",
    "    attention_dropout=ATT_DROP,\n",
    "    ff_dropout=FF_DROP,\n",
    "    path_dropout=PATH_DROP,\n",
    ")\n",
    "\n",
    "pretrain_model = PatchTSTForPretraining(pretrain_config)"
   ]
  },
  {
   "cell_type": "markdown",
   "metadata": {},
   "source": [
    "Here we are splitting up our data into 2 portions. A `test` set and a `train` set. The test set is used to evalute our model based on training from the train set\n",
    "\n",
    "We split it 80/10/10, where 80% of our data is training data, and 10% of our data is testing, and 10% is validation for each epoch."
   ]
  },
  {
   "cell_type": "code",
   "execution_count": 6,
   "metadata": {},
   "outputs": [],
   "source": [
    "# Set up constraints for development\n",
    "num_train = int(len(dataset) * .7)\n",
    "num_test = int(len(dataset) * .2)\n",
    "num_val = int(len(dataset) * .1)\n",
    "\n",
    "# Breaking up the data into train/test sets.\n",
    "train = dataset[0: num_train]\n",
    "test = dataset[num_train:num_test + num_train]\n",
    "val = dataset[num_test+num_train:(num_test+num_train) + num_val]"
   ]
  },
  {
   "cell_type": "markdown",
   "metadata": {},
   "source": [
    "This portion here grabs context windows for all rows in our train/test sets"
   ]
  },
  {
   "cell_type": "code",
   "execution_count": 7,
   "metadata": {},
   "outputs": [],
   "source": [
    "# Creates a context window for each data point to feed into the model during training\n",
    "def create_sequence_windows(data, window_size):\n",
    "    windows = []\n",
    "    \n",
    "    # We start in the dataFrame at an index 'window_size' and look back depending on the window size\n",
    "    # We will grab a context window for all data points\n",
    "    for i in range(len(data) - window_size + 1):\n",
    "        windows.append(data.iloc[i:i+window_size].values)\n",
    "    return np.array(windows)\n",
    "\n",
    "train_windows = create_sequence_windows(train, CONTEXT_LEN)\n",
    "test_windows = create_sequence_windows(test, CONTEXT_LEN)\n",
    "val_windows = create_sequence_windows(val, CONTEXT_LEN)"
   ]
  },
  {
   "cell_type": "code",
   "execution_count": 8,
   "metadata": {},
   "outputs": [],
   "source": [
    "# Puts our data in PyTorch tensors for proper data types during training\n",
    "past_values_train = torch.tensor(train_windows, dtype=torch.float32)\n",
    "past_values_test = torch.tensor(test_windows, dtype=torch.float32)\n",
    "past_values_val = torch.tensor(val_windows, dtype=torch.float32)"
   ]
  },
  {
   "cell_type": "markdown",
   "metadata": {},
   "source": [
    "Preparing our data to be passed into our model for pre training"
   ]
  },
  {
   "cell_type": "code",
   "execution_count": 9,
   "metadata": {},
   "outputs": [],
   "source": [
    "# Puts the tensors in a dataset for the dataloader to properly use\n",
    "data_train = TensorDataset(past_values_train)\n",
    "\n",
    "# Divides our data into batches based on the BATCH_SIZE\n",
    "dataloader_train = DataLoader(data_train, batch_size=BATCH_SIZE, shuffle=True)\n",
    "\n",
    "data_test = TensorDataset(past_values_test)\n",
    "dataloader_test = DataLoader(data_test, batch_size=BATCH_SIZE)\n",
    "\n",
    "data_val = TensorDataset(past_values_val)\n",
    "dataloader_val = DataLoader(data_val, batch_size=BATCH_SIZE)"
   ]
  },
  {
   "cell_type": "code",
   "execution_count": 10,
   "metadata": {},
   "outputs": [],
   "source": [
    "pretrain_model = pretrain_model.to(device)"
   ]
  },
  {
   "cell_type": "markdown",
   "metadata": {},
   "source": [
    "### Pre-Training"
   ]
  },
  {
   "cell_type": "markdown",
   "metadata": {},
   "source": [
    "Here we are training our model by doing the following:\n",
    "\n",
    "1. Divide Training into Epoch\n",
    "    - For each epoch we:\n",
    "        - Set model to train mode\n",
    "        - Pass in all of our data one batch size at a time\n",
    "        - After training on a patch we update our parameters\n",
    "        - Put our model into evaluation mode\n",
    "        - Test on our validation set and print results to output\n",
    "2. Final Train\n",
    "    - Once we pass through all epochs we do a final test on our\n",
    "        never seen data, `test` set. \n",
    "    - We iterate through our data one batch size at a time and evaluate the model\n",
    "        one last time"
   ]
  },
  {
   "cell_type": "code",
   "execution_count": 11,
   "metadata": {},
   "outputs": [
    {
     "name": "stderr",
     "output_type": "stream",
     "text": [
      "  0%|          | 0/335 [00:00<?, ?it/s]"
     ]
    },
    {
     "name": "stderr",
     "output_type": "stream",
     "text": [
      "Epoch 0: 100%|██████████| 335/335 [04:27<00:00,  1.25it/s, loss=0.0769]\n"
     ]
    },
    {
     "name": "stdout",
     "output_type": "stream",
     "text": [
      "Mean Training Loss 0.1480788578960433\n"
     ]
    },
    {
     "name": "stderr",
     "output_type": "stream",
     "text": [
      "Epoch 0: 100%|██████████| 42/42 [00:08<00:00,  4.84it/s, loss=0.0879]\n"
     ]
    },
    {
     "name": "stdout",
     "output_type": "stream",
     "text": [
      "Mean Training Loss for validation set on EPOCH 0 : 0.09393673789288316\n"
     ]
    },
    {
     "name": "stderr",
     "output_type": "stream",
     "text": [
      "Epoch 1: 100%|██████████| 335/335 [04:25<00:00,  1.26it/s, loss=0.0491]\n"
     ]
    },
    {
     "name": "stdout",
     "output_type": "stream",
     "text": [
      "Mean Training Loss 0.065046928689551\n"
     ]
    },
    {
     "name": "stderr",
     "output_type": "stream",
     "text": [
      "Epoch 1: 100%|██████████| 42/42 [00:08<00:00,  4.93it/s, loss=0.0417]\n"
     ]
    },
    {
     "name": "stdout",
     "output_type": "stream",
     "text": [
      "Mean Training Loss for validation set on EPOCH 1 : 0.04813251582284769\n"
     ]
    },
    {
     "name": "stderr",
     "output_type": "stream",
     "text": [
      "Epoch 2: 100%|██████████| 335/335 [04:26<00:00,  1.26it/s, loss=0.0585]\n"
     ]
    },
    {
     "name": "stdout",
     "output_type": "stream",
     "text": [
      "Mean Training Loss 0.045247424922105095\n"
     ]
    },
    {
     "name": "stderr",
     "output_type": "stream",
     "text": [
      "Epoch 2: 100%|██████████| 42/42 [00:08<00:00,  4.94it/s, loss=0.0804]\n"
     ]
    },
    {
     "name": "stdout",
     "output_type": "stream",
     "text": [
      "Mean Training Loss for validation set on EPOCH 2 : 0.07140913233160973\n"
     ]
    },
    {
     "name": "stderr",
     "output_type": "stream",
     "text": [
      "Epoch 3: 100%|██████████| 335/335 [04:26<00:00,  1.26it/s, loss=0.0291]\n"
     ]
    },
    {
     "name": "stdout",
     "output_type": "stream",
     "text": [
      "Mean Training Loss 0.038385463066732704\n"
     ]
    },
    {
     "name": "stderr",
     "output_type": "stream",
     "text": [
      "Epoch 3: 100%|██████████| 42/42 [00:08<00:00,  4.70it/s, loss=0.0307]\n"
     ]
    },
    {
     "name": "stdout",
     "output_type": "stream",
     "text": [
      "Mean Training Loss for validation set on EPOCH 3 : 0.02952000086328813\n"
     ]
    },
    {
     "name": "stderr",
     "output_type": "stream",
     "text": [
      "Epoch 4: 100%|██████████| 335/335 [04:25<00:00,  1.26it/s, loss=0.029] \n"
     ]
    },
    {
     "name": "stdout",
     "output_type": "stream",
     "text": [
      "Mean Training Loss 0.03187815896721918\n"
     ]
    },
    {
     "name": "stderr",
     "output_type": "stream",
     "text": [
      "Epoch 4: 100%|██████████| 42/42 [00:08<00:00,  4.96it/s, loss=0.04]  \n"
     ]
    },
    {
     "name": "stdout",
     "output_type": "stream",
     "text": [
      "Mean Training Loss for validation set on EPOCH 4 : 0.040865891391322726\n"
     ]
    },
    {
     "name": "stderr",
     "output_type": "stream",
     "text": [
      "Epoch 5: 100%|██████████| 335/335 [04:25<00:00,  1.26it/s, loss=0.0323]\n"
     ]
    },
    {
     "name": "stdout",
     "output_type": "stream",
     "text": [
      "Mean Training Loss 0.03210745640099048\n"
     ]
    },
    {
     "name": "stderr",
     "output_type": "stream",
     "text": [
      "Epoch 5: 100%|██████████| 42/42 [00:08<00:00,  4.67it/s, loss=0.0302]\n"
     ]
    },
    {
     "name": "stdout",
     "output_type": "stream",
     "text": [
      "Mean Training Loss for validation set on EPOCH 5 : 0.03752407857349941\n"
     ]
    },
    {
     "name": "stderr",
     "output_type": "stream",
     "text": [
      "Epoch 6: 100%|██████████| 335/335 [04:25<00:00,  1.26it/s, loss=0.0236]\n"
     ]
    },
    {
     "name": "stdout",
     "output_type": "stream",
     "text": [
      "Mean Training Loss 0.03229936236765847\n"
     ]
    },
    {
     "name": "stderr",
     "output_type": "stream",
     "text": [
      "Epoch 6: 100%|██████████| 42/42 [00:08<00:00,  4.80it/s, loss=0.054] \n"
     ]
    },
    {
     "name": "stdout",
     "output_type": "stream",
     "text": [
      "Mean Training Loss for validation set on EPOCH 6 : 0.050138216909198535\n"
     ]
    },
    {
     "name": "stderr",
     "output_type": "stream",
     "text": [
      "Epoch 7: 100%|██████████| 335/335 [04:24<00:00,  1.27it/s, loss=0.0294]\n"
     ]
    },
    {
     "name": "stdout",
     "output_type": "stream",
     "text": [
      "Mean Training Loss 0.028759574887356653\n"
     ]
    },
    {
     "name": "stderr",
     "output_type": "stream",
     "text": [
      "Epoch 7: 100%|██████████| 42/42 [00:08<00:00,  4.97it/s, loss=0.0395]\n"
     ]
    },
    {
     "name": "stdout",
     "output_type": "stream",
     "text": [
      "Mean Training Loss for validation set on EPOCH 7 : 0.036733215231271016\n"
     ]
    },
    {
     "name": "stderr",
     "output_type": "stream",
     "text": [
      "Epoch 8: 100%|██████████| 335/335 [04:24<00:00,  1.27it/s, loss=0.0202]\n"
     ]
    },
    {
     "name": "stdout",
     "output_type": "stream",
     "text": [
      "Mean Training Loss 0.027672830135075013\n"
     ]
    },
    {
     "name": "stderr",
     "output_type": "stream",
     "text": [
      "Epoch 8: 100%|██████████| 42/42 [00:08<00:00,  4.95it/s, loss=0.0441]\n"
     ]
    },
    {
     "name": "stdout",
     "output_type": "stream",
     "text": [
      "Mean Training Loss for validation set on EPOCH 8 : 0.04192496814011108\n"
     ]
    },
    {
     "name": "stderr",
     "output_type": "stream",
     "text": [
      "Epoch 9: 100%|██████████| 335/335 [04:24<00:00,  1.27it/s, loss=0.0288]\n"
     ]
    },
    {
     "name": "stdout",
     "output_type": "stream",
     "text": [
      "Mean Training Loss 0.028575669023305623\n"
     ]
    },
    {
     "name": "stderr",
     "output_type": "stream",
     "text": [
      "Epoch 9: 100%|██████████| 42/42 [00:08<00:00,  4.93it/s, loss=0.031] \n"
     ]
    },
    {
     "name": "stdout",
     "output_type": "stream",
     "text": [
      "Mean Training Loss for validation set on EPOCH 9 : 0.033252003602683544\n"
     ]
    },
    {
     "name": "stderr",
     "output_type": "stream",
     "text": [
      "Test: 100%|██████████| 91/91 [00:18<00:00,  4.82it/s, loss=0.0205] "
     ]
    },
    {
     "name": "stdout",
     "output_type": "stream",
     "text": [
      "Mean Training Loss for test set : 0.031185404172392336\n"
     ]
    },
    {
     "name": "stderr",
     "output_type": "stream",
     "text": [
      "\n"
     ]
    }
   ],
   "source": [
    "optimizer = torch.optim.Adam(pretrain_model.parameters(), lr=.001)\n",
    "\n",
    "epochs = 10\n",
    "\n",
    "\n",
    "for epoch in range(epochs):\n",
    "\n",
    "    # Allows for progress bar during training per epoch\n",
    "    loop = tqdm(dataloader_train, leave=True)\n",
    "    losses = []\n",
    "    \n",
    "    for batch in loop:\n",
    "        \n",
    "        # Puts model in train mode\n",
    "        pretrain_model.train()\n",
    "        \n",
    "        # Clears any previous gradient calculations\n",
    "        optimizer.zero_grad()\n",
    "        \n",
    "        # Transfers batch onto GPU for faster processing\n",
    "        past_values = batch[0].to(device)\n",
    "        \n",
    "        # Foward pass through our model, generates predictions\n",
    "        outputs = pretrain_model(past_values=past_values)\n",
    "        \n",
    "        # Get's the loss for our predictions (how far off our predictions were)\n",
    "        loss = outputs.loss\n",
    "        \n",
    "        # Calculates which weights contributed to the error of our prediction\n",
    "        loss.backward()\n",
    "        \n",
    "        torch.nn.utils.clip_grad_norm_(pretrain_model.parameters(), max_norm=3.0)\n",
    "        \n",
    "        # Updates the optimizer based on the calculations made from loss.backward()\n",
    "        optimizer.step()\n",
    "        \n",
    "        loop.set_description(f'Epoch {epoch}')\n",
    "        loop.set_postfix(loss=loss.item())\n",
    "        losses.append(loss.item())\n",
    "    \n",
    "    print(\"Mean Training Loss\", np.mean(losses))\n",
    "        \n",
    "    pretrain_model.eval()\n",
    "    losses = []\n",
    "\n",
    "    loop = tqdm(dataloader_val, leave=True)\n",
    "    \n",
    "    for batch in loop:\n",
    "        pretrain_model.eval()\n",
    "        \n",
    "        past_values = batch[0].to(device)\n",
    "        \n",
    "        outputs = pretrain_model(past_values=past_values)\n",
    "        \n",
    "        loss = outputs.loss\n",
    "        \n",
    "        loop.set_description(f'Epoch {epoch}')\n",
    "        loop.set_postfix(loss=loss.item())\n",
    "        losses.append(loss.item())\n",
    "        \n",
    "    print(f\"Mean Training Loss for validation set on EPOCH {epoch} : {np.mean(losses)}\")\n",
    "\n",
    "pretrain_model.eval()\n",
    "losses = []\n",
    "\n",
    "loop = tqdm(dataloader_test, leave=True)\n",
    "\n",
    "for batch in loop:\n",
    "    \n",
    "    past_values = batch[0].to(device)\n",
    "    \n",
    "    outputs = pretrain_model(past_values=past_values)\n",
    "    \n",
    "    loss = outputs.loss\n",
    "    \n",
    "    loop.set_description(f'Test')\n",
    "    loop.set_postfix(loss=loss.item())\n",
    "    losses.append(loss.item())\n",
    "    \n",
    "print(f\"Mean Training Loss for test set : {np.mean(losses)}\")"
   ]
  },
  {
   "cell_type": "code",
   "execution_count": 12,
   "metadata": {},
   "outputs": [],
   "source": [
    "torch.save(pretrain_model.state_dict(), 'pt_m_2ynorm_v1.bin')"
   ]
  },
  {
   "cell_type": "markdown",
   "metadata": {},
   "source": [
    "### Model Logs"
   ]
  },
  {
   "cell_type": "markdown",
   "metadata": {},
   "source": [
    "#### Parameters Set 1 (Not Good)"
   ]
  },
  {
   "cell_type": "code",
   "execution_count": null,
   "metadata": {},
   "outputs": [],
   "source": [
    "NUM_INPUT = len(dataset.columns)\n",
    "BATCH_SIZE = 16\n",
    "CONTEXT_LEN = 190\n",
    "PATCH_LEN = 10\n",
    "PATCH_STRD = 8\n",
    "MASK_TYPE = 'forecast'\n",
    "NUM_PATCH = [int(BATCH_SIZE * .2)]"
   ]
  },
  {
   "cell_type": "markdown",
   "metadata": {},
   "source": [
    "- **pretrained_model_no_mask** \n",
    "\n",
    "    Mean Training Loss for test set : 0.0191\n",
    "\n",
    "- **pretrained_model_mask** \n",
    "\n",
    "    Mean Training Loss for test set : 0.0199\n"
   ]
  },
  {
   "cell_type": "markdown",
   "metadata": {},
   "source": [
    "#### Parameters Set 2 (Not Good)"
   ]
  },
  {
   "cell_type": "code",
   "execution_count": null,
   "metadata": {},
   "outputs": [],
   "source": [
    "NUM_INPUT = len(dataset.columns)\n",
    "BATCH_SIZE = 16\n",
    "CONTEXT_LEN = 60 # Only looking back 60 days instead of 190\n",
    "PATCH_LEN = 5 # Look at each prior week before for each data point in context length \n",
    "PATCH_STRD = 4 # Move window while keeping the last week's most recent day in set.\n",
    "MASK_TYPE = 'forecast'\n",
    "NUM_PATCH = [int(BATCH_SIZE * .2)]"
   ]
  },
  {
   "cell_type": "markdown",
   "metadata": {},
   "source": [
    "- **pretrained_model_no_mask** \n",
    "\n",
    "    Mean Training Loss for test set : 80.5\n",
    "\n",
    "- **pretrained_model_mask** \n",
    "\n",
    "    Mean Training Loss for test set : 1.29"
   ]
  },
  {
   "cell_type": "markdown",
   "metadata": {},
   "source": [
    "#### Parameter Set 3 (Past Version)"
   ]
  },
  {
   "cell_type": "code",
   "execution_count": null,
   "metadata": {},
   "outputs": [],
   "source": [
    "NUM_INPUT = len(dataset.columns)\n",
    "BATCH_SIZE = 32 # increase batch\n",
    "CONTEXT_LEN = 90 # Middle Ground context length\n",
    "PATCH_LEN = 10 # 2 week patch\n",
    "PATCH_STRD = 5 # 1 week movement\n",
    "MASK_TYPE = 'forecast'\n",
    "NUM_PATCH = [int(BATCH_SIZE * .4)] # 40% of our batch"
   ]
  },
  {
   "cell_type": "markdown",
   "metadata": {},
   "source": [
    "- **pretrained_model_mask** \n",
    "\n",
    "    Mean Training Loss for test set: `.1`"
   ]
  },
  {
   "cell_type": "markdown",
   "metadata": {},
   "source": [
    "#### Parameter Set 4 (Current Version)"
   ]
  },
  {
   "cell_type": "code",
   "execution_count": null,
   "metadata": {},
   "outputs": [],
   "source": [
    "NUM_INPUT = len(dataset.columns)\n",
    "BATCH_SIZE = 64 # increase batch\n",
    "CONTEXT_LEN = 120 # Changed\n",
    "PATCH_LEN = 20 # 4 week patch\n",
    "PATCH_STRD = 10 # 2 week movement\n",
    "MASK_TYPE = 'forecast'\n",
    "NUM_PATCH = [int(BATCH_SIZE * .4)] # 40% of our batch"
   ]
  },
  {
   "cell_type": "markdown",
   "metadata": {},
   "source": [
    "- **pretrained_model_mask** \n",
    "\n",
    "    Mean Training Loss for test set: `.14`\n",
    "\n",
    "    Training Output:\n",
    "    \n",
    "    ```\n",
    "        Epoch 0: 100%|██████████| 96/96 [00:21<00:00,  4.47it/s, loss=0.249]\n",
    "        Mean Training Loss 0.3704576228434841\n",
    "        Epoch 0: 100%|██████████| 11/11 [00:00<00:00, 12.22it/s, loss=0.174]\n",
    "        Mean Training Loss for validation set on EPOCH 0 : 0.259783918207342\n",
    "        Epoch 1: 100%|██████████| 96/96 [00:21<00:00,  4.45it/s, loss=0.193]\n",
    "        Mean Training Loss 0.21437909283364812\n",
    "        Epoch 1: 100%|██████████| 11/11 [00:00<00:00, 12.56it/s, loss=0.134]\n",
    "        Mean Training Loss for validation set on EPOCH 1 : 0.188843966207721\n",
    "        Epoch 2: 100%|██████████| 96/96 [00:20<00:00,  4.62it/s, loss=0.167]\n",
    "        Mean Training Loss 0.18412007112056017\n",
    "        Epoch 2: 100%|██████████| 11/11 [00:00<00:00, 12.41it/s, loss=0.0882]\n",
    "        Mean Training Loss for validation set on EPOCH 2 : 0.1636897704818032\n",
    "        Epoch 3: 100%|██████████| 96/96 [00:21<00:00,  4.52it/s, loss=0.196]\n",
    "        Mean Training Loss 0.1677302731356273\n",
    "        Epoch 3: 100%|██████████| 11/11 [00:00<00:00, 11.90it/s, loss=0.0843]\n",
    "        Mean Training Loss for validation set on EPOCH 3 : 0.16888367046009412\n",
    "        Epoch 4: 100%|██████████| 96/96 [00:20<00:00,  4.63it/s, loss=0.155]\n",
    "        Mean Training Loss 0.15664897416718304\n",
    "        Epoch 4: 100%|██████████| 11/11 [00:00<00:00, 12.23it/s, loss=0.107]\n",
    "        Mean Training Loss for validation set on EPOCH 4 : 0.15169502049684525\n",
    "        Epoch 5: 100%|██████████| 96/96 [00:19<00:00,  4.82it/s, loss=0.142]\n",
    "        Mean Training Loss 0.15216751280240715\n",
    "        Epoch 5: 100%|██████████| 11/11 [00:00<00:00, 13.08it/s, loss=0.0657]\n",
    "        Mean Training Loss for validation set on EPOCH 5 : 0.14568436348980124\n",
    "        Epoch 6: 100%|██████████| 96/96 [00:19<00:00,  5.00it/s, loss=0.158]\n",
    "        Mean Training Loss 0.14830683163988093\n",
    "        Epoch 6: 100%|██████████| 11/11 [00:00<00:00, 12.93it/s, loss=0.0564]\n",
    "        Mean Training Loss for validation set on EPOCH 6 : 0.1488013728098436\n",
    "        Epoch 7: 100%|██████████| 96/96 [00:19<00:00,  4.94it/s, loss=0.159]\n",
    "        Mean Training Loss 0.14496231932813922\n",
    "        Epoch 7: 100%|██████████| 11/11 [00:00<00:00, 12.66it/s, loss=0.0639]\n",
    "        Mean Training Loss for validation set on EPOCH 7 : 0.16032350334254178\n",
    "        Epoch 8: 100%|██████████| 96/96 [00:19<00:00,  5.01it/s, loss=0.151]\n",
    "        Mean Training Loss 0.14232469288011393\n",
    "        Epoch 8: 100%|██████████| 11/11 [00:00<00:00, 13.03it/s, loss=0.0615]\n",
    "        Mean Training Loss for validation set on EPOCH 8 : 0.14566036821766334\n",
    "        Epoch 9: 100%|██████████| 96/96 [00:20<00:00,  4.79it/s, loss=0.148]\n",
    "        Mean Training Loss 0.13476501870900393\n",
    "        Epoch 9: 100%|██████████| 11/11 [00:00<00:00, 12.03it/s, loss=0.0496]\n",
    "        Mean Training Loss for validation set on EPOCH 9 : 0.14310653473843227\n",
    "        Test: 100%|██████████| 11/11 [00:00<00:00, 13.17it/s, loss=0.132]\n",
    "        Mean Training Loss for test set : 0.14791631867939775\n",
    "    ```"
   ]
  },
  {
   "cell_type": "markdown",
   "metadata": {},
   "source": []
  },
  {
   "cell_type": "markdown",
   "metadata": {},
   "source": [
    "### Parameter Set 4 (In Development)"
   ]
  },
  {
   "cell_type": "code",
   "execution_count": null,
   "metadata": {},
   "outputs": [],
   "source": [
    "# Data Set used 2 year rolling window for normalization\n",
    "\n",
    "\n",
    "NUM_INPUT = len(dataset.columns)\n",
    "BATCH_SIZE = 16\n",
    "NUM_TARGET = 2\n",
    "CONTEXT_LEN = 120\n",
    "PATCH_LEN = 20\n",
    "PRED_LEN = 10\n",
    "PATCH_STRD = int(PATCH_LEN * .35)\n",
    "MASK_TYPE = 'forecast'\n",
    "D_MODEL = 256\n",
    "NUM_HIDD_LAYERS = 4\n",
    "NUM_ATT_HEAD = 8\n",
    "ATT_DROP = .1\n",
    "FF_DROP = .2\n",
    "PATH_DROP = (NUM_HIDD_LAYERS - 2) * .05\n",
    "NUM_PATCH = [int(BATCH_SIZE * .4)]"
   ]
  },
  {
   "cell_type": "markdown",
   "metadata": {},
   "source": [
    "- **pt_m_2ynorm_v1**\n",
    "```\n",
    "        0%|          | 0/335 [00:00<?, ?it/s]\n",
    "        Epoch 0: 100%|██████████| 335/335 [04:27<00:00,  1.25it/s, loss=0.0769]\n",
    "        Mean Training Loss 0.1480788578960433\n",
    "        Epoch 0: 100%|██████████| 42/42 [00:08<00:00,  4.84it/s, loss=0.0879]\n",
    "        Mean Training Loss for validation set on EPOCH 0 : 0.09393673789288316\n",
    "        Epoch 1: 100%|██████████| 335/335 [04:25<00:00,  1.26it/s, loss=0.0491]\n",
    "        Mean Training Loss 0.065046928689551\n",
    "        Epoch 1: 100%|██████████| 42/42 [00:08<00:00,  4.93it/s, loss=0.0417]\n",
    "        Mean Training Loss for validation set on EPOCH 1 : 0.04813251582284769\n",
    "        Epoch 2: 100%|██████████| 335/335 [04:26<00:00,  1.26it/s, loss=0.0585]\n",
    "        Mean Training Loss 0.045247424922105095\n",
    "        Epoch 2: 100%|██████████| 42/42 [00:08<00:00,  4.94it/s, loss=0.0804]\n",
    "        Mean Training Loss for validation set on EPOCH 2 : 0.07140913233160973\n",
    "        Epoch 3: 100%|██████████| 335/335 [04:26<00:00,  1.26it/s, loss=0.0291]\n",
    "        Mean Training Loss 0.038385463066732704\n",
    "        Epoch 3: 100%|██████████| 42/42 [00:08<00:00,  4.70it/s, loss=0.0307]\n",
    "        Mean Training Loss for validation set on EPOCH 3 : 0.02952000086328813\n",
    "        Epoch 4: 100%|██████████| 335/335 [04:25<00:00,  1.26it/s, loss=0.029] \n",
    "        Mean Training Loss 0.03187815896721918\n",
    "        Epoch 4: 100%|██████████| 42/42 [00:08<00:00,  4.96it/s, loss=0.04]  \n",
    "        Mean Training Loss for validation set on EPOCH 4 : 0.040865891391322726\n",
    "        Epoch 5: 100%|██████████| 335/335 [04:25<00:00,  1.26it/s, loss=0.0323]\n",
    "        Mean Training Loss 0.03210745640099048\n",
    "        Epoch 5: 100%|██████████| 42/42 [00:08<00:00,  4.67it/s, loss=0.0302]\n",
    "        Mean Training Loss for validation set on EPOCH 5 : 0.03752407857349941\n",
    "        Epoch 6: 100%|██████████| 335/335 [04:25<00:00,  1.26it/s, loss=0.0236]\n",
    "        Mean Training Loss 0.03229936236765847\n",
    "        Epoch 6: 100%|██████████| 42/42 [00:08<00:00,  4.80it/s, loss=0.054] \n",
    "        Mean Training Loss for validation set on EPOCH 6 : 0.050138216909198535\n",
    "        Epoch 7: 100%|██████████| 335/335 [04:24<00:00,  1.27it/s, loss=0.0294]\n",
    "        Mean Training Loss 0.028759574887356653\n",
    "        Epoch 7: 100%|██████████| 42/42 [00:08<00:00,  4.97it/s, loss=0.0395]\n",
    "        Mean Training Loss for validation set on EPOCH 7 : 0.036733215231271016\n",
    "        Epoch 8: 100%|██████████| 335/335 [04:24<00:00,  1.27it/s, loss=0.0202]\n",
    "        Mean Training Loss 0.027672830135075013\n",
    "        Epoch 8: 100%|██████████| 42/42 [00:08<00:00,  4.95it/s, loss=0.0441]\n",
    "        Mean Training Loss for validation set on EPOCH 8 : 0.04192496814011108\n",
    "        Epoch 9: 100%|██████████| 335/335 [04:24<00:00,  1.27it/s, loss=0.0288]\n",
    "        Mean Training Loss 0.028575669023305623\n",
    "        Epoch 9: 100%|██████████| 42/42 [00:08<00:00,  4.93it/s, loss=0.031] \n",
    "        Mean Training Loss for validation set on EPOCH 9 : 0.033252003602683544\n",
    "        Test: 100%|██████████| 91/91 [00:18<00:00,  4.82it/s, loss=0.0205] \n",
    "        Mean Training Loss for test set : 0.031185404172392336\n",
    "\n",
    "```"
   ]
  },
  {
   "cell_type": "markdown",
   "metadata": {},
   "source": [
    "## Fine-Tuning"
   ]
  },
  {
   "cell_type": "markdown",
   "metadata": {},
   "source": [
    "### Setting Up Model Configurations"
   ]
  },
  {
   "cell_type": "code",
   "execution_count": 112,
   "metadata": {},
   "outputs": [
    {
     "data": {
      "text/plain": [
       "<All keys matched successfully>"
      ]
     },
     "execution_count": 112,
     "metadata": {},
     "output_type": "execute_result"
    }
   ],
   "source": [
    "# How many features we are including \n",
    "NUM_INPUT = 2\n",
    "\n",
    "# Batch size for training\n",
    "BATCH_SIZE = 16\n",
    "\n",
    "# For What we are predicting\n",
    "NUM_TARGET = 2\n",
    "\n",
    "# How many steps we take in the context length\n",
    "CONTEXT_LEN = 120\n",
    "\n",
    "# How many steps we take in the context length\n",
    "PATCH_LEN = 20\n",
    "\n",
    "# How far we move our patch length\n",
    "PATCH_STRD = 10\n",
    "\n",
    "NUM_INPUT = len(dataset.columns)\n",
    "NUM_TARGET = 2\n",
    "CONTEXT_LEN = 120\n",
    "PATCH_LEN = 20\n",
    "PRED_LEN = 10\n",
    "PATCH_STRD = int(PATCH_LEN * .35)\n",
    "MASK_TYPE = 'forecast'\n",
    "D_MODEL = 256\n",
    "NUM_HIDD_LAYERS = 4\n",
    "NUM_ATT_HEAD = 8\n",
    "ATT_DROP = .1\n",
    "FF_DROP = .2\n",
    "PATH_DROP = (NUM_HIDD_LAYERS - 2) * .05\n",
    "NUM_PATCH = [int(BATCH_SIZE * .4)]\n",
    "\n",
    "# How many days to predict into the future\n",
    "PRED_LEN = 10 # One Month Prediction\n",
    "\n",
    "ft_config = PatchTSTConfig(\n",
    "    num_input_channels = NUM_INPUT,\n",
    "    num_targets = NUM_TARGET,\n",
    "    context_length = CONTEXT_LEN,\n",
    "    patch_length = PATCH_LEN,\n",
    "    stride = PATCH_STRD,\n",
    "    prediction_length=PRED_LEN,\n",
    "    d_model=D_MODEL,\n",
    "    num_hidden_layers=NUM_HIDD_LAYERS,\n",
    "    num_attention_heads=NUM_ATT_HEAD,\n",
    "    attention_dropout=ATT_DROP,\n",
    "    ff_dropout=FF_DROP,\n",
    "    path_dropout=PATH_DROP,\n",
    ")\n",
    "\n",
    "features_to_pred = ['^GSPC Close', '^DJI Close']\n",
    "\n",
    "ft_model = PatchTSTForPrediction(ft_config)\n",
    "\n",
    "# First, load your saved pretrained model\n",
    "pretrained_weights = torch.load('./pt_m_2ynorm_v1.bin')\n",
    "\n",
    "# Copy weights from the encoder part of the pretrained model\n",
    "# This will transfer only the compatible weights\n",
    "prediction_model_dict = ft_model.state_dict()\n",
    "\n",
    "for name, param in pretrained_weights.items():\n",
    "    if 'encoder' in name:\n",
    "        # The encoder part is usually named like 'encoder.xxx' in both models\n",
    "        if name in prediction_model_dict:\n",
    "            prediction_model_dict[name] = param\n",
    "ft_model.load_state_dict(prediction_model_dict)"
   ]
  },
  {
   "cell_type": "markdown",
   "metadata": {},
   "source": [
    "### Preparing Data for Fine-Tuning"
   ]
  },
  {
   "cell_type": "code",
   "execution_count": 113,
   "metadata": {},
   "outputs": [],
   "source": [
    "# Set up constraints for development\n",
    "num_train = int(len(dataset) * .7)\n",
    "num_test = int(len(dataset) * .2)\n",
    "num_val = int(len(dataset) * .1)\n",
    "\n",
    "dataset = dataset[features_to_pred]\n",
    "targ_data = dataset\n",
    "\n",
    "train_targ = targ_data[0: num_train]\n",
    "train_feat = dataset[0: num_train]\n",
    "\n",
    "test_targ = targ_data[num_train:num_test + num_train]\n",
    "test_feat = dataset[num_train:num_test + num_train]\n",
    "\n",
    "val_targ = targ_data[num_test+num_train:(num_test+num_train) + num_val]\n",
    "val_feat = dataset[num_test+num_train:(num_test+num_train) + num_val]"
   ]
  },
  {
   "cell_type": "markdown",
   "metadata": {},
   "source": [
    "**Getting Target/Input Features**\n",
    "\n",
    "This part is a little odd. \n",
    "\n",
    "- **Input Features**\n",
    "\n",
    "    To get the target features all we need to do is construct a window that looks at the past N amount of days for each data point.\n",
    "    We include the features we want to predict which makes it **Self Supervised**. \n",
    "\n",
    "- **Output Features**\n",
    "\n",
    "    What we are doing is getting the actual targets we want to predict and making a future window for just the 2 features. \n",
    "    In this case we are looking 90 days into the future, or what the model is predicting, and grabbing those values. This is used \n",
    "    for the model to evalute it's prediction"
   ]
  },
  {
   "cell_type": "code",
   "execution_count": 114,
   "metadata": {},
   "outputs": [],
   "source": [
    "# Creates a context window for each data point to feed into the model during training\n",
    "def create_sequence_windows(data, window_size):\n",
    "    windows = []\n",
    "    \n",
    "    # We start in the dataFrame at an index 'window_size' and look back depending on the window size\n",
    "    # We will grab a context window for all data points\n",
    "    for i in range(len(data) - window_size + 1):\n",
    "        windows.append(data.iloc[i:i+window_size].values)\n",
    "    return np.array(windows)\n",
    "\n",
    "train_feat_windows = create_sequence_windows(train_feat, CONTEXT_LEN)\n",
    "test_feat_windows = create_sequence_windows(test_feat, CONTEXT_LEN)\n",
    "val_feat_windows = create_sequence_windows(val_feat, CONTEXT_LEN)\n",
    "\n",
    "# Remove values at the end that don't have enough future data\n",
    "train_feat_windows = train_feat_windows[0:len(train_feat_windows) - PRED_LEN]\n",
    "test_feat_windows = test_feat_windows[0:len(test_feat_windows) - PRED_LEN]\n",
    "val_feat_windows = val_feat_windows[0:len(val_feat_windows) - PRED_LEN]"
   ]
  },
  {
   "cell_type": "code",
   "execution_count": 115,
   "metadata": {},
   "outputs": [],
   "source": [
    "# Gets indices for the target variables, starting from where we first start predicting with a full context length\n",
    "# to the last index that will allow for a full prediction\n",
    "train_targ_indices = range(CONTEXT_LEN, len(train_feat) - PRED_LEN + 1)\n",
    "test_targ_indices = range(CONTEXT_LEN, len(test_feat) - PRED_LEN + 1)\n",
    "val_targ_indices = range(CONTEXT_LEN, len(val_feat) - PRED_LEN + 1)"
   ]
  },
  {
   "cell_type": "code",
   "execution_count": 116,
   "metadata": {},
   "outputs": [],
   "source": [
    "train_targ_windows = [train_targ.iloc[i:i+PRED_LEN].values for i in train_targ_indices]\n",
    "test_targ_windows = [test_targ.iloc[i:i+PRED_LEN].values for i in test_targ_indices]\n",
    "val_targ_windows = [val_targ.iloc[i:i+PRED_LEN].values for i in val_targ_indices]\n",
    "\n",
    "train_targ_windows = np.array(train_targ_windows)\n",
    "test_targ_windows = np.array(test_targ_windows )\n",
    "val_targ_windows = np.array(val_targ_windows)"
   ]
  },
  {
   "cell_type": "code",
   "execution_count": 117,
   "metadata": {},
   "outputs": [
    {
     "data": {
      "text/plain": [
       "(torch.Size([1436, 120, 2]), torch.Size([1436, 10, 2]))"
      ]
     },
     "execution_count": 117,
     "metadata": {},
     "output_type": "execute_result"
    }
   ],
   "source": [
    "\n",
    "past_train = torch.tensor(train_feat_windows, dtype=torch.float32)\n",
    "past_test = torch.tensor(test_feat_windows, dtype=torch.float32)\n",
    "past_val = torch.tensor(val_feat_windows, dtype=torch.float32)\n",
    "\n",
    "future_train = torch.tensor(train_targ_windows, dtype=torch.float32)\n",
    "future_test = torch.tensor(test_targ_windows, dtype=torch.float32)\n",
    "future_val = torch.tensor(val_targ_windows, dtype=torch.float32)\n",
    "past_test.shape, future_test.shape"
   ]
  },
  {
   "cell_type": "code",
   "execution_count": 118,
   "metadata": {},
   "outputs": [],
   "source": [
    "train_data = TensorDataset(past_train, future_train)\n",
    "test_data = TensorDataset(past_test, future_test)\n",
    "val_data = TensorDataset(past_val, future_val)\n",
    "\n",
    "dataloader_train = DataLoader(train_data, batch_size=BATCH_SIZE, shuffle=True)\n",
    "dataloader_test = DataLoader(test_data, batch_size=BATCH_SIZE, shuffle=True)\n",
    "dataloader_val = DataLoader(val_data, batch_size=BATCH_SIZE, shuffle=True)"
   ]
  },
  {
   "cell_type": "markdown",
   "metadata": {},
   "source": [
    "### Fine-Tuning Model"
   ]
  },
  {
   "cell_type": "code",
   "execution_count": 119,
   "metadata": {},
   "outputs": [],
   "source": [
    "device = torch.device('mps')\n",
    "ft_model = ft_model.to(device)"
   ]
  },
  {
   "cell_type": "code",
   "execution_count": 120,
   "metadata": {},
   "outputs": [
    {
     "name": "stderr",
     "output_type": "stream",
     "text": [
      "Epoch 0: 100%|██████████| 335/335 [00:19<00:00, 17.16it/s, loss=0.0678]\n"
     ]
    },
    {
     "name": "stdout",
     "output_type": "stream",
     "text": [
      "Mean Training Loss 0.08337097368133602\n"
     ]
    },
    {
     "name": "stderr",
     "output_type": "stream",
     "text": [
      "Epoch 0: 100%|██████████| 41/41 [00:00<00:00, 55.91it/s, loss=0.752] \n"
     ]
    },
    {
     "name": "stdout",
     "output_type": "stream",
     "text": [
      "Mean Training Loss for validation set on EPOCH 0 : 0.08151997666715122\n"
     ]
    },
    {
     "name": "stderr",
     "output_type": "stream",
     "text": [
      "Epoch 1: 100%|██████████| 335/335 [00:17<00:00, 18.96it/s, loss=0.0318]\n"
     ]
    },
    {
     "name": "stdout",
     "output_type": "stream",
     "text": [
      "Mean Training Loss 0.06233765845979328\n"
     ]
    },
    {
     "name": "stderr",
     "output_type": "stream",
     "text": [
      "Epoch 1: 100%|██████████| 41/41 [00:00<00:00, 72.46it/s, loss=nan]   \n"
     ]
    },
    {
     "name": "stdout",
     "output_type": "stream",
     "text": [
      "Mean Training Loss for validation set on EPOCH 1 : 0.06248722393065691\n"
     ]
    },
    {
     "name": "stderr",
     "output_type": "stream",
     "text": [
      "Epoch 2: 100%|██████████| 335/335 [00:17<00:00, 19.05it/s, loss=0.0433]\n"
     ]
    },
    {
     "name": "stdout",
     "output_type": "stream",
     "text": [
      "Mean Training Loss 0.05805389129959825\n"
     ]
    },
    {
     "name": "stderr",
     "output_type": "stream",
     "text": [
      "Epoch 2: 100%|██████████| 41/41 [00:00<00:00, 74.28it/s, loss=0.0472]\n"
     ]
    },
    {
     "name": "stdout",
     "output_type": "stream",
     "text": [
      "Mean Training Loss for validation set on EPOCH 2 : 0.048045138896601954\n"
     ]
    },
    {
     "name": "stderr",
     "output_type": "stream",
     "text": [
      "Epoch 3: 100%|██████████| 335/335 [00:17<00:00, 19.18it/s, loss=0.0148]\n"
     ]
    },
    {
     "name": "stdout",
     "output_type": "stream",
     "text": [
      "Mean Training Loss 0.051378124968996686\n"
     ]
    },
    {
     "name": "stderr",
     "output_type": "stream",
     "text": [
      "Epoch 3: 100%|██████████| 41/41 [00:00<00:00, 73.34it/s, loss=0.0385]\n"
     ]
    },
    {
     "name": "stdout",
     "output_type": "stream",
     "text": [
      "Mean Training Loss for validation set on EPOCH 3 : 0.048487595759513905\n"
     ]
    },
    {
     "name": "stderr",
     "output_type": "stream",
     "text": [
      "Epoch 4: 100%|██████████| 335/335 [00:17<00:00, 19.16it/s, loss=0.083] \n"
     ]
    },
    {
     "name": "stdout",
     "output_type": "stream",
     "text": [
      "Mean Training Loss 0.04694074744275257\n"
     ]
    },
    {
     "name": "stderr",
     "output_type": "stream",
     "text": [
      "Epoch 4: 100%|██████████| 41/41 [00:00<00:00, 74.89it/s, loss=0.0354]\n"
     ]
    },
    {
     "name": "stdout",
     "output_type": "stream",
     "text": [
      "Mean Training Loss for validation set on EPOCH 4 : 0.04428161417202252\n"
     ]
    },
    {
     "name": "stderr",
     "output_type": "stream",
     "text": [
      "Epoch 5: 100%|██████████| 335/335 [00:17<00:00, 19.09it/s, loss=0.157] \n"
     ]
    },
    {
     "name": "stdout",
     "output_type": "stream",
     "text": [
      "Mean Training Loss 0.0436276269437217\n"
     ]
    },
    {
     "name": "stderr",
     "output_type": "stream",
     "text": [
      "Epoch 5: 100%|██████████| 41/41 [00:00<00:00, 73.32it/s, loss=0.0387]\n"
     ]
    },
    {
     "name": "stdout",
     "output_type": "stream",
     "text": [
      "Mean Training Loss for validation set on EPOCH 5 : 0.041960370749598595\n"
     ]
    },
    {
     "name": "stderr",
     "output_type": "stream",
     "text": [
      "Epoch 6: 100%|██████████| 335/335 [00:17<00:00, 19.09it/s, loss=0.0299]\n"
     ]
    },
    {
     "name": "stdout",
     "output_type": "stream",
     "text": [
      "Mean Training Loss 0.04130253072883656\n"
     ]
    },
    {
     "name": "stderr",
     "output_type": "stream",
     "text": [
      "Epoch 6: 100%|██████████| 41/41 [00:00<00:00, 73.08it/s, loss=0.0394]\n"
     ]
    },
    {
     "name": "stdout",
     "output_type": "stream",
     "text": [
      "Mean Training Loss for validation set on EPOCH 6 : 0.04476174085241992\n"
     ]
    },
    {
     "name": "stderr",
     "output_type": "stream",
     "text": [
      "Epoch 7: 100%|██████████| 335/335 [00:17<00:00, 19.15it/s, loss=0.0076]\n"
     ]
    },
    {
     "name": "stdout",
     "output_type": "stream",
     "text": [
      "Mean Training Loss 0.03777332752665032\n"
     ]
    },
    {
     "name": "stderr",
     "output_type": "stream",
     "text": [
      "Epoch 7: 100%|██████████| 41/41 [00:00<00:00, 73.14it/s, loss=0.0511]\n"
     ]
    },
    {
     "name": "stdout",
     "output_type": "stream",
     "text": [
      "Mean Training Loss for validation set on EPOCH 7 : 0.046855011591460646\n"
     ]
    },
    {
     "name": "stderr",
     "output_type": "stream",
     "text": [
      "Epoch 8: 100%|██████████| 335/335 [00:17<00:00, 18.98it/s, loss=0.0176]\n"
     ]
    },
    {
     "name": "stdout",
     "output_type": "stream",
     "text": [
      "Mean Training Loss 0.03557930594282364\n"
     ]
    },
    {
     "name": "stderr",
     "output_type": "stream",
     "text": [
      "Epoch 8: 100%|██████████| 41/41 [00:00<00:00, 73.56it/s, loss=nan]   \n"
     ]
    },
    {
     "name": "stdout",
     "output_type": "stream",
     "text": [
      "Mean Training Loss for validation set on EPOCH 8 : 0.048434071335941555\n"
     ]
    },
    {
     "name": "stderr",
     "output_type": "stream",
     "text": [
      "Epoch 9: 100%|██████████| 335/335 [00:17<00:00, 18.86it/s, loss=0.0375]\n"
     ]
    },
    {
     "name": "stdout",
     "output_type": "stream",
     "text": [
      "Mean Training Loss 0.033892850247003246\n"
     ]
    },
    {
     "name": "stderr",
     "output_type": "stream",
     "text": [
      "Epoch 9: 100%|██████████| 41/41 [00:00<00:00, 73.40it/s, loss=0.0291]\n"
     ]
    },
    {
     "name": "stdout",
     "output_type": "stream",
     "text": [
      "Mean Training Loss for validation set on EPOCH 9 : 0.04664606033120214\n"
     ]
    },
    {
     "name": "stderr",
     "output_type": "stream",
     "text": [
      "Test: 100%|██████████| 90/90 [00:01<00:00, 66.85it/s, loss=0.606] "
     ]
    },
    {
     "name": "stdout",
     "output_type": "stream",
     "text": [
      "Mean Training Loss for test set : 0.15808176810152075\n"
     ]
    },
    {
     "name": "stderr",
     "output_type": "stream",
     "text": [
      "\n"
     ]
    }
   ],
   "source": [
    "optimizer = torch.optim.Adam(ft_model.parameters(), lr=.0001)\n",
    "\n",
    "\n",
    "epochs = 10\n",
    "\n",
    "for epoch in range(epochs):\n",
    "\n",
    "    # Allows for progress bar during training per epoch\n",
    "    loop = tqdm(dataloader_train, leave=True)\n",
    "    losses = []\n",
    "    \n",
    "    for past_values, future_values in loop:\n",
    "        ft_model.train()\n",
    "        \n",
    "        # Clears any previous gradient calculations\n",
    "        optimizer.zero_grad()\n",
    "        \n",
    "        # Transfers batch onto GPU for faster processing\n",
    "        past_values = past_values.to(device)\n",
    "        future_values = future_values.to(device)\n",
    "        \n",
    "        # Foward pass through our model, generates predictions\n",
    "        outputs = ft_model(past_values=past_values, future_values=future_values)\n",
    "        \n",
    "        # Get's the loss for our predictions (how far off our predictions were)\n",
    "        loss = outputs.loss\n",
    "        \n",
    "        # Calculates which weights contributed to the error of our prediction\n",
    "        loss.backward()\n",
    "        \n",
    "        # Add gradient clipping to scale down calculated gradient\n",
    "        torch.nn.utils.clip_grad_norm_(ft_model.parameters(), max_norm=1)\n",
    "        \n",
    "        # Updates the optimizer based on the calculations made from loss.backward()\n",
    "        optimizer.step()\n",
    "        \n",
    "        loop.set_description(f'Epoch {epoch}')\n",
    "        loop.set_postfix(loss=loss.item())\n",
    "        losses.append(loss.item())\n",
    "    \n",
    "    print(\"Mean Training Loss\", np.nanmean(losses))\n",
    "        \n",
    "    ft_model.eval()\n",
    "    losses = []\n",
    "\n",
    "    loop = tqdm(dataloader_val, leave=True)\n",
    "    \n",
    "    for past_values, future_values in loop:\n",
    "        \n",
    "        past_values = past_values.to(device)\n",
    "        future_values = future_values.to(device)\n",
    "        \n",
    "        # Foward pass through our model, generates predictions\n",
    "        outputs = ft_model(past_values=past_values, future_values=future_values)\n",
    "        \n",
    "        loss = outputs.loss\n",
    "        \n",
    "        loop.set_description(f'Epoch {epoch}')\n",
    "        loop.set_postfix(loss=loss.item())\n",
    "        losses.append(loss.item())\n",
    "        \n",
    "    print(f\"Mean Training Loss for validation set on EPOCH {epoch} : {np.nanmean(losses)}\")\n",
    "\n",
    "ft_model.eval()\n",
    "losses = []\n",
    "\n",
    "loop = tqdm(dataloader_test, leave=True)\n",
    "\n",
    "for past_values, future_values in loop:\n",
    "    \n",
    "    past_values = past_values.to(device)\n",
    "    future_values = future_values.to(device)\n",
    "    \n",
    "    # Foward pass through our model, generates predictions\n",
    "    outputs = ft_model(past_values=past_values, future_values=future_values)\n",
    "    \n",
    "    loss = outputs.loss\n",
    "    \n",
    "    loop.set_description(f'Test')\n",
    "    loop.set_postfix(loss=loss.item())\n",
    "    losses.append(loss.item())\n",
    "    \n",
    "print(f\"Mean Training Loss for test set : {np.nanmean(losses)}\")\n"
   ]
  },
  {
   "cell_type": "markdown",
   "metadata": {},
   "source": [
    "### Model Log"
   ]
  },
  {
   "cell_type": "markdown",
   "metadata": {},
   "source": [
    " - **pt_v2_ft_v1 model** (3 Day Target)\n",
    " \n",
    " ```\n",
    "      Epoch 0: 100%|██████████| 670/670 [00:25<00:00, 26.71it/s, loss=0.0121] \n",
    "      Mean Training Loss 0.05789172873908737\n",
    "      Epoch 0: 100%|██████████| 83/83 [00:00<00:00, 99.51it/s, loss=0.0248]  \n",
    "      Mean Training Loss for validation set on EPOCH 0 : 0.01956911194587059\n",
    "      Epoch 1: 100%|██████████| 670/670 [00:22<00:00, 29.15it/s, loss=0.00422]\n",
    "      Mean Training Loss 0.02624725556737785\n",
    "      Epoch 1: 100%|██████████| 83/83 [00:00<00:00, 93.56it/s, loss=0.0315]  \n",
    "      Mean Training Loss for validation set on EPOCH 1 : 0.015010590838964086\n",
    "      Epoch 2: 100%|██████████| 670/670 [00:23<00:00, 28.99it/s, loss=0.00633]\n",
    "      Mean Training Loss 0.025074393672993713\n",
    "      Epoch 2: 100%|██████████| 83/83 [00:00<00:00, 120.43it/s, loss=0.0235] \n",
    "      Mean Training Loss for validation set on EPOCH 2 : 0.01816328740061586\n",
    "      Epoch 3: 100%|██████████| 670/670 [00:23<00:00, 28.68it/s, loss=0.0121] \n",
    "      Mean Training Loss 0.023857501743764463\n",
    "      Epoch 3: 100%|██████████| 83/83 [00:00<00:00, 111.34it/s, loss=0.0134] \n",
    "      Mean Training Loss for validation set on EPOCH 3 : 0.01569510066141206\n",
    "      Epoch 4: 100%|██████████| 670/670 [00:23<00:00, 28.43it/s, loss=0.0102] \n",
    "      Mean Training Loss 0.022569548738633854\n",
    "      Epoch 4: 100%|██████████| 83/83 [00:00<00:00, 90.46it/s, loss=0.0167]  \n",
    "      Mean Training Loss for validation set on EPOCH 4 : 0.015427874883704156\n",
    "      Epoch 5: 100%|██████████| 670/670 [00:23<00:00, 28.66it/s, loss=0.0774] \n",
    "      Mean Training Loss 0.022100595781690817\n",
    "      Epoch 5: 100%|██████████| 83/83 [00:00<00:00, 88.42it/s, loss=0.0106] \n",
    "      Mean Training Loss for validation set on EPOCH 5 : 0.015575622017663646\n",
    "      Epoch 6: 100%|██████████| 670/670 [00:23<00:00, 28.21it/s, loss=0.00743]\n",
    "      Mean Training Loss 0.022202242850395505\n",
    "      Epoch 6: 100%|██████████| 83/83 [00:00<00:00, 96.81it/s, loss=0.0115]  \n",
    "      Mean Training Loss for validation set on EPOCH 6 : 0.015273614887552089\n",
    "      Epoch 7: 100%|██████████| 670/670 [00:25<00:00, 26.68it/s, loss=0.0191] \n",
    "      Mean Training Loss 0.021336314458149805\n",
    "      Epoch 7: 100%|██████████| 83/83 [00:00<00:00, 94.89it/s, loss=0.0196] \n",
    "      Mean Training Loss for validation set on EPOCH 7 : 0.016381341576890415\n",
    "      Epoch 8: 100%|██████████| 670/670 [00:24<00:00, 27.09it/s, loss=0.0165] \n",
    "      Mean Training Loss 0.02155865324146823\n",
    "      Epoch 8: 100%|██████████| 83/83 [00:00<00:00, 112.52it/s, loss=0.00985]\n",
    "      Mean Training Loss for validation set on EPOCH 8 : 0.0158606843843338\n",
    "      Epoch 9: 100%|██████████| 670/670 [00:23<00:00, 28.26it/s, loss=0.00341]\n",
    "      Mean Training Loss 0.021019455494963802\n",
    "      Epoch 9: 100%|██████████| 83/83 [00:00<00:00, 104.47it/s, loss=0.00861]\n",
    "      Mean Training Loss for validation set on EPOCH 9 : 0.015973350246358348\n",
    "      Test: 100%|██████████| 181/181 [00:01<00:00, 119.31it/s, loss=0.00236]\n",
    "      Mean Training Loss for test set : 0.052744830301216704\n",
    "```\n"
   ]
  },
  {
   "cell_type": "markdown",
   "metadata": {},
   "source": [
    "- **pt_m_2ynorm_v1_ft_v1_model** (7 Day) (16 Batch)\n",
    "\n",
    "    ```\n",
    "    Epoch 0: 100%|██████████| 335/335 [00:20<00:00, 16.22it/s, loss=0.301] \n",
    "    Mean Training Loss 0.073840651099584\n",
    "    Epoch 0: 100%|██████████| 41/41 [00:00<00:00, 71.74it/s, loss=0.0432]\n",
    "    Mean Training Loss for validation set on EPOCH 0 : 0.03777422633294652\n",
    "    Epoch 1: 100%|██████████| 335/335 [00:17<00:00, 19.41it/s, loss=0.0714]\n",
    "    Mean Training Loss 0.04888085387091139\n",
    "    Epoch 1: 100%|██████████| 41/41 [00:00<00:00, 72.85it/s, loss=0.0401]\n",
    "    Mean Training Loss for validation set on EPOCH 1 : 0.037776948066382876\n",
    "    Epoch 2: 100%|██████████| 335/335 [00:17<00:00, 19.37it/s, loss=0.0283]\n",
    "    Mean Training Loss 0.04241640451850731\n",
    "    Epoch 2: 100%|██████████| 41/41 [00:00<00:00, 73.18it/s, loss=0.0363]\n",
    "    Mean Training Loss for validation set on EPOCH 2 : 0.03229101202109965\n",
    "    Epoch 3: 100%|██████████| 335/335 [00:17<00:00, 19.14it/s, loss=0.0151]\n",
    "    Mean Training Loss 0.038641006752515014\n",
    "    Epoch 3: 100%|██████████| 41/41 [00:00<00:00, 72.04it/s, loss=0.0368]\n",
    "    Mean Training Loss for validation set on EPOCH 3 : 0.03264551564324193\n",
    "    Epoch 4: 100%|██████████| 335/335 [00:17<00:00, 19.33it/s, loss=0.0525]\n",
    "    Mean Training Loss 0.0364013954969262\n",
    "    Epoch 4: 100%|██████████| 41/41 [00:00<00:00, 72.63it/s, loss=0.0521]\n",
    "    Mean Training Loss for validation set on EPOCH 4 : 0.035987246418144644\n",
    "    Epoch 5: 100%|██████████| 335/335 [00:17<00:00, 19.34it/s, loss=0.0207]\n",
    "    Mean Training Loss 0.03424341900746769\n",
    "    Epoch 5: 100%|██████████| 41/41 [00:00<00:00, 72.89it/s, loss=0.0183]\n",
    "    Mean Training Loss for validation set on EPOCH 5 : 0.03403225018665558\n",
    "    Epoch 6: 100%|██████████| 335/335 [00:17<00:00, 19.39it/s, loss=0.0163]\n",
    "    Mean Training Loss 0.03328820165079921\n",
    "    Epoch 6: 100%|██████████| 41/41 [00:00<00:00, 71.66it/s, loss=0.0434]\n",
    "    Mean Training Loss for validation set on EPOCH 6 : 0.030725138897939427\n",
    "    Epoch 7: 100%|██████████| 335/335 [00:17<00:00, 19.32it/s, loss=0.0216]\n",
    "    Mean Training Loss 0.03110665796574817\n",
    "    Epoch 7: 100%|██████████| 41/41 [00:00<00:00, 73.13it/s, loss=0.0348]\n",
    "    Mean Training Loss for validation set on EPOCH 7 : 0.03414890083779649\n",
    "    Epoch 8: 100%|██████████| 335/335 [00:17<00:00, 19.46it/s, loss=0.051] \n",
    "    Mean Training Loss 0.03023807040568608\n",
    "    Epoch 8: 100%|██████████| 41/41 [00:00<00:00, 72.56it/s, loss=0.0396]\n",
    "    Mean Training Loss for validation set on EPOCH 8 : 0.03446808239308799\n",
    "    Epoch 9: 100%|██████████| 335/335 [00:17<00:00, 19.38it/s, loss=0.0318]\n",
    "    Mean Training Loss 0.027910547305954925\n",
    "    Epoch 9: 100%|██████████| 41/41 [00:00<00:00, 73.05it/s, loss=0.037] \n",
    "    Mean Training Loss for validation set on EPOCH 9 : 0.037568732596388675\n",
    "    Test: 100%|██████████| 90/90 [00:01<00:00, 65.61it/s, loss=0.155] \n",
    "    Mean Training Loss for test set : 0.10987232279860311\n",
    "    ```"
   ]
  },
  {
   "cell_type": "markdown",
   "metadata": {},
   "source": [
    "- **pt_m_2ynorm_v1_ft_v1_model** (2 Day) (16 Batch)(lr = .0001)(max_norm=1)\n",
    "```\n",
    "    Mean Loss for test set : .0447\n",
    "```"
   ]
  },
  {
   "cell_type": "markdown",
   "metadata": {},
   "source": [
    "- **pt_m_2ynorm_v1_ft_v1_model**(10 Day)(16 Batch)(lr = .0001)(max_norm=1)\n",
    "```\n",
    "Epoch 0: 100%|██████████| 335/335 [00:19<00:00, 17.16it/s, loss=0.0678]\n",
    "Mean Training Loss 0.08337097368133602\n",
    "Epoch 0: 100%|██████████| 41/41 [00:00<00:00, 55.91it/s, loss=0.752] \n",
    "Mean Training Loss for validation set on EPOCH 0 : 0.08151997666715122\n",
    "Epoch 1: 100%|██████████| 335/335 [00:17<00:00, 18.96it/s, loss=0.0318]\n",
    "Mean Training Loss 0.06233765845979328\n",
    "Epoch 1: 100%|██████████| 41/41 [00:00<00:00, 72.46it/s, loss=nan]   \n",
    "Mean Training Loss for validation set on EPOCH 1 : 0.06248722393065691\n",
    "Epoch 2: 100%|██████████| 335/335 [00:17<00:00, 19.05it/s, loss=0.0433]\n",
    "Mean Training Loss 0.05805389129959825\n",
    "Epoch 2: 100%|██████████| 41/41 [00:00<00:00, 74.28it/s, loss=0.0472]\n",
    "Mean Training Loss for validation set on EPOCH 2 : 0.048045138896601954\n",
    "Epoch 3: 100%|██████████| 335/335 [00:17<00:00, 19.18it/s, loss=0.0148]\n",
    "Mean Training Loss 0.051378124968996686\n",
    "Epoch 3: 100%|██████████| 41/41 [00:00<00:00, 73.34it/s, loss=0.0385]\n",
    "Mean Training Loss for validation set on EPOCH 3 : 0.048487595759513905\n",
    "Epoch 4: 100%|██████████| 335/335 [00:17<00:00, 19.16it/s, loss=0.083] \n",
    "Mean Training Loss 0.04694074744275257\n",
    "Epoch 4: 100%|██████████| 41/41 [00:00<00:00, 74.89it/s, loss=0.0354]\n",
    "Mean Training Loss for validation set on EPOCH 4 : 0.04428161417202252\n",
    "Epoch 5: 100%|██████████| 335/335 [00:17<00:00, 19.09it/s, loss=0.157] \n",
    "Mean Training Loss 0.0436276269437217\n",
    "Epoch 5: 100%|██████████| 41/41 [00:00<00:00, 73.32it/s, loss=0.0387]\n",
    "Mean Training Loss for validation set on EPOCH 5 : 0.041960370749598595\n",
    "Epoch 6: 100%|██████████| 335/335 [00:17<00:00, 19.09it/s, loss=0.0299]\n",
    "Mean Training Loss 0.04130253072883656\n",
    "Epoch 6: 100%|██████████| 41/41 [00:00<00:00, 73.08it/s, loss=0.0394]\n",
    "Mean Training Loss for validation set on EPOCH 6 : 0.04476174085241992\n",
    "Epoch 7: 100%|██████████| 335/335 [00:17<00:00, 19.15it/s, loss=0.0076]\n",
    "Mean Training Loss 0.03777332752665032\n",
    "Epoch 7: 100%|██████████| 41/41 [00:00<00:00, 73.14it/s, loss=0.0511]\n",
    "Mean Training Loss for validation set on EPOCH 7 : 0.046855011591460646\n",
    "Epoch 8: 100%|██████████| 335/335 [00:17<00:00, 18.98it/s, loss=0.0176]\n",
    "Mean Training Loss 0.03557930594282364\n",
    "Epoch 8: 100%|██████████| 41/41 [00:00<00:00, 73.56it/s, loss=nan]   \n",
    "Mean Training Loss for validation set on EPOCH 8 : 0.048434071335941555\n",
    "Epoch 9: 100%|██████████| 335/335 [00:17<00:00, 18.86it/s, loss=0.0375]\n",
    "Mean Training Loss 0.033892850247003246\n",
    "Epoch 9: 100%|██████████| 41/41 [00:00<00:00, 73.40it/s, loss=0.0291]\n",
    "Mean Training Loss for validation set on EPOCH 9 : 0.04664606033120214\n",
    "Test: 100%|██████████| 90/90 [00:01<00:00, 66.85it/s, loss=0.606] \n",
    "Mean Training Loss for test set : 0.15808176810152075\n",
    "```"
   ]
  },
  {
   "cell_type": "code",
   "execution_count": 121,
   "metadata": {},
   "outputs": [],
   "source": [
    "torch.save(ft_model.state_dict(), 'pt_m_2ynorm_v1_ft_v2_10Day_model.bin')"
   ]
  },
  {
   "cell_type": "markdown",
   "metadata": {},
   "source": [
    "## Evaluate"
   ]
  },
  {
   "cell_type": "markdown",
   "metadata": {},
   "source": [
    "### Autoregression"
   ]
  },
  {
   "cell_type": "markdown",
   "metadata": {},
   "source": [
    "To use this model we will use a method called autoregression. Autoregression is where predictions are based on previous values of the target variable.\n",
    "\n",
    "The core idea of autoregression is as follows:\n",
    "\n",
    "1. The model makes an initial prediction\n",
    "\n",
    "2. We feed this prediction back into our dataset\n",
    "\n",
    "3. Based on our prediction and previous values, we make another prediction.\n",
    "\n",
    "What we are doing is creating a feedback loop where we keep making predictions based off prior predictions\n"
   ]
  },
  {
   "cell_type": "code",
   "execution_count": 133,
   "metadata": {},
   "outputs": [],
   "source": [
    "import pandas as pd\n",
    "from datetime import datetime, timedelta\n",
    "\n",
    "\n",
    "NUM_INPUT = len(dataset.columns)\n",
    "NUM_TARGET = 2\n",
    "CONTEXT_LEN = 120\n",
    "PATCH_LEN = 20\n",
    "PRED_LEN = 10\n",
    "PATCH_STRD = int(PATCH_LEN * .35)\n",
    "MASK_TYPE = 'forecast'\n",
    "D_MODEL = 256\n",
    "NUM_HIDD_LAYERS = 4\n",
    "NUM_ATT_HEAD = 8\n",
    "ATT_DROP = .1\n",
    "FF_DROP = .2\n",
    "PATH_DROP = (NUM_HIDD_LAYERS - 2) * .05\n",
    "NUM_PATCH = [int(BATCH_SIZE * .4)]\n",
    "\n",
    "features_to_pred = ['^GSPC Close', '^DJI Close']\n",
    "\n",
    "# How many days to predict into the future\n",
    "PRED_LEN = 7 # One Month Prediction\n",
    "\n",
    "ft_config = PatchTSTConfig(\n",
    "    num_input_channels = NUM_INPUT,\n",
    "    num_targets = NUM_TARGET,\n",
    "    context_length = CONTEXT_LEN,\n",
    "    patch_length = PATCH_LEN,\n",
    "    stride = PATCH_STRD,\n",
    "    prediction_length=PRED_LEN,\n",
    "    d_model=D_MODEL,\n",
    "    num_hidden_layers=NUM_HIDD_LAYERS,\n",
    "    num_attention_heads=NUM_ATT_HEAD,\n",
    "    attention_dropout=ATT_DROP,\n",
    "    ff_dropout=FF_DROP,\n",
    "    path_dropout=PATH_DROP,\n",
    ")\n",
    "\n",
    "\n",
    "ft_model = PatchTSTForPrediction(ft_config)\n",
    "\n",
    "# Load in our model\n",
    "device = torch.device('cpu')\n",
    "state_dict = torch.load('pt_m_2ynorm_v1_ft_v1_model.bin')\n",
    "ft_model.load_state_dict(state_dict)\n",
    "\n",
    "# Get the normalized economic data\n",
    "pred_and_original_data = pd.read_csv('../data/economic_data_2_year_sliding_window.csv')\n",
    "\n",
    "pred_and_original_data[0:len(pred_and_original_data)]\n",
    "\n",
    "# Filter out data to only contain features needed and Date for merging\n",
    "pred_and_original_data = pred_and_original_data[['DATE']+features_to_pred]\n",
    "\n",
    "# How many predictions we will recursively make\n",
    "NUM_ITER = 3\n",
    "\n",
    "# Autoregression\n",
    "for day in range(NUM_ITER):\n",
    "    \n",
    "    # Drop the date for prediction\n",
    "    df_copy = pred_and_original_data.drop(['DATE'], axis=1)\n",
    "    \n",
    "    \n",
    "    with torch.no_grad():\n",
    "        # Grab the last instance of CONTEXT_LEN days\n",
    "        features = df_copy.iloc[-CONTEXT_LEN:].values\n",
    "        \n",
    "        # Convert to proper format for model\n",
    "        features = torch.tensor(features, dtype=torch.float32).unsqueeze(0)\n",
    "        \n",
    "\n",
    "        predictions = ft_model(past_values=features)\n",
    "        forcast = predictions.prediction_outputs\n",
    "    \n",
    "    # Convert predictions back to prior format\n",
    "    predictions = forcast.squeeze(0).numpy()\n",
    "    pred_np = predictions\n",
    "    \n",
    "    # Get the last date in the dataset\n",
    "    last_date = pd.to_datetime(pred_and_original_data['DATE'])\n",
    "    last_date = last_date[len(pred_and_original_data) - 1]\n",
    "\n",
    "    # Create date range for predictions\n",
    "    future_dates = pd.date_range(\n",
    "        start=last_date + timedelta(days=1),\n",
    "        periods=PRED_LEN,\n",
    "        freq='D'\n",
    "    )\n",
    "    \n",
    "    # Create a dataframe of our predictions with their corresponding dates\n",
    "    pred_df = pd.DataFrame(pred_np, columns=features_to_pred)\n",
    "    pred_df['DATE'] = future_dates\n",
    "\n",
    "    # Add predictions to dataset\n",
    "    pred_and_original_data = pd.concat([pred_and_original_data, pred_df], ignore_index=True)\n",
    "    pred_and_original_data['DATE'] = pd.to_datetime(pred_and_original_data['DATE'])\n"
   ]
  },
  {
   "cell_type": "markdown",
   "metadata": {},
   "source": [
    "### Converting Predictions back to Base Value"
   ]
  },
  {
   "cell_type": "code",
   "execution_count": 134,
   "metadata": {},
   "outputs": [],
   "source": [
    "from sklearn.preprocessing import RobustScaler\n",
    "\n",
    "original_df = pd.read_csv('../data/pre_norm_economic_data94_25.csv')\n",
    "original_df = original_df[['DATE'] + features_to_pred]\n",
    "original_df['DATE'] = pd.to_datetime(original_df['DATE'])\n",
    "\n",
    "WINDOW_SIZE = int(365 * 1.5) # Should be the same size from the one we used to normalize, REFER TO Gather_Historical_Data.ipynb\n"
   ]
  },
  {
   "cell_type": "code",
   "execution_count": 135,
   "metadata": {},
   "outputs": [
    {
     "name": "stderr",
     "output_type": "stream",
     "text": [
      "100%|██████████| 7665/7665 [00:06<00:00, 1160.79it/s]\n"
     ]
    }
   ],
   "source": [
    "def norm_data_st(norm_df, df, col, window_size=90):\n",
    "    denorm_df = norm_df.copy()\n",
    "\n",
    "    # Offset for getting the proper index for our normalized data\n",
    "    offset = window_size\n",
    "\n",
    "    # Moving through each row starting at \n",
    "    # window_size and going to df length\n",
    "    for i in tqdm(range(len(norm_df))):\n",
    "        original_id = i + offset\n",
    "        \n",
    "        window_start = original_id - window_size\n",
    "\n",
    "        # Grabs data from past\n",
    "        time_window = df.iloc[window_start:original_id]\n",
    "\n",
    "        # Grab current time\n",
    "        current_time = norm_df.iloc[i:i+1]\n",
    "\n",
    "        # Create scaler on based on window\n",
    "        robust_scaler = RobustScaler()\n",
    "        robust_scaler.fit(time_window[col])\n",
    "\n",
    "        # Apply scaler to current index feature\n",
    "        denomralized_values = robust_scaler.inverse_transform(current_time[col])\n",
    "        denorm_df.loc[norm_df.index[i], col] = denomralized_values[0]\n",
    "    return denorm_df\n",
    "\n",
    "columns_to_unnormalize = pred_and_original_data.drop(['DATE'], axis=1).columns\n",
    "unnorm_df = norm_data_st(pred_and_original_data, original_df, columns_to_unnormalize,WINDOW_SIZE)"
   ]
  },
  {
   "cell_type": "markdown",
   "metadata": {},
   "source": [
    "### Plot Predictions"
   ]
  },
  {
   "cell_type": "code",
   "execution_count": 136,
   "metadata": {},
   "outputs": [],
   "source": [
    "import matplotlib.pyplot as plt\n",
    "\n",
    "def plot_time_frame_x2(year_start, year_end, df, x1, x2):\n",
    "    df_tf = df[(df['DATE'].dt.year >= year_start) & (df['DATE'].dt.year <= year_end)]\n",
    "\n",
    "    plt.plot(df_tf['DATE'], df_tf[x1], label=x1)\n",
    "    plt.plot(df_tf['DATE'], df_tf[x2], label=x2)\n",
    "    plt.legend()\n",
    "    plt.show()"
   ]
  },
  {
   "cell_type": "code",
   "execution_count": 137,
   "metadata": {},
   "outputs": [],
   "source": [
    "import matplotlib.dates as mdates\n",
    "\n",
    "def plot_time_frame_month(year_start, year_end, month_start, month_end, df1, df2, x1, x2):\n",
    "    df_tf1 = df1[(df1['DATE'].dt.year >= year_start) & (df1['DATE'].dt.year <= year_end)]\n",
    "    df_tf1 = df_tf1[(df_tf1['DATE'].dt.month >= month_start) & (df_tf1['DATE'].dt.month <= month_end)]\n",
    "    \n",
    "    df_tf2 = df2[(df2['DATE'].dt.year >= year_start) & (df2['DATE'].dt.year <= year_end)]\n",
    "    df_tf2 = df_tf2[(df_tf2['DATE'].dt.month >= month_start) & (df_tf2['DATE'].dt.month <= month_end)]\n",
    "    \n",
    "    plt.plot(df_tf2['DATE'], df_tf2[x1], label=f'{x1} Projection', linestyle='--')\n",
    "    plt.plot(df_tf2['DATE'], df_tf2[x2], label=f'{x2} Projection', linestyle='--')\n",
    "    \n",
    "    plt.plot(df_tf1['DATE'], df_tf1[x1], label=x1)\n",
    "    plt.plot(df_tf1['DATE'], df_tf1[x2], label=x2)\n",
    "\n",
    "    plt.legend()\n",
    "    \n",
    "    # Set a tick for every day\n",
    "    plt.gca().xaxis.set_major_locator(mdates.DayLocator())\n",
    "    plt.gca().xaxis.set_major_formatter(mdates.DateFormatter('%d'))\n",
    "    \n",
    "    plt.xticks(rotation=90)\n",
    "    plt.grid(True)\n",
    "    \n",
    "    plt.tight_layout()  # This helps prevent the rotated labels from being cut off\n",
    "    plt.show()\n",
    "    \n",
    "def plot_time_frame_year(year_start, year_end, df1, df2, x1, x2):\n",
    "    df_tf1 = df1[(df1['DATE'].dt.year >= year_start) & (df1['DATE'].dt.year <= year_end)]\n",
    "    \n",
    "    df_tf2 = df2[(df2['DATE'].dt.year >= year_start) & (df2['DATE'].dt.year <= year_end)]\n",
    "    \n",
    "    plt.plot(df_tf2['DATE'], df_tf2[x1], label=f'{x1} Projection', linestyle='--')\n",
    "    plt.plot(df_tf2['DATE'], df_tf2[x2], label=f'{x2} Projection', linestyle='--')\n",
    "    \n",
    "    plt.plot(df_tf1['DATE'], df_tf1[x1], label=x1)\n",
    "    plt.plot(df_tf1['DATE'], df_tf1[x2], label=x2)\n",
    "\n",
    "    plt.legend()\n",
    "    \n",
    "    # Set a tick for every day\n",
    "    plt.gca().xaxis.set_major_locator(mdates.DayLocator())\n",
    "    plt.gca().xaxis.set_major_formatter(mdates.DateFormatter('%d'))\n",
    "    \n",
    "    # plt.xticks(rotation=90)\n",
    "    \n",
    "    plt.tight_layout()  # This helps prevent the rotated labels from being cut off\n",
    "    plt.show()\n",
    "    \n",
    "def plot_time_frame_year_x1(year_start, year_end, df1, df2, x1):\n",
    "    df_tf1 = df1[(df1['DATE'].dt.year >= year_start) & (df1['DATE'].dt.year <= year_end)]\n",
    "    \n",
    "    df_tf2 = df2[(df2['DATE'].dt.year >= year_start) & (df2['DATE'].dt.year <= year_end)]\n",
    "    \n",
    "    plt.plot(df_tf2['DATE'], df_tf2[x1], label=f'{x1} Projection', linestyle='--')\n",
    "    \n",
    "    plt.plot(df_tf1['DATE'], df_tf1[x1], label=x1)\n",
    "\n",
    "    plt.legend()\n",
    "    \n",
    "    # Set a tick for every day\n",
    "    plt.gca().xaxis.set_major_locator(mdates.DayLocator())\n",
    "    plt.gca().xaxis.set_major_formatter(mdates.DateFormatter('%d'))\n",
    "    \n",
    "    plt.xticks(rotation=90)\n",
    "    \n",
    "    plt.tight_layout()  # This helps prevent the rotated labels from being cut off\n",
    "    plt.show()"
   ]
  },
  {
   "cell_type": "code",
   "execution_count": 139,
   "metadata": {},
   "outputs": [
    {
     "data": {
      "image/png": "[encoded data removed]",
      "text/plain": [
       "<Figure size 640x480 with 1 Axes>"
      ]
     },
     "metadata": {},
     "output_type": "display_data"
    }
   ],
   "source": [
    "original_df['DATE'] = pd.to_datetime(original_df['DATE'])\n",
    "\n",
    "plot_time_frame_year_x1(2025, 2025, original_df, unnorm_df, features_to_pred[0])"
   ]
  },
  {
   "cell_type": "code",
   "execution_count": null,
   "metadata": {},
   "outputs": [],
   "source": []
  }
 ],
 "metadata": {
  "kernelspec": {
   "display_name": "Python 3 (ipykernel)",
   "language": "python",
   "name": "python3"
  },
  "language_info": {
   "codemirror_mode": {
    "name": "ipython",
    "version": 3
   },
   "file_extension": ".py",
   "mimetype": "text/x-python",
   "name": "python",
   "nbconvert_exporter": "python",
   "pygments_lexer": "ipython3",
   "version": "3.12.8"
  }
 },
 "nbformat": 4,
 "nbformat_minor": 4
}
