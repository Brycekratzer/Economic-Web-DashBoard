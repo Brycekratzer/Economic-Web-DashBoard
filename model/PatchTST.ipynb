{
 "cells": [
  {
   "cell_type": "markdown",
   "metadata": {},
   "source": [
    "# PatchTST Model Development"
   ]
  },
  {
   "cell_type": "markdown",
   "metadata": {},
   "source": [
    "In this section we will develop the PatchTST model to predict S&P Close, Dow Jones Close."
   ]
  },
  {
   "cell_type": "markdown",
   "metadata": {},
   "source": [
    "## Model Congfiguration "
   ]
  },
  {
   "cell_type": "markdown",
   "metadata": {},
   "source": [
    "We will configure the PatchTST model based on the `Economic_Data_1994_2025` dataset we processed"
   ]
  },
  {
   "cell_type": "code",
   "execution_count": 10,
   "metadata": {},
   "outputs": [],
   "source": [
    "from transformers import PatchTSTConfig, PatchTSTForPrediction, PatchTSTForPretraining\n",
    "from torch.utils.data import TensorDataset, DataLoader\n",
    "import pandas as pd\n",
    "import numpy as np\n",
    "from tqdm import tqdm\n",
    "import torch"
   ]
  },
  {
   "cell_type": "code",
   "execution_count": 11,
   "metadata": {},
   "outputs": [
    {
     "data": {
      "text/plain": [
       "device(type='mps')"
      ]
     },
     "execution_count": 11,
     "metadata": {},
     "output_type": "execute_result"
    }
   ],
   "source": [
    "# For faster development\n",
    "device = torch.device('mps')\n",
    "device"
   ]
  },
  {
   "cell_type": "code",
   "execution_count": 12,
   "metadata": {},
   "outputs": [],
   "source": [
    "dataset = pd.read_csv('../data/model_data/PostNorm_Full_Data.csv')\n",
    "dataset = dataset.drop(['DATE', 'Unnamed: 0'], axis=1)"
   ]
  },
  {
   "cell_type": "markdown",
   "metadata": {},
   "source": [
    "## Understanding PatchTST"
   ]
  },
  {
   "cell_type": "markdown",
   "metadata": {},
   "source": [
    "- **Context Length**\n",
    "\n",
    "    Context length is how far we look back in total. If we were trying to predict the closing price for the SP500 tomorrow, our context length would be how far we look back to make our prediction.\n",
    "\n",
    "- **Patch Length**\n",
    "\n",
    "    Patch length is like a subset of our context length. When looking at our entire context length, patch length is the looking at each individual week up until tomorrow to make our final prediction\n",
    "\n",
    "- **Patch Stride**\n",
    "\n",
    "    Patch stride is how far our patch length will move after observing an individual week. We can overlap weeks to see any comparisons.\n",
    "    \n",
    "For each batch we will pass N amount of rows. Each row has previous rows (context length) attached to it. For each row & it's context length we pass it into our model to train on. During the training process we will used. masked forecasting. This will mask the last portion of our patch's for the model to predict. It then check's it's guesses and updates its weights accordingly."
   ]
  },
  {
   "cell_type": "markdown",
   "metadata": {},
   "source": [
    "## PreTraining Model"
   ]
  },
  {
   "cell_type": "markdown",
   "metadata": {},
   "source": [
    "The pre-training model will learn ***every*** column in our dataset from all dates. This will help the model develop relationships between all variables. "
   ]
  },
  {
   "cell_type": "code",
   "execution_count": 27,
   "metadata": {},
   "outputs": [],
   "source": [
    "# How many features we are including \n",
    "NUM_INPUT = len(dataset.columns)\n",
    "\n",
    "# Batch size for training\n",
    "BATCH_SIZE = 16\n",
    "\n",
    "# For What we are predicting\n",
    "NUM_TARGET = 4\n",
    "\n",
    "# How many steps we take in the context length\n",
    "CONTEXT_LEN = 120\n",
    "\n",
    "# How many steps we take in the context length\n",
    "PATCH_LEN = 20\n",
    "\n",
    "# How far we move our patch length\n",
    "PATCH_STRD = 10\n",
    "\n",
    "# How our model is trained\n",
    "MASK_TYPE = 'forecast'\n",
    "\n",
    "# Dimension of the model's internal representations\n",
    "D_MODEL = 132\n",
    "\n",
    "# Number of transformer encoder layers (should be multiple of d_model)\n",
    "# When increased should increase path_dropout.\n",
    "# default: 3\n",
    "NUM_HIDD_LAYERS = 4\n",
    "\n",
    "# Number of parallel attention mechanisms, allows model to focus on different temporal patterns simultaneously (4-8) ideal range\n",
    "# should divide d model evenly \n",
    "#\n",
    "# larger d_model and more attention heads benefit from higher dropout rates\n",
    "# default: 4\n",
    "NUM_ATT_HEAD = 4\n",
    "\n",
    "# Prevent overfitting by randomly deactivating components, acts as regularization during training\n",
    "ATT_DROP = .13\n",
    "\n",
    "# Applies dropout to the feed-forward networks within transformer blocks, \n",
    "FF_DROP = .23\n",
    "\n",
    "# Randomly skips entire layers or sub-pathways during training\n",
    "# rule of thumb (num_hidden_layers - 2) * .05\n",
    "PATH_DROP = (NUM_HIDD_LAYERS - 2) * .05\n",
    "\n",
    "# How many items are masked in our forcast\n",
    "NUM_PATCH = int(PATCH_LEN * .3) # 30% of our Patch\n",
    "\n",
    "# Advance Configuring Model\n",
    "pretrain_config = PatchTSTConfig(\n",
    "    num_input_channels = NUM_INPUT,\n",
    "    context_length = CONTEXT_LEN,\n",
    "    patch_length = PATCH_LEN,\n",
    "    stride = PATCH_STRD,\n",
    "    mask_type='forecast',\n",
    "    num_forecast_mask_patches = NUM_PATCH,\n",
    "    do_mask_input=True,\n",
    "    d_model=D_MODEL,\n",
    "    num_hidden_layers=NUM_HIDD_LAYERS,\n",
    "    num_attention_heads=NUM_ATT_HEAD,\n",
    "    attention_dropout=ATT_DROP,\n",
    "    ff_dropout=FF_DROP,\n",
    "    path_dropout=PATH_DROP,\n",
    ")\n",
    "\n",
    "# Basic Configuration Model\n",
    "# pretrain_config = PatchTSTConfig(\n",
    "#     num_input_channels = NUM_INPUT,\n",
    "#     context_length = CONTEXT_LEN,\n",
    "#     patch_length = PATCH_LEN,\n",
    "#     stride = PATCH_STRD,\n",
    "#     mask_type='forecast',\n",
    "#     num_forecast_mask_patches = NUM_PATCH,\n",
    "#     do_mask_input=True,\n",
    "# )\n",
    "\n",
    "pretrain_model = PatchTSTForPretraining(pretrain_config)"
   ]
  },
  {
   "cell_type": "markdown",
   "metadata": {},
   "source": [
    "Here we are splitting up our data into 2 portions. A `test` set and a `train` set. The test set is used to evalute our model based on training from the train set\n",
    "\n",
    "We split it 80/10/10, where 80% of our data is training data, and 10% of our data is testing, and 10% is validation for each epoch."
   ]
  },
  {
   "cell_type": "code",
   "execution_count": 28,
   "metadata": {},
   "outputs": [],
   "source": [
    "# Set up constraints for development\n",
    "num_train = int(len(dataset) * .7)\n",
    "num_test = int(len(dataset) * .2)\n",
    "num_val = int(len(dataset) * .1)\n",
    "\n",
    "# Breaking up the data into train/test sets.\n",
    "train = dataset[0: num_train]\n",
    "test = dataset[num_train:num_test + num_train]\n",
    "val = dataset[num_test+num_train:(num_test+num_train) + num_val]"
   ]
  },
  {
   "cell_type": "markdown",
   "metadata": {},
   "source": [
    "This portion here grabs context windows for all rows in our train/test sets"
   ]
  },
  {
   "cell_type": "code",
   "execution_count": 29,
   "metadata": {},
   "outputs": [],
   "source": [
    "# Creates a context window for each data point to feed into the model during training\n",
    "def create_sequence_windows(data, window_size):\n",
    "    windows = []\n",
    "    \n",
    "    # We start in the dataFrame at an index 'window_size' and look back depending on the window size\n",
    "    # We will grab a context window for all data points\n",
    "    for i in range(len(data) - window_size + 1):\n",
    "        windows.append(data.iloc[i:i+window_size].values)\n",
    "    return np.array(windows)\n",
    "\n",
    "train_windows = create_sequence_windows(train, CONTEXT_LEN)\n",
    "test_windows = create_sequence_windows(test, CONTEXT_LEN)\n",
    "val_windows = create_sequence_windows(val, CONTEXT_LEN)"
   ]
  },
  {
   "cell_type": "code",
   "execution_count": 30,
   "metadata": {},
   "outputs": [],
   "source": [
    "# Puts our data in PyTorch tensors for proper data types during training\n",
    "past_values_train = torch.tensor(train_windows, dtype=torch.float32)\n",
    "past_values_test = torch.tensor(test_windows, dtype=torch.float32)\n",
    "past_values_val = torch.tensor(val_windows, dtype=torch.float32)"
   ]
  },
  {
   "cell_type": "markdown",
   "metadata": {},
   "source": [
    "Preparing our data to be passed into our model for pre training"
   ]
  },
  {
   "cell_type": "code",
   "execution_count": 31,
   "metadata": {},
   "outputs": [],
   "source": [
    "# Puts the tensors in a dataset for the dataloader to properly use\n",
    "data_train = TensorDataset(past_values_train)\n",
    "\n",
    "# Divides our data into batches based on the BATCH_SIZE\n",
    "dataloader_train = DataLoader(data_train, batch_size=BATCH_SIZE, shuffle=True)\n",
    "\n",
    "data_test = TensorDataset(past_values_test)\n",
    "dataloader_test = DataLoader(data_test, batch_size=BATCH_SIZE)\n",
    "\n",
    "data_val = TensorDataset(past_values_val)\n",
    "dataloader_val = DataLoader(data_val, batch_size=BATCH_SIZE)"
   ]
  },
  {
   "cell_type": "code",
   "execution_count": 32,
   "metadata": {},
   "outputs": [],
   "source": [
    "pretrain_model = pretrain_model.to(device)"
   ]
  },
  {
   "cell_type": "markdown",
   "metadata": {},
   "source": [
    "### Pre-Training"
   ]
  },
  {
   "cell_type": "markdown",
   "metadata": {},
   "source": [
    "Here we are training our model by doing the following:\n",
    "\n",
    "1. Divide Training into Epoch\n",
    "    - For each epoch we:\n",
    "        - Set model to train mode\n",
    "        - Pass in all of our data one batch size at a time\n",
    "        - After training on a patch we update our parameters\n",
    "        - Put our model into evaluation mode\n",
    "        - Test on our validation set and print results to output\n",
    "2. Final Train\n",
    "    - Once we pass through all epochs we do a final test on our\n",
    "        never seen data, `test` set. \n",
    "    - We iterate through our data one batch size at a time and evaluate the model\n",
    "        one last time"
   ]
  },
  {
   "cell_type": "code",
   "execution_count": 33,
   "metadata": {},
   "outputs": [
    {
     "name": "stderr",
     "output_type": "stream",
     "text": [
      "Epoch 0: 100%|██████████| 222/222 [02:29<00:00,  1.49it/s, loss=0.198]\n"
     ]
    },
    {
     "name": "stdout",
     "output_type": "stream",
     "text": [
      "Mean Training Loss 0.2622819281443282\n"
     ]
    },
    {
     "name": "stderr",
     "output_type": "stream",
     "text": [
      "Epoch 0: 100%|██████████| 26/26 [00:05<00:00,  5.15it/s, loss=0.0966]\n"
     ]
    },
    {
     "name": "stdout",
     "output_type": "stream",
     "text": [
      "Mean Training Loss for validation set on EPOCH 0 : 0.13899239181325987\n"
     ]
    },
    {
     "name": "stderr",
     "output_type": "stream",
     "text": [
      "Epoch 1: 100%|██████████| 222/222 [02:28<00:00,  1.50it/s, loss=0.104] \n"
     ]
    },
    {
     "name": "stdout",
     "output_type": "stream",
     "text": [
      "Mean Training Loss 0.12364005867962365\n"
     ]
    },
    {
     "name": "stderr",
     "output_type": "stream",
     "text": [
      "Epoch 1: 100%|██████████| 26/26 [00:04<00:00,  5.84it/s, loss=0.0832]\n"
     ]
    },
    {
     "name": "stdout",
     "output_type": "stream",
     "text": [
      "Mean Training Loss for validation set on EPOCH 1 : 0.10805232622302495\n"
     ]
    },
    {
     "name": "stderr",
     "output_type": "stream",
     "text": [
      "Epoch 2: 100%|██████████| 222/222 [02:28<00:00,  1.50it/s, loss=0.0833]\n"
     ]
    },
    {
     "name": "stdout",
     "output_type": "stream",
     "text": [
      "Mean Training Loss 0.09823174373590732\n"
     ]
    },
    {
     "name": "stderr",
     "output_type": "stream",
     "text": [
      "Epoch 2: 100%|██████████| 26/26 [00:04<00:00,  5.85it/s, loss=0.064] \n"
     ]
    },
    {
     "name": "stdout",
     "output_type": "stream",
     "text": [
      "Mean Training Loss for validation set on EPOCH 2 : 0.07905014547017905\n"
     ]
    },
    {
     "name": "stderr",
     "output_type": "stream",
     "text": [
      "Epoch 3: 100%|██████████| 222/222 [02:28<00:00,  1.50it/s, loss=0.0772]\n"
     ]
    },
    {
     "name": "stdout",
     "output_type": "stream",
     "text": [
      "Mean Training Loss 0.08132501097547042\n"
     ]
    },
    {
     "name": "stderr",
     "output_type": "stream",
     "text": [
      "Epoch 3: 100%|██████████| 26/26 [00:04<00:00,  5.83it/s, loss=0.0532]\n"
     ]
    },
    {
     "name": "stdout",
     "output_type": "stream",
     "text": [
      "Mean Training Loss for validation set on EPOCH 3 : 0.06717115826904774\n"
     ]
    },
    {
     "name": "stderr",
     "output_type": "stream",
     "text": [
      "Epoch 4: 100%|██████████| 222/222 [02:29<00:00,  1.48it/s, loss=0.0621]\n"
     ]
    },
    {
     "name": "stdout",
     "output_type": "stream",
     "text": [
      "Mean Training Loss 0.07052316464617983\n"
     ]
    },
    {
     "name": "stderr",
     "output_type": "stream",
     "text": [
      "Epoch 4: 100%|██████████| 26/26 [00:04<00:00,  5.80it/s, loss=0.0951]\n"
     ]
    },
    {
     "name": "stdout",
     "output_type": "stream",
     "text": [
      "Mean Training Loss for validation set on EPOCH 4 : 0.07987813193064469\n"
     ]
    },
    {
     "name": "stderr",
     "output_type": "stream",
     "text": [
      "Epoch 5: 100%|██████████| 222/222 [02:30<00:00,  1.48it/s, loss=0.0595]\n"
     ]
    },
    {
     "name": "stdout",
     "output_type": "stream",
     "text": [
      "Mean Training Loss 0.06249091492311375\n"
     ]
    },
    {
     "name": "stderr",
     "output_type": "stream",
     "text": [
      "Epoch 5: 100%|██████████| 26/26 [00:04<00:00,  5.83it/s, loss=0.0474]\n"
     ]
    },
    {
     "name": "stdout",
     "output_type": "stream",
     "text": [
      "Mean Training Loss for validation set on EPOCH 5 : 0.05513558321847366\n"
     ]
    },
    {
     "name": "stderr",
     "output_type": "stream",
     "text": [
      "Epoch 6: 100%|██████████| 222/222 [02:28<00:00,  1.50it/s, loss=0.0568]\n"
     ]
    },
    {
     "name": "stdout",
     "output_type": "stream",
     "text": [
      "Mean Training Loss 0.05518483929336071\n"
     ]
    },
    {
     "name": "stderr",
     "output_type": "stream",
     "text": [
      "Epoch 6: 100%|██████████| 26/26 [00:04<00:00,  5.79it/s, loss=0.0801]\n"
     ]
    },
    {
     "name": "stdout",
     "output_type": "stream",
     "text": [
      "Mean Training Loss for validation set on EPOCH 6 : 0.06178715309271446\n"
     ]
    },
    {
     "name": "stderr",
     "output_type": "stream",
     "text": [
      "Epoch 7: 100%|██████████| 222/222 [02:28<00:00,  1.50it/s, loss=0.0564]\n"
     ]
    },
    {
     "name": "stdout",
     "output_type": "stream",
     "text": [
      "Mean Training Loss 0.04813969623599503\n"
     ]
    },
    {
     "name": "stderr",
     "output_type": "stream",
     "text": [
      "Epoch 7: 100%|██████████| 26/26 [00:04<00:00,  5.80it/s, loss=0.0413]\n"
     ]
    },
    {
     "name": "stdout",
     "output_type": "stream",
     "text": [
      "Mean Training Loss for validation set on EPOCH 7 : 0.043823727478201575\n"
     ]
    },
    {
     "name": "stderr",
     "output_type": "stream",
     "text": [
      "Epoch 8: 100%|██████████| 222/222 [02:29<00:00,  1.49it/s, loss=0.0369]\n"
     ]
    },
    {
     "name": "stdout",
     "output_type": "stream",
     "text": [
      "Mean Training Loss 0.04330549303542923\n"
     ]
    },
    {
     "name": "stderr",
     "output_type": "stream",
     "text": [
      "Epoch 8: 100%|██████████| 26/26 [00:04<00:00,  5.80it/s, loss=0.0528]\n"
     ]
    },
    {
     "name": "stdout",
     "output_type": "stream",
     "text": [
      "Mean Training Loss for validation set on EPOCH 8 : 0.04175261236154116\n"
     ]
    },
    {
     "name": "stderr",
     "output_type": "stream",
     "text": [
      "Epoch 9: 100%|██████████| 222/222 [02:27<00:00,  1.50it/s, loss=0.0453]\n"
     ]
    },
    {
     "name": "stdout",
     "output_type": "stream",
     "text": [
      "Mean Training Loss 0.03854264051292662\n"
     ]
    },
    {
     "name": "stderr",
     "output_type": "stream",
     "text": [
      "Epoch 9: 100%|██████████| 26/26 [00:04<00:00,  5.79it/s, loss=0.0345]\n"
     ]
    },
    {
     "name": "stdout",
     "output_type": "stream",
     "text": [
      "Mean Training Loss for validation set on EPOCH 9 : 0.03545231565546531\n"
     ]
    },
    {
     "name": "stderr",
     "output_type": "stream",
     "text": [
      "Epoch 10: 100%|██████████| 222/222 [02:27<00:00,  1.50it/s, loss=0.0347]\n"
     ]
    },
    {
     "name": "stdout",
     "output_type": "stream",
     "text": [
      "Mean Training Loss 0.03727998987242982\n"
     ]
    },
    {
     "name": "stderr",
     "output_type": "stream",
     "text": [
      "Epoch 10: 100%|██████████| 26/26 [00:04<00:00,  5.82it/s, loss=0.0781]\n"
     ]
    },
    {
     "name": "stdout",
     "output_type": "stream",
     "text": [
      "Mean Training Loss for validation set on EPOCH 10 : 0.05416582696712934\n"
     ]
    },
    {
     "name": "stderr",
     "output_type": "stream",
     "text": [
      "Epoch 11: 100%|██████████| 222/222 [02:27<00:00,  1.50it/s, loss=0.0375]\n"
     ]
    },
    {
     "name": "stdout",
     "output_type": "stream",
     "text": [
      "Mean Training Loss 0.03441753926443624\n"
     ]
    },
    {
     "name": "stderr",
     "output_type": "stream",
     "text": [
      "Epoch 11: 100%|██████████| 26/26 [00:04<00:00,  5.81it/s, loss=0.06]  \n"
     ]
    },
    {
     "name": "stdout",
     "output_type": "stream",
     "text": [
      "Mean Training Loss for validation set on EPOCH 11 : 0.04307905176224617\n"
     ]
    },
    {
     "name": "stderr",
     "output_type": "stream",
     "text": [
      "Epoch 12: 100%|██████████| 222/222 [02:28<00:00,  1.50it/s, loss=0.0237]\n"
     ]
    },
    {
     "name": "stdout",
     "output_type": "stream",
     "text": [
      "Mean Training Loss 0.03349779806359931\n"
     ]
    },
    {
     "name": "stderr",
     "output_type": "stream",
     "text": [
      "Epoch 12: 100%|██████████| 26/26 [00:04<00:00,  5.76it/s, loss=0.0491]\n"
     ]
    },
    {
     "name": "stdout",
     "output_type": "stream",
     "text": [
      "Mean Training Loss for validation set on EPOCH 12 : 0.03994049002917913\n"
     ]
    },
    {
     "name": "stderr",
     "output_type": "stream",
     "text": [
      "Epoch 13: 100%|██████████| 222/222 [02:28<00:00,  1.49it/s, loss=0.0415]\n"
     ]
    },
    {
     "name": "stdout",
     "output_type": "stream",
     "text": [
      "Mean Training Loss 0.03201975785867051\n"
     ]
    },
    {
     "name": "stderr",
     "output_type": "stream",
     "text": [
      "Epoch 13: 100%|██████████| 26/26 [00:04<00:00,  5.79it/s, loss=0.0498]\n"
     ]
    },
    {
     "name": "stdout",
     "output_type": "stream",
     "text": [
      "Mean Training Loss for validation set on EPOCH 13 : 0.04604765149549796\n"
     ]
    },
    {
     "name": "stderr",
     "output_type": "stream",
     "text": [
      "Epoch 14: 100%|██████████| 222/222 [02:28<00:00,  1.50it/s, loss=0.03]  \n"
     ]
    },
    {
     "name": "stdout",
     "output_type": "stream",
     "text": [
      "Mean Training Loss 0.0328673167271657\n"
     ]
    },
    {
     "name": "stderr",
     "output_type": "stream",
     "text": [
      "Epoch 14: 100%|██████████| 26/26 [00:04<00:00,  5.84it/s, loss=0.0493]\n"
     ]
    },
    {
     "name": "stdout",
     "output_type": "stream",
     "text": [
      "Mean Training Loss for validation set on EPOCH 14 : 0.04299611476464914\n"
     ]
    },
    {
     "name": "stderr",
     "output_type": "stream",
     "text": [
      "Test: 100%|██████████| 59/59 [00:10<00:00,  5.46it/s, loss=0.0276]"
     ]
    },
    {
     "name": "stdout",
     "output_type": "stream",
     "text": [
      "Mean Training Loss for test set : 0.03824225911018202\n"
     ]
    },
    {
     "name": "stderr",
     "output_type": "stream",
     "text": [
      "\n"
     ]
    }
   ],
   "source": [
    "optimizer = torch.optim.Adam(pretrain_model.parameters(), lr=.001)\n",
    "\n",
    "epochs = 15\n",
    "\n",
    "\n",
    "for epoch in range(epochs):\n",
    "\n",
    "    # Allows for progress bar during training per epoch\n",
    "    loop = tqdm(dataloader_train, leave=True)\n",
    "    losses = []\n",
    "    \n",
    "    for batch in loop:\n",
    "        \n",
    "        # Puts model in train mode\n",
    "        pretrain_model.train()\n",
    "        \n",
    "        # Clears any previous gradient calculations\n",
    "        optimizer.zero_grad()\n",
    "        \n",
    "        # Transfers batch onto GPU for faster processing\n",
    "        past_values = batch[0].to(device)\n",
    "        \n",
    "        # Foward pass through our model, generates predictions\n",
    "        outputs = pretrain_model(past_values=past_values)\n",
    "        \n",
    "        # Get's the loss for our predictions (how far off our predictions were)\n",
    "        loss = outputs.loss\n",
    "        \n",
    "        # Calculates which weights contributed to the error of our prediction\n",
    "        loss.backward()\n",
    "        \n",
    "        torch.nn.utils.clip_grad_norm_(pretrain_model.parameters(), max_norm=3)\n",
    "        \n",
    "        # Updates the optimizer based on the calculations made from loss.backward()\n",
    "        optimizer.step()\n",
    "        \n",
    "        loop.set_description(f'Epoch {epoch}')\n",
    "        loop.set_postfix(loss=loss.item())\n",
    "        losses.append(loss.item())\n",
    "    \n",
    "    print(\"Mean Training Loss\", np.mean(losses))\n",
    "        \n",
    "    pretrain_model.eval()\n",
    "    losses = []\n",
    "\n",
    "    loop = tqdm(dataloader_val, leave=True)\n",
    "    \n",
    "    for batch in loop:\n",
    "        pretrain_model.eval()\n",
    "        \n",
    "        past_values = batch[0].to(device)\n",
    "        \n",
    "        outputs = pretrain_model(past_values=past_values)\n",
    "        \n",
    "        loss = outputs.loss\n",
    "        \n",
    "        loop.set_description(f'Epoch {epoch}')\n",
    "        loop.set_postfix(loss=loss.item())\n",
    "        losses.append(loss.item())\n",
    "        \n",
    "    print(f\"Mean Training Loss for validation set on EPOCH {epoch} : {np.mean(losses)}\")\n",
    "\n",
    "pretrain_model.eval()\n",
    "losses = []\n",
    "\n",
    "loop = tqdm(dataloader_test, leave=True)\n",
    "\n",
    "for batch in loop:\n",
    "    \n",
    "    past_values = batch[0].to(device)\n",
    "    \n",
    "    outputs = pretrain_model(past_values=past_values)\n",
    "    \n",
    "    loss = outputs.loss\n",
    "    \n",
    "    loop.set_description(f'Test')\n",
    "    loop.set_postfix(loss=loss.item())\n",
    "    losses.append(loss.item())\n",
    "    \n",
    "print(f\"Mean Training Loss for test set : {np.mean(losses)}\")"
   ]
  },
  {
   "cell_type": "code",
   "execution_count": 34,
   "metadata": {},
   "outputs": [],
   "source": [
    "torch.save(pretrain_model.state_dict(), 'pt_1*5yn_v2.bin')"
   ]
  },
  {
   "cell_type": "markdown",
   "metadata": {},
   "source": [
    "### Model Logs"
   ]
  },
  {
   "cell_type": "markdown",
   "metadata": {},
   "source": [
    "#### Mode: pt_1*5yn_v1"
   ]
  },
  {
   "cell_type": "code",
   "execution_count": null,
   "metadata": {},
   "outputs": [],
   "source": [
    "EPOCH = 15\n",
    "BATCH_SIZE = 16\n",
    "NUM_TARGET = 3\n",
    "CONTEXT_LEN = 150\n",
    "PATCH_LEN = 10\n",
    "PATCH_STRD = 5\n",
    "NUM_PATCH = int(PATCH_LEN * .4) # 40% of our Patch"
   ]
  },
  {
   "cell_type": "markdown",
   "metadata": {},
   "source": [
    "Mean Training Loss: 0.17927149336850434"
   ]
  },
  {
   "cell_type": "markdown",
   "metadata": {},
   "source": [
    "Model: pt_1*5yn_v2"
   ]
  },
  {
   "cell_type": "code",
   "execution_count": null,
   "metadata": {},
   "outputs": [],
   "source": [
    "# How many features we are including \n",
    "NUM_INPUT = len(dataset.columns)\n",
    "BATCH_SIZE = 16\n",
    "EPOCH = 15\n",
    "\n",
    "NUM_TARGET = 4\n",
    "CONTEXT_LEN = 120\n",
    "PATCH_LEN = 20\n",
    "PATCH_STRD = 10\n",
    "MASK_TYPE = 'forecast'\n",
    "D_MODEL = 132\n",
    "NUM_HIDD_LAYERS = 4\n",
    "NUM_ATT_HEAD = 4\n",
    "ATT_DROP = .13\n",
    "FF_DROP = .23\n",
    "PATH_DROP = (NUM_HIDD_LAYERS - 2) * .05\n",
    "NUM_PATCH = int(PATCH_LEN * .3)"
   ]
  },
  {
   "cell_type": "markdown",
   "metadata": {},
   "source": [
    "Mean Training Loss: 0.03824225911018202"
   ]
  },
  {
   "cell_type": "markdown",
   "metadata": {},
   "source": [
    "## Fine-Tuning"
   ]
  },
  {
   "cell_type": "markdown",
   "metadata": {},
   "source": [
    "### Setting Up Model Configurations"
   ]
  },
  {
   "cell_type": "code",
   "execution_count": 81,
   "metadata": {},
   "outputs": [],
   "source": [
    "NUM_INPUT = 4\n",
    "NUM_TARGET = 4\n",
    "CONTEXT_LEN = 120\n",
    "PATCH_LEN = 20\n",
    "PATCH_STRD = 10\n",
    "MASK_TYPE = 'forecast'\n",
    "D_MODEL = 132\n",
    "NUM_HIDD_LAYERS = 4\n",
    "NUM_ATT_HEAD = 4\n",
    "ATT_DROP = .13\n",
    "FF_DROP = .23\n",
    "PATH_DROP = (NUM_HIDD_LAYERS - 2) * .05\n",
    "NUM_PATCH = int(PATCH_LEN * .3)\n",
    "BATCH_SIZE = 8"
   ]
  },
  {
   "cell_type": "code",
   "execution_count": 95,
   "metadata": {},
   "outputs": [
    {
     "name": "stderr",
     "output_type": "stream",
     "text": [
      "Setting `do_mask_input` parameter to False.\n"
     ]
    },
    {
     "data": {
      "text/plain": [
       "<All keys matched successfully>"
      ]
     },
     "execution_count": 95,
     "metadata": {},
     "output_type": "execute_result"
    }
   ],
   "source": [
    "# How many days to predict into the future\n",
    "PRED_LEN = 3 # One Month Prediction\n",
    "NUM_TARGET = 4\n",
    "\n",
    "# Advance Model Configuration \n",
    "ft_config = PatchTSTConfig(\n",
    "    num_input_channels = NUM_INPUT,\n",
    "    num_targets=NUM_TARGET,\n",
    "    context_length = CONTEXT_LEN,\n",
    "    patch_length = PATCH_LEN,\n",
    "    stride = PATCH_STRD,\n",
    "    mask_type='forecast',\n",
    "    num_forecast_mask_patches = NUM_PATCH,\n",
    "    do_mask_input=True,\n",
    "    d_model=D_MODEL,\n",
    "    num_hidden_layers=NUM_HIDD_LAYERS,\n",
    "    num_attention_heads=NUM_ATT_HEAD,\n",
    "    attention_dropout=ATT_DROP,\n",
    "    ff_dropout=FF_DROP,\n",
    "    path_dropout=PATH_DROP,\n",
    "    prediction_length=PRED_LEN\n",
    ")\n",
    "\n",
    "# # Basic Model Configuration \n",
    "# ft_config = PatchTSTConfig(\n",
    "#     num_input_channels = NUM_INPUT,\n",
    "#     num_targets=NUM_TARGET,\n",
    "#     context_length = CONTEXT_LEN,\n",
    "#     patch_length = PATCH_LEN,\n",
    "#     patch_stride = PATCH_STRD,\n",
    "#     prediction_length=PRED_LEN \n",
    "# )\n",
    "\n",
    "features_to_pred = ['^GSPC Close', '^DJI Close', 'ES=F Close', 'YM=F Close']\n",
    "\n",
    "ft_model = PatchTSTForPrediction(ft_config)\n",
    "\n",
    "# First, load your saved pretrained model\n",
    "pretrained_weights = torch.load('./pt_1*5yn_v2.bin')\n",
    "\n",
    "# Copy weights from the encoder part of the pretrained model\n",
    "# This will transfer only the compatible weights\n",
    "prediction_model_dict = ft_model.state_dict()\n",
    "\n",
    "for name, param in pretrained_weights.items():\n",
    "    if 'encoder' in name:\n",
    "        # The encoder part is usually named like 'encoder.xxx' in both models\n",
    "        if name in prediction_model_dict:\n",
    "            prediction_model_dict[name] = param\n",
    "ft_model.load_state_dict(prediction_model_dict)"
   ]
  },
  {
   "cell_type": "markdown",
   "metadata": {},
   "source": [
    "### Preparing Data for Fine-Tuning"
   ]
  },
  {
   "cell_type": "code",
   "execution_count": 96,
   "metadata": {},
   "outputs": [],
   "source": [
    "# Set up constraints for development\n",
    "num_train = int(len(dataset) * .7)\n",
    "num_test = int(len(dataset) * .2)\n",
    "num_val = int(len(dataset) * .1)\n",
    "\n",
    "dataset = dataset[features_to_pred]\n",
    "targ_data = dataset\n",
    "\n",
    "train_targ = targ_data[0: num_train]\n",
    "train_feat = dataset[0: num_train]\n",
    "\n",
    "test_targ = targ_data[num_train:num_test + num_train]\n",
    "test_feat = dataset[num_train:num_test + num_train]\n",
    "\n",
    "val_targ = targ_data[num_test+num_train:(num_test+num_train) + num_val]\n",
    "val_feat = dataset[num_test+num_train:(num_test+num_train) + num_val]"
   ]
  },
  {
   "cell_type": "markdown",
   "metadata": {},
   "source": [
    "**Getting Target/Input Features**\n",
    "\n",
    "This part is a little odd. \n",
    "\n",
    "- **Input Features**\n",
    "\n",
    "    To get the target features all we need to do is construct a window that looks at the past N amount of days for each data point.\n",
    "    We include the features we want to predict which makes it **Self Supervised**. \n",
    "\n",
    "- **Output Features**\n",
    "\n",
    "    What we are doing is getting the actual targets we want to predict and making a future window for just the 2 features. \n",
    "    In this case we are looking 90 days into the future, or what the model is predicting, and grabbing those values. This is used \n",
    "    for the model to evalute it's prediction"
   ]
  },
  {
   "cell_type": "code",
   "execution_count": 97,
   "metadata": {},
   "outputs": [],
   "source": [
    "# Creates a context window for each data point to feed into the model during training\n",
    "def create_sequence_windows(data, window_size):\n",
    "    windows = []\n",
    "    \n",
    "    # We start in the dataFrame at an index 'window_size' and look back depending on the window size\n",
    "    # We will grab a context window for all data points\n",
    "    for i in range(len(data) - window_size + 1):\n",
    "        windows.append(data.iloc[i:i+window_size].values)\n",
    "    return np.array(windows)\n",
    "\n",
    "train_feat_windows = create_sequence_windows(train_feat, CONTEXT_LEN)\n",
    "test_feat_windows = create_sequence_windows(test_feat, CONTEXT_LEN)\n",
    "val_feat_windows = create_sequence_windows(val_feat, CONTEXT_LEN)\n",
    "\n",
    "# Remove values at the end that don't have enough future data\n",
    "train_feat_windows = train_feat_windows[0:len(train_feat_windows) - PRED_LEN]\n",
    "test_feat_windows = test_feat_windows[0:len(test_feat_windows) - PRED_LEN]\n",
    "val_feat_windows = val_feat_windows[0:len(val_feat_windows) - PRED_LEN]"
   ]
  },
  {
   "cell_type": "code",
   "execution_count": 98,
   "metadata": {},
   "outputs": [],
   "source": [
    "# Gets indices for the target variables, starting from where we first start predicting with a full context length\n",
    "# to the last index that will allow for a full prediction\n",
    "train_targ_indices = range(CONTEXT_LEN, len(train_feat) - PRED_LEN + 1)\n",
    "test_targ_indices = range(CONTEXT_LEN, len(test_feat) - PRED_LEN + 1)\n",
    "val_targ_indices = range(CONTEXT_LEN, len(val_feat) - PRED_LEN + 1)"
   ]
  },
  {
   "cell_type": "code",
   "execution_count": 99,
   "metadata": {},
   "outputs": [],
   "source": [
    "train_targ_windows = [train_targ.iloc[i:i+PRED_LEN].values for i in train_targ_indices]\n",
    "test_targ_windows = [test_targ.iloc[i:i+PRED_LEN].values for i in test_targ_indices]\n",
    "val_targ_windows = [val_targ.iloc[i:i+PRED_LEN].values for i in val_targ_indices]\n",
    "\n",
    "train_targ_windows = np.array(train_targ_windows)\n",
    "test_targ_windows = np.array(test_targ_windows )\n",
    "val_targ_windows = np.array(val_targ_windows)"
   ]
  },
  {
   "cell_type": "code",
   "execution_count": 100,
   "metadata": {},
   "outputs": [
    {
     "data": {
      "text/plain": [
       "(torch.Size([926, 120, 4]), torch.Size([926, 3, 4]))"
      ]
     },
     "execution_count": 100,
     "metadata": {},
     "output_type": "execute_result"
    }
   ],
   "source": [
    "\n",
    "past_train = torch.tensor(train_feat_windows, dtype=torch.float32)\n",
    "past_test = torch.tensor(test_feat_windows, dtype=torch.float32)\n",
    "past_val = torch.tensor(val_feat_windows, dtype=torch.float32)\n",
    "\n",
    "future_train = torch.tensor(train_targ_windows, dtype=torch.float32)\n",
    "future_test = torch.tensor(test_targ_windows, dtype=torch.float32)\n",
    "future_val = torch.tensor(val_targ_windows, dtype=torch.float32)\n",
    "past_test.shape, future_test.shape"
   ]
  },
  {
   "cell_type": "code",
   "execution_count": 101,
   "metadata": {},
   "outputs": [],
   "source": [
    "train_data = TensorDataset(past_train, future_train)\n",
    "test_data = TensorDataset(past_test, future_test)\n",
    "val_data = TensorDataset(past_val, future_val)\n",
    "\n",
    "dataloader_train = DataLoader(train_data, batch_size=BATCH_SIZE, shuffle=True)\n",
    "dataloader_test = DataLoader(test_data, batch_size=BATCH_SIZE, shuffle=True)\n",
    "dataloader_val = DataLoader(val_data, batch_size=BATCH_SIZE, shuffle=True)"
   ]
  },
  {
   "cell_type": "markdown",
   "metadata": {},
   "source": [
    "### Fine-Tuning Model"
   ]
  },
  {
   "cell_type": "code",
   "execution_count": 102,
   "metadata": {},
   "outputs": [],
   "source": [
    "device = torch.device('mps')\n",
    "ft_model = ft_model.to(device)"
   ]
  },
  {
   "cell_type": "code",
   "execution_count": 103,
   "metadata": {},
   "outputs": [
    {
     "name": "stderr",
     "output_type": "stream",
     "text": [
      "  0%|          | 0/444 [00:00<?, ?it/s]"
     ]
    },
    {
     "name": "stderr",
     "output_type": "stream",
     "text": [
      "Epoch 0: 100%|██████████| 444/444 [00:24<00:00, 17.96it/s, loss=0.452] \n"
     ]
    },
    {
     "name": "stdout",
     "output_type": "stream",
     "text": [
      "Mean Training Loss 0.30278633377170777\n"
     ]
    },
    {
     "name": "stderr",
     "output_type": "stream",
     "text": [
      "Epoch 0: 100%|██████████| 51/51 [00:00<00:00, 63.80it/s, loss=0.0642]\n"
     ]
    },
    {
     "name": "stdout",
     "output_type": "stream",
     "text": [
      "Mean Training Loss for validation set on EPOCH 0 : 0.25489044569286645\n"
     ]
    },
    {
     "name": "stderr",
     "output_type": "stream",
     "text": [
      "Epoch 1: 100%|██████████| 444/444 [00:22<00:00, 19.56it/s, loss=0.0492]\n"
     ]
    },
    {
     "name": "stdout",
     "output_type": "stream",
     "text": [
      "Mean Training Loss 0.2569689399118091\n"
     ]
    },
    {
     "name": "stderr",
     "output_type": "stream",
     "text": [
      "Epoch 1: 100%|██████████| 51/51 [00:00<00:00, 77.65it/s, loss=0.81]  \n"
     ]
    },
    {
     "name": "stdout",
     "output_type": "stream",
     "text": [
      "Mean Training Loss for validation set on EPOCH 1 : 0.22454940732203277\n"
     ]
    },
    {
     "name": "stderr",
     "output_type": "stream",
     "text": [
      "Epoch 2: 100%|██████████| 444/444 [00:22<00:00, 19.33it/s, loss=0.146] \n"
     ]
    },
    {
     "name": "stdout",
     "output_type": "stream",
     "text": [
      "Mean Training Loss 0.21865175764269387\n"
     ]
    },
    {
     "name": "stderr",
     "output_type": "stream",
     "text": [
      "Epoch 2: 100%|██████████| 51/51 [00:00<00:00, 103.03it/s, loss=0.06]  \n"
     ]
    },
    {
     "name": "stdout",
     "output_type": "stream",
     "text": [
      "Mean Training Loss for validation set on EPOCH 2 : 0.18072833193867816\n"
     ]
    },
    {
     "name": "stderr",
     "output_type": "stream",
     "text": [
      "Epoch 3: 100%|██████████| 444/444 [00:25<00:00, 17.21it/s, loss=0.0594]\n"
     ]
    },
    {
     "name": "stdout",
     "output_type": "stream",
     "text": [
      "Mean Training Loss 0.18823358548704433\n"
     ]
    },
    {
     "name": "stderr",
     "output_type": "stream",
     "text": [
      "Epoch 3: 100%|██████████| 51/51 [00:00<00:00, 58.98it/s, loss=0.271] \n"
     ]
    },
    {
     "name": "stdout",
     "output_type": "stream",
     "text": [
      "Mean Training Loss for validation set on EPOCH 3 : 0.152521530056701\n"
     ]
    },
    {
     "name": "stderr",
     "output_type": "stream",
     "text": [
      "Epoch 4: 100%|██████████| 444/444 [00:22<00:00, 19.81it/s, loss=0.0297]\n"
     ]
    },
    {
     "name": "stdout",
     "output_type": "stream",
     "text": [
      "Mean Training Loss 0.16179026420823894\n"
     ]
    },
    {
     "name": "stderr",
     "output_type": "stream",
     "text": [
      "Epoch 4: 100%|██████████| 51/51 [00:00<00:00, 61.47it/s, loss=0.249] \n"
     ]
    },
    {
     "name": "stdout",
     "output_type": "stream",
     "text": [
      "Mean Training Loss for validation set on EPOCH 4 : 0.13031085229971828\n"
     ]
    },
    {
     "name": "stderr",
     "output_type": "stream",
     "text": [
      "Epoch 5: 100%|██████████| 444/444 [00:24<00:00, 18.50it/s, loss=0.394] \n"
     ]
    },
    {
     "name": "stdout",
     "output_type": "stream",
     "text": [
      "Mean Training Loss 0.14232880804008124\n"
     ]
    },
    {
     "name": "stderr",
     "output_type": "stream",
     "text": [
      "Epoch 5: 100%|██████████| 51/51 [00:00<00:00, 105.83it/s, loss=0.0133]\n"
     ]
    },
    {
     "name": "stdout",
     "output_type": "stream",
     "text": [
      "Mean Training Loss for validation set on EPOCH 5 : 0.10975068438725144\n"
     ]
    },
    {
     "name": "stderr",
     "output_type": "stream",
     "text": [
      "Epoch 6: 100%|██████████| 444/444 [00:23<00:00, 19.03it/s, loss=0.0886]\n"
     ]
    },
    {
     "name": "stdout",
     "output_type": "stream",
     "text": [
      "Mean Training Loss 0.12557573129238375\n"
     ]
    },
    {
     "name": "stderr",
     "output_type": "stream",
     "text": [
      "Epoch 6: 100%|██████████| 51/51 [00:00<00:00, 59.08it/s, loss=0.181] \n"
     ]
    },
    {
     "name": "stdout",
     "output_type": "stream",
     "text": [
      "Mean Training Loss for validation set on EPOCH 6 : 0.10203729675827074\n"
     ]
    },
    {
     "name": "stderr",
     "output_type": "stream",
     "text": [
      "Epoch 7: 100%|██████████| 444/444 [00:22<00:00, 19.84it/s, loss=0.0666]\n"
     ]
    },
    {
     "name": "stdout",
     "output_type": "stream",
     "text": [
      "Mean Training Loss 0.1140034791115705\n"
     ]
    },
    {
     "name": "stderr",
     "output_type": "stream",
     "text": [
      "Epoch 7: 100%|██████████| 51/51 [00:00<00:00, 70.55it/s, loss=0.0546]\n"
     ]
    },
    {
     "name": "stdout",
     "output_type": "stream",
     "text": [
      "Mean Training Loss for validation set on EPOCH 7 : 0.08896869935971849\n"
     ]
    },
    {
     "name": "stderr",
     "output_type": "stream",
     "text": [
      "Epoch 8: 100%|██████████| 444/444 [00:24<00:00, 17.88it/s, loss=0.113]  \n"
     ]
    },
    {
     "name": "stdout",
     "output_type": "stream",
     "text": [
      "Mean Training Loss 0.10526431913840005\n"
     ]
    },
    {
     "name": "stderr",
     "output_type": "stream",
     "text": [
      "Epoch 8: 100%|██████████| 51/51 [00:00<00:00, 54.70it/s, loss=0.0822]\n"
     ]
    },
    {
     "name": "stdout",
     "output_type": "stream",
     "text": [
      "Mean Training Loss for validation set on EPOCH 8 : 0.08209802013109713\n"
     ]
    },
    {
     "name": "stderr",
     "output_type": "stream",
     "text": [
      "Epoch 9: 100%|██████████| 444/444 [00:23<00:00, 18.61it/s, loss=0.0217]\n"
     ]
    },
    {
     "name": "stdout",
     "output_type": "stream",
     "text": [
      "Mean Training Loss 0.09691613308061753\n"
     ]
    },
    {
     "name": "stderr",
     "output_type": "stream",
     "text": [
      "Epoch 9: 100%|██████████| 51/51 [00:00<00:00, 106.38it/s, loss=0.0179]\n"
     ]
    },
    {
     "name": "stdout",
     "output_type": "stream",
     "text": [
      "Mean Training Loss for validation set on EPOCH 9 : 0.07576879508355085\n"
     ]
    },
    {
     "name": "stderr",
     "output_type": "stream",
     "text": [
      "Test: 100%|██████████| 116/116 [00:01<00:00, 81.17it/s, loss=0.101] "
     ]
    },
    {
     "name": "stdout",
     "output_type": "stream",
     "text": [
      "Mean Training Loss for test set : 0.36414597441654395\n"
     ]
    },
    {
     "name": "stderr",
     "output_type": "stream",
     "text": [
      "\n"
     ]
    }
   ],
   "source": [
    "optimizer = torch.optim.Adam(ft_model.parameters(), lr=.00001)\n",
    "\n",
    "\n",
    "epochs = 10\n",
    "\n",
    "for epoch in range(epochs):\n",
    "\n",
    "    # Allows for progress bar during training per epoch\n",
    "    loop = tqdm(dataloader_train, leave=True)\n",
    "    losses = []\n",
    "    \n",
    "    for past_values, future_values in loop:\n",
    "        ft_model.train()\n",
    "        \n",
    "        # Clears any previous gradient calculations\n",
    "        optimizer.zero_grad()\n",
    "        \n",
    "        # Transfers batch onto GPU for faster processing\n",
    "        past_values = past_values.to(device)\n",
    "        future_values = future_values.to(device)\n",
    "        \n",
    "        # Foward pass through our model, generates predictions\n",
    "        outputs = ft_model(past_values=past_values, future_values=future_values)\n",
    "        \n",
    "        # Get's the loss for our predictions (how far off our predictions were)\n",
    "        loss = outputs.loss\n",
    "        \n",
    "        # Calculates which weights contributed to the error of our prediction\n",
    "        loss.backward()\n",
    "        \n",
    "        # Add gradient clipping to scale down calculated gradient\n",
    "        torch.nn.utils.clip_grad_norm_(ft_model.parameters(), max_norm=.0000001)\n",
    "        \n",
    "        # Updates the optimizer based on the calculations made from loss.backward()\n",
    "        optimizer.step()\n",
    "        \n",
    "        loop.set_description(f'Epoch {epoch}')\n",
    "        loop.set_postfix(loss=loss.item())\n",
    "        losses.append(loss.item())\n",
    "    \n",
    "    print(\"Mean Training Loss\", np.nanmean(losses))\n",
    "        \n",
    "    ft_model.eval()\n",
    "    losses = []\n",
    "\n",
    "    loop = tqdm(dataloader_val, leave=True)\n",
    "    \n",
    "    for past_values, future_values in loop:\n",
    "        \n",
    "        past_values = past_values.to(device)\n",
    "        future_values = future_values.to(device)\n",
    "        \n",
    "        # Foward pass through our model, generates predictions\n",
    "        outputs = ft_model(past_values=past_values, future_values=future_values)\n",
    "        \n",
    "        loss = outputs.loss\n",
    "        \n",
    "        loop.set_description(f'Epoch {epoch}')\n",
    "        loop.set_postfix(loss=loss.item())\n",
    "        losses.append(loss.item())\n",
    "        \n",
    "    print(f\"Mean Training Loss for validation set on EPOCH {epoch} : {np.nanmean(losses)}\")\n",
    "\n",
    "ft_model.eval()\n",
    "losses = []\n",
    "\n",
    "loop = tqdm(dataloader_test, leave=True)\n",
    "\n",
    "for past_values, future_values in loop:\n",
    "    \n",
    "    past_values = past_values.to(device)\n",
    "    future_values = future_values.to(device)\n",
    "    \n",
    "    # Foward pass through our model, generates predictions\n",
    "    outputs = ft_model(past_values=past_values, future_values=future_values)\n",
    "    \n",
    "    loss = outputs.loss\n",
    "    \n",
    "    loop.set_description(f'Test')\n",
    "    loop.set_postfix(loss=loss.item())\n",
    "    losses.append(loss.item())\n",
    "    \n",
    "print(f\"Mean Training Loss for test set : {np.nanmean(losses)}\")\n"
   ]
  },
  {
   "cell_type": "markdown",
   "metadata": {},
   "source": [
    "### Export Model"
   ]
  },
  {
   "cell_type": "code",
   "execution_count": 64,
   "metadata": {},
   "outputs": [],
   "source": [
    "torch.save(ft_model.state_dict(), 'pt_1*5yn_v2_ft_3d_v1.bin')"
   ]
  },
  {
   "cell_type": "markdown",
   "metadata": {},
   "source": [
    "### Model Log"
   ]
  },
  {
   "cell_type": "markdown",
   "metadata": {},
   "source": [
    "- **pt_1*5yn_v1_ft_3d_v1** MSE - .11"
   ]
  },
  {
   "cell_type": "markdown",
   "metadata": {},
   "source": [
    "## Evaluate"
   ]
  },
  {
   "cell_type": "markdown",
   "metadata": {},
   "source": [
    "### Autoregression"
   ]
  },
  {
   "cell_type": "markdown",
   "metadata": {},
   "source": [
    "To use this model we will use a method called autoregression. Autoregression is where predictions are based on previous values of the target variable.\n",
    "\n",
    "The core idea of autoregression is as follows:\n",
    "\n",
    "1. The model makes an initial prediction\n",
    "\n",
    "2. We feed this prediction back into our dataset\n",
    "\n",
    "3. Based on our prediction and previous values, we make another prediction.\n",
    "\n",
    "What we are doing is creating a feedback loop where we keep making predictions based off prior predictions\n"
   ]
  },
  {
   "cell_type": "code",
   "execution_count": 6,
   "metadata": {},
   "outputs": [],
   "source": [
    "from datetime import datetime, timedelta\n",
    "def next_business_day(date):\n",
    "    # Add one day initially\n",
    "    next_date = date + timedelta(days=1)\n",
    "    \n",
    "    # Keep adding days until we reach a weekday (Monday-Friday)\n",
    "    while next_date.weekday() >= 5:  # 5 is Saturday, 6 is Sunday\n",
    "        next_date = next_date + timedelta(days=1)\n",
    "        \n",
    "    return next_date"
   ]
  },
  {
   "cell_type": "code",
   "execution_count": 65,
   "metadata": {},
   "outputs": [],
   "source": [
    "INPUT_NUM = 4\n",
    "NUM_TARGET = 4\n",
    "CONTEXT_LEN = 120\n",
    "PATCH_LEN = 20\n",
    "PATCH_STRD = 10\n",
    "MASK_TYPE = 'forecast'\n",
    "D_MODEL = 132\n",
    "NUM_HIDD_LAYERS = 4\n",
    "NUM_ATT_HEAD = 4\n",
    "ATT_DROP = .13\n",
    "FF_DROP = .23\n",
    "PATH_DROP = (NUM_HIDD_LAYERS - 2) * .05\n",
    "NUM_PATCH = int(PATCH_LEN * .3)\n",
    "BATCH_SIZE = 8"
   ]
  },
  {
   "cell_type": "code",
   "execution_count": 75,
   "metadata": {},
   "outputs": [
    {
     "name": "stdout",
     "output_type": "stream",
     "text": [
      "PatchTSTForPredictionOutput(loss=None, prediction_outputs=tensor([[[nan, nan, nan, nan],\n",
      "         [nan, nan, nan, nan],\n",
      "         [nan, nan, nan, nan]]]), hidden_states=None, attentions=None, loc=tensor([[[1.0585, 1.2555, 1.0457, 1.2482]]]), scale=tensor([[[0.3332, 0.5114, 0.3324, 0.5149]]]))\n",
      "PatchTSTForPredictionOutput(loss=None, prediction_outputs=tensor([[[nan, nan, nan, nan],\n",
      "         [nan, nan, nan, nan],\n",
      "         [nan, nan, nan, nan]]]), hidden_states=None, attentions=None, loc=tensor([[[nan, nan, nan, nan]]]), scale=tensor([[[nan, nan, nan, nan]]]))\n",
      "PatchTSTForPredictionOutput(loss=None, prediction_outputs=tensor([[[nan, nan, nan, nan],\n",
      "         [nan, nan, nan, nan],\n",
      "         [nan, nan, nan, nan]]]), hidden_states=None, attentions=None, loc=tensor([[[nan, nan, nan, nan]]]), scale=tensor([[[nan, nan, nan, nan]]]))\n",
      "PatchTSTForPredictionOutput(loss=None, prediction_outputs=tensor([[[nan, nan, nan, nan],\n",
      "         [nan, nan, nan, nan],\n",
      "         [nan, nan, nan, nan]]]), hidden_states=None, attentions=None, loc=tensor([[[nan, nan, nan, nan]]]), scale=tensor([[[nan, nan, nan, nan]]]))\n",
      "PatchTSTForPredictionOutput(loss=None, prediction_outputs=tensor([[[nan, nan, nan, nan],\n",
      "         [nan, nan, nan, nan],\n",
      "         [nan, nan, nan, nan]]]), hidden_states=None, attentions=None, loc=tensor([[[nan, nan, nan, nan]]]), scale=tensor([[[nan, nan, nan, nan]]]))\n",
      "PatchTSTForPredictionOutput(loss=None, prediction_outputs=tensor([[[nan, nan, nan, nan],\n",
      "         [nan, nan, nan, nan],\n",
      "         [nan, nan, nan, nan]]]), hidden_states=None, attentions=None, loc=tensor([[[nan, nan, nan, nan]]]), scale=tensor([[[nan, nan, nan, nan]]]))\n",
      "PatchTSTForPredictionOutput(loss=None, prediction_outputs=tensor([[[nan, nan, nan, nan],\n",
      "         [nan, nan, nan, nan],\n",
      "         [nan, nan, nan, nan]]]), hidden_states=None, attentions=None, loc=tensor([[[nan, nan, nan, nan]]]), scale=tensor([[[nan, nan, nan, nan]]]))\n",
      "PatchTSTForPredictionOutput(loss=None, prediction_outputs=tensor([[[nan, nan, nan, nan],\n",
      "         [nan, nan, nan, nan],\n",
      "         [nan, nan, nan, nan]]]), hidden_states=None, attentions=None, loc=tensor([[[nan, nan, nan, nan]]]), scale=tensor([[[nan, nan, nan, nan]]]))\n",
      "PatchTSTForPredictionOutput(loss=None, prediction_outputs=tensor([[[nan, nan, nan, nan],\n",
      "         [nan, nan, nan, nan],\n",
      "         [nan, nan, nan, nan]]]), hidden_states=None, attentions=None, loc=tensor([[[nan, nan, nan, nan]]]), scale=tensor([[[nan, nan, nan, nan]]]))\n",
      "PatchTSTForPredictionOutput(loss=None, prediction_outputs=tensor([[[nan, nan, nan, nan],\n",
      "         [nan, nan, nan, nan],\n",
      "         [nan, nan, nan, nan]]]), hidden_states=None, attentions=None, loc=tensor([[[nan, nan, nan, nan]]]), scale=tensor([[[nan, nan, nan, nan]]]))\n",
      "PatchTSTForPredictionOutput(loss=None, prediction_outputs=tensor([[[nan, nan, nan, nan],\n",
      "         [nan, nan, nan, nan],\n",
      "         [nan, nan, nan, nan]]]), hidden_states=None, attentions=None, loc=tensor([[[nan, nan, nan, nan]]]), scale=tensor([[[nan, nan, nan, nan]]]))\n",
      "PatchTSTForPredictionOutput(loss=None, prediction_outputs=tensor([[[nan, nan, nan, nan],\n",
      "         [nan, nan, nan, nan],\n",
      "         [nan, nan, nan, nan]]]), hidden_states=None, attentions=None, loc=tensor([[[nan, nan, nan, nan]]]), scale=tensor([[[nan, nan, nan, nan]]]))\n"
     ]
    }
   ],
   "source": [
    "import pandas as pd\n",
    "from datetime import datetime, timedelta\n",
    "\n",
    "features_to_pred = ['^GSPC Close', '^DJI Close', 'ES=F Close', 'YM=F Close']\n",
    "\n",
    "# How many days to predict into the future\n",
    "PRED_LEN = 3 # One Month Prediction\n",
    "\n",
    "# Advance Model Configuration \n",
    "ft_config = PatchTSTConfig(\n",
    "    num_input_channels = NUM_INPUT,\n",
    "    num_targets=NUM_TARGET,\n",
    "    context_length = CONTEXT_LEN,\n",
    "    patch_length = PATCH_LEN,\n",
    "    stride = PATCH_STRD,\n",
    "    d_model=D_MODEL,\n",
    "    num_hidden_layers=NUM_HIDD_LAYERS,\n",
    "    num_attention_heads=NUM_ATT_HEAD,\n",
    "    attention_dropout=ATT_DROP,\n",
    "    ff_dropout=FF_DROP,\n",
    "    path_dropout=PATH_DROP,\n",
    "    prediction_length=PRED_LEN \n",
    ")\n",
    "\n",
    "# Basic Model Configuration \n",
    "# ft_config = PatchTSTConfig(\n",
    "#     num_input_channels = NUM_INPUT,\n",
    "#     num_targets=NUM_TARGET,\n",
    "#     context_length = CONTEXT_LEN,\n",
    "#     patch_length = PATCH_LEN,\n",
    "#     patch_stride = PATCH_STRD,\n",
    "#     prediction_length=PRED_LEN \n",
    "# )\n",
    "\n",
    "ft_model = PatchTSTForPrediction(ft_config)\n",
    "PRIOR_DAYS = 50\n",
    "\n",
    "# Load in our model\n",
    "device = torch.device('mps')\n",
    "state_dict = torch.load('pt_1*5yn_v2_ft_3d_v1.bin')\n",
    "ft_model.load_state_dict(state_dict)\n",
    "\n",
    "# Get the normalized economic data\n",
    "pred_and_original_data = pd.read_csv('../data/model_data/PostNorm_Full_Data.csv')\n",
    "\n",
    "pred_and_original_data[0:len(pred_and_original_data)]\n",
    "\n",
    "# Filter out data to only contain features needed and Date for merging\n",
    "pred_and_original_data = pred_and_original_data[['DATE']+features_to_pred]\n",
    "pred_and_original_data_50_prior = pred_and_original_data[['DATE']+features_to_pred]\n",
    "\n",
    "pred_and_original_data_50_prior = pred_and_original_data_50_prior[0:len(pred_and_original_data_50_prior) - PRIOR_DAYS]\n",
    "\n",
    "# How many predictions we will recursively make\n",
    "NUM_ITER = 12\n",
    "\n",
    "\n",
    "# Autoregression\n",
    "for day in range(NUM_ITER):\n",
    "    \n",
    "    ft_model.eval()\n",
    "    \n",
    "    # Drop the date for prediction\n",
    "    df_copy = pred_and_original_data.drop(['DATE'], axis=1)\n",
    "    df_copy_50 = pred_and_original_data_50_prior.drop(['DATE'], axis=1)\n",
    "    \n",
    "    with torch.no_grad():\n",
    "        # Grab the last instance of CONTEXT_LEN days\n",
    "        features = df_copy.iloc[-CONTEXT_LEN:].values\n",
    "        features_50 = df_copy_50.iloc[-CONTEXT_LEN:].values\n",
    "        \n",
    "        # Convert to proper format for model\n",
    "        features = torch.tensor(features, dtype=torch.float32).unsqueeze(0)\n",
    "        features_50 = torch.tensor(features_50, dtype=torch.float32).unsqueeze(0)\n",
    "\n",
    "        predictions = ft_model(past_values=features)\n",
    "        print(predictions)\n",
    "        predictions_50 = ft_model(past_values=features_50)\n",
    "        \n",
    "        forcast = predictions.prediction_outputs\n",
    "        forcast_50 = predictions_50.prediction_outputs\n",
    "    \n",
    "    # Convert predictions back to prior format\n",
    "    predictions = forcast.squeeze(0).numpy()\n",
    "    predictions_50 = forcast_50.squeeze(0).numpy()\n",
    "    \n",
    "    pred_np = predictions\n",
    "    pred_np_50 = predictions_50\n",
    "    \n",
    "    # Get the last dates in the datasets\n",
    "    last_date = pd.to_datetime(pred_and_original_data['DATE']).iloc[-1]\n",
    "    last_date_50 = pd.to_datetime(pred_and_original_data_50_prior['DATE']).iloc[-1]\n",
    "\n",
    "    # Get the next business day after the last date\n",
    "    next_date = next_business_day(last_date)\n",
    "    next_date_50 = next_business_day(last_date_50)\n",
    "\n",
    "    if last_date.weekday() >= 5:\n",
    "        last_date = last_date + timedelta(days=1)\n",
    "        if last_date.weekday >= 5:\n",
    "            last_date = last_date + timedelta(days=1)\n",
    "            \n",
    "    if last_date_50.weekday() >= 5:\n",
    "        last_date_50 = last_date_50 + timedelta(days=1)\n",
    "        if last_date_50.weekday >= 5:\n",
    "            last_date_50 = last_date_50 + timedelta(days=1)\n",
    "\n",
    "    # Create date range for predictions\n",
    "    future_dates = pd.date_range(\n",
    "        start=last_date + timedelta(days=1),\n",
    "        periods=PRED_LEN,\n",
    "        freq='B'\n",
    "    )\n",
    "    \n",
    "    \n",
    "    future_dates_50 = pd.date_range(\n",
    "        start=last_date_50 + timedelta(days=1),\n",
    "        periods=PRED_LEN,\n",
    "        freq='B'\n",
    "    )\n",
    "    \n",
    "    # Create a dataframe of our predictions with their corresponding dates\n",
    "    pred_df = pd.DataFrame(pred_np, columns=features_to_pred)\n",
    "    pred_df['DATE'] = future_dates\n",
    "    \n",
    "    pred_df_50 = pd.DataFrame(pred_np_50, columns=features_to_pred)\n",
    "    pred_df_50['DATE'] = future_dates_50\n",
    "\n",
    "    # Add predictions to dataset\n",
    "    pred_and_original_data = pd.concat([pred_and_original_data, pred_df], ignore_index=True)\n",
    "    pred_and_original_data['DATE'] = pd.to_datetime(pred_and_original_data['DATE'])\n",
    "    \n",
    "    pred_and_original_data_50_prior = pd.concat([pred_and_original_data_50_prior, pred_df_50], ignore_index=True)\n",
    "    pred_and_original_data_50_prior['DATE'] = pd.to_datetime(pred_and_original_data_50_prior['DATE'])\n"
   ]
  },
  {
   "cell_type": "markdown",
   "metadata": {},
   "source": [
    "### Converting Predictions back to Base Value"
   ]
  },
  {
   "cell_type": "code",
   "execution_count": 68,
   "metadata": {},
   "outputs": [],
   "source": [
    "from sklearn.preprocessing import RobustScaler\n",
    "\n",
    "# Load in unnormalized data and format to match features we are predicting\n",
    "original_df = pd.read_csv('../data/model_data/PreNorm_Full_Data.csv')\n",
    "original_df_50 = original_df[0:len(original_df) - PRIOR_DAYS]\n",
    "\n",
    "original_df = original_df[['DATE'] + features_to_pred]\n",
    "original_df['DATE'] = pd.to_datetime(original_df['DATE'])\n",
    "\n",
    "original_df_50 = original_df_50[['DATE'] + features_to_pred]\n",
    "original_df_50['DATE'] = pd.to_datetime(original_df_50['DATE'])\n",
    "\n",
    "WINDOW_SIZE = int(365*1.5) # Should be the same size from the one we used to normalize, REFER TO Gather_Historical_Data.ipynb\n"
   ]
  },
  {
   "cell_type": "code",
   "execution_count": 69,
   "metadata": {},
   "outputs": [
    {
     "name": "stderr",
     "output_type": "stream",
     "text": [
      "100%|██████████| 5278/5278 [00:05<00:00, 998.26it/s] \n",
      "100%|██████████| 5228/5228 [00:06<00:00, 765.79it/s]\n"
     ]
    }
   ],
   "source": [
    "def norm_data_st(norm_df, df, col, window_size=90):\n",
    "    denorm_df = norm_df.copy()\n",
    "\n",
    "    # Offset for getting the proper index for our normalized data\n",
    "    offset = window_size\n",
    "\n",
    "    # Moving through each row starting at \n",
    "    # window_size and going to df length\n",
    "    for i in tqdm(range(len(norm_df))):\n",
    "        original_id = i + offset\n",
    "        \n",
    "        window_start = original_id - window_size\n",
    "\n",
    "        # Grabs data from past\n",
    "        time_window = df.iloc[window_start:original_id]\n",
    "\n",
    "        # Grab current time\n",
    "        current_time = norm_df.iloc[i:i+1]\n",
    "\n",
    "        # Create scaler on based on window\n",
    "        robust_scaler = RobustScaler()\n",
    "        robust_scaler.fit(time_window[col])\n",
    "\n",
    "        # Apply scaler to current index feature\n",
    "        denomralized_values = robust_scaler.inverse_transform(current_time[col])\n",
    "        denorm_df.loc[norm_df.index[i], col] = denomralized_values[0]\n",
    "    return denorm_df\n",
    "\n",
    "# Get columns to normalize that doesn't include date.\n",
    "columns_to_unnormalize = pred_and_original_data.drop(['DATE'], axis=1).columns\n",
    "unnorm_df = norm_data_st(pred_and_original_data, original_df, columns_to_unnormalize,WINDOW_SIZE) \n",
    "unnorm_df_50 = norm_data_st(pred_and_original_data_50_prior, original_df_50, columns_to_unnormalize,WINDOW_SIZE) "
   ]
  },
  {
   "cell_type": "markdown",
   "metadata": {},
   "source": [
    "### Plot Predictions"
   ]
  },
  {
   "cell_type": "code",
   "execution_count": 70,
   "metadata": {},
   "outputs": [],
   "source": [
    "import matplotlib.pyplot as plt\n",
    "\n",
    "def plot_time_frame_x2(year_start, year_end, df, x1, x2):\n",
    "    df_tf = df[(df['DATE'].dt.year >= year_start) & (df['DATE'].dt.year <= year_end)]\n",
    "\n",
    "    plt.plot(df_tf['DATE'], df_tf[x1], label=x1)\n",
    "    plt.plot(df_tf['DATE'], df_tf[x2], label=x2)\n",
    "    plt.legend()\n",
    "    plt.show()"
   ]
  },
  {
   "cell_type": "code",
   "execution_count": 71,
   "metadata": {},
   "outputs": [],
   "source": [
    "import matplotlib.dates as mdates\n",
    "\n",
    "def plot_time_frame_month(year_start, year_end, month_start, month_end, df1, df2, x1, x2):\n",
    "    df_tf1 = df1[(df1['DATE'].dt.year >= year_start) & (df1['DATE'].dt.year <= year_end)]\n",
    "    df_tf1 = df_tf1[(df_tf1['DATE'].dt.month >= month_start) & (df_tf1['DATE'].dt.month <= month_end)]\n",
    "    \n",
    "    df_tf2 = df2[(df2['DATE'].dt.year >= year_start) & (df2['DATE'].dt.year <= year_end)]\n",
    "    df_tf2 = df_tf2[(df_tf2['DATE'].dt.month >= month_start) & (df_tf2['DATE'].dt.month <= month_end)]\n",
    "    \n",
    "    plt.plot(df_tf2['DATE'], df_tf2[x1], label=f'{x1} Projection', linestyle='--')\n",
    "    plt.plot(df_tf2['DATE'], df_tf2[x2], label=f'{x2} Projection', linestyle='--')\n",
    "    \n",
    "    plt.plot(df_tf1['DATE'], df_tf1[x1], label=x1)\n",
    "    plt.plot(df_tf1['DATE'], df_tf1[x2], label=x2)\n",
    "\n",
    "    plt.legend()\n",
    "    \n",
    "    # Set a tick for every day\n",
    "    # plt.gca().xaxis.set_major_locator(mdates.DayLocator())\n",
    "    # plt.gca().xaxis.set_major_formatter(mdates.DateFormatter('%d'))\n",
    "    \n",
    "    plt.xticks(rotation=90)\n",
    "    plt.grid(True)\n",
    "    \n",
    "    plt.tight_layout()  # This helps prevent the rotated labels from being cut off\n",
    "    plt.show()\n",
    "    \n",
    "def plot_time_frame_year(year_start, year_end, df1, df2, x1, x2):\n",
    "    df_tf1 = df1[(df1['DATE'].dt.year >= year_start) & (df1['DATE'].dt.year <= year_end)]\n",
    "    \n",
    "    df_tf2 = df2[(df2['DATE'].dt.year >= year_start) & (df2['DATE'].dt.year <= year_end)]\n",
    "    \n",
    "    plt.plot(df_tf2['DATE'], df_tf2[x1], label=f'{x1} Projection', linestyle='--')\n",
    "    plt.plot(df_tf2['DATE'], df_tf2[x2], label=f'{x2} Projection', linestyle='--')\n",
    "    \n",
    "    plt.plot(df_tf1['DATE'], df_tf1[x1], label=x1)\n",
    "    plt.plot(df_tf1['DATE'], df_tf1[x2], label=x2)\n",
    "\n",
    "    plt.legend()\n",
    "    \n",
    "    # Set a tick for every day\n",
    "    plt.gca().xaxis.set_major_locator(mdates.DayLocator())\n",
    "    plt.gca().xaxis.set_major_formatter(mdates.DateFormatter('%d'))\n",
    "    \n",
    "    # plt.xticks(rotation=90)\n",
    "    \n",
    "    plt.tight_layout()  # This helps prevent the rotated labels from being cut off\n",
    "    plt.show()\n",
    "    \n",
    "def plot_time_frame_year_x1(year_start, year_end, df1, df2, x1):\n",
    "    df_tf1 = df1[(df1['DATE'].dt.year >= year_start) & (df1['DATE'].dt.year <= year_end)]\n",
    "    \n",
    "    df_tf2 = df2[(df2['DATE'].dt.year >= year_start) & (df2['DATE'].dt.year <= year_end)]\n",
    "    \n",
    "    plt.plot(df_tf2['DATE'], df_tf2[x1], label=f'{x1} Projection', linestyle='--')\n",
    "    \n",
    "    plt.plot(df_tf1['DATE'], df_tf1[x1], label=x1)\n",
    "\n",
    "    plt.legend()\n",
    "    \n",
    "    # Set a tick for every day\n",
    "    plt.gca().xaxis.set_major_locator(mdates.DayLocator())\n",
    "    plt.gca().xaxis.set_major_formatter(mdates.DateFormatter('%d'))\n",
    "    \n",
    "    plt.xticks(rotation=90)\n",
    "    \n",
    "    plt.tight_layout()  # This helps prevent the rotated labels from being cut off\n",
    "    plt.show()"
   ]
  },
  {
   "cell_type": "code",
   "execution_count": 74,
   "metadata": {},
   "outputs": [
    {
     "data": {
      "image/png": "[encoded data removed]",
      "text/plain": [
       "<Figure size 640x480 with 1 Axes>"
      ]
     },
     "metadata": {},
     "output_type": "display_data"
    }
   ],
   "source": [
    "original_df['DATE'] = pd.to_datetime(original_df['DATE'])\n",
    "\n",
    "plot_time_frame_month(2025, 2025, 2, 4, original_df, unnorm_df, features_to_pred[0], features_to_pred[0])\n",
    "# plot_time_frame_year_x1(2000, 2025,original_df, unnorm_df, features_to_pred[0])"
   ]
  },
  {
   "cell_type": "code",
   "execution_count": null,
   "metadata": {},
   "outputs": [],
   "source": []
  },
  {
   "cell_type": "code",
   "execution_count": null,
   "metadata": {},
   "outputs": [],
   "source": []
  }
 ],
 "metadata": {
  "kernelspec": {
   "display_name": "Python 3 (ipykernel)",
   "language": "python",
   "name": "python3"
  },
  "language_info": {
   "codemirror_mode": {
    "name": "ipython",
    "version": 3
   },
   "file_extension": ".py",
   "mimetype": "text/x-python",
   "name": "python",
   "nbconvert_exporter": "python",
   "pygments_lexer": "ipython3",
   "version": "3.12.8"
  }
 },
 "nbformat": 4,
 "nbformat_minor": 4
}
