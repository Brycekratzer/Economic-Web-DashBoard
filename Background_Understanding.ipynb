{
 "cells": [
  {
   "cell_type": "code",
   "execution_count": 4,
   "id": "04d67c38-2fbf-4abc-baae-2deef9f19e59",
   "metadata": {},
   "outputs": [],
   "source": [
    "import pandas as pd\n",
    "import numpy as np\n",
    "np.NaN = np.nan # For pandas_ta\n",
    "import matplotlib.pyplot as plt\n",
    "import yfinance as yf\n",
    "import pandas_datareader as pdr\n",
    "import pandas_ta as ta"
   ]
  },
  {
   "cell_type": "markdown",
   "id": "9d8b1d6a-2632-401b-88ca-7c7abeb0c6b2",
   "metadata": {},
   "source": [
    "## Gathering Data"
   ]
  },
  {
   "cell_type": "markdown",
   "id": "ff3fec0b-af1e-48e9-87b4-7c19528455ae",
   "metadata": {},
   "source": [
    "### Data Importing"
   ]
  },
  {
   "cell_type": "code",
   "execution_count": 5,
   "id": "3535fd5d-828d-4a1f-8065-7c877ac8ee56",
   "metadata": {},
   "outputs": [],
   "source": [
    "def get_data_frame(fred_code, start_date, end_date):\n",
    "    df = pdr.get_data_fred(fred_code, start=start_date, end=end_date)\n",
    "    df = df.reset_index()\n",
    "    df['Date'] = df['DATE']\n",
    "    return df"
   ]
  },
  {
   "cell_type": "code",
   "execution_count": 6,
   "id": "39feb65c-f226-47ff-860b-391c77194f5c",
   "metadata": {},
   "outputs": [
    {
     "name": "stderr",
     "output_type": "stream",
     "text": [
      "[*********************100%***********************]  1 of 1 completed\n",
      "[*********************100%***********************]  1 of 1 completed\n",
      "[*********************100%***********************]  1 of 1 completed\n"
     ]
    }
   ],
   "source": [
    "sp_ticker = '^GSPC'\n",
    "dj_ticker = '^DJI'\n",
    "nas_ticker = '^IXIC'\n",
    "\n",
    "cpi_ticker = 'CPIAUCSL'\n",
    "\n",
    "start_date = '1992-1-1'\n",
    "end_date = '2025-03-06'\n",
    "\n",
    "# S&P data\n",
    "SP500_2000_2025 = yf.download(sp_ticker, start=start_date, end=end_date)\n",
    "\n",
    "# Dow Jones data\n",
    "Dow_Jones_Inflation = yf.download(dj_ticker, start=start_date, end=end_date)\n",
    "\n",
    "# Nasdaq data\n",
    "Nas_Inflation = yf.download(nas_ticker, start=start_date, end=end_date)\n",
    "\n",
    "# CPI data\n",
    "cpi_2000_2025 = pdr.get_data_fred('CPIAUCSL', start=start_date, end=end_date)\n",
    "cpi_2000_2025 = cpi_2000_2025.reset_index()\n",
    "cpi_2000_2025['Date'] = cpi_2000_2025['DATE']\n",
    "\n",
    "# Interest Rates\n",
    "interest_rates = pdr.get_data_fred('DFF', start=start_date, end=end_date)\n",
    "interest_rates = interest_rates.reset_index()\n",
    "interest_rates['Date'] = interest_rates['DATE']\n",
    "\n",
    "# Unemployment Rates\n",
    "unempl_rates = pdr.get_data_fred('UNRATE', start=start_date, end=end_date)\n",
    "unempl_rates = unempl_rates.reset_index()\n",
    "unempl_rates['Date'] = unempl_rates['DATE']\n",
    "\n",
    "# GDP\n",
    "gdp = pdr.get_data_fred('GDP', start=start_date, end=end_date)\n",
    "gdp = gdp.reset_index()\n",
    "gdp['Date'] = gdp['DATE']\n",
    "\n",
    "# M2 \n",
    "M2 = pdr.get_data_fred('WM2NS', start=start_date, end=end_date)\n",
    "M2 = M2.reset_index()\n",
    "M2['Date'] = M2['DATE']\n",
    "\n",
    "# Initial Claims\n",
    "inital_claims = get_data_frame('ICSA', start_date, end_date)\n",
    "\n",
    "# Job Openings: Construction\n",
    "job_openings_construction = get_data_frame('JTS2300JOL', start_date, end_date)\n",
    "\n",
    "# Job Openings: Private\n",
    "job_openings_private = get_data_frame('JTS1000JOL', start_date, end_date)\n",
    "\n",
    "# Job Openings: Non Farm\n",
    "job_openings_nf = get_data_frame('JTSJOL', start_date, end_date)\n",
    "\n",
    "# PCE, inflated\n",
    "PCE = get_data_frame('PCE', start_date, end_date)\n",
    "\n",
    "# Consumer Debt, inflated\n",
    "consumer_debt = get_data_frame('REVOLSL', start_date, end_date)\n",
    "\n",
    "# Percent of paycheck towards debt (includes house debt)\n",
    "TDSP = get_data_frame('TDSP', start_date, end_date)\n",
    "\n",
    "# Percent of paycheck towards debt\n",
    "CDSP = get_data_frame('CDSP', start_date, end_date)\n",
    "\n",
    "# Short term (2 year) VS Long term (10 year) Bond Interesrt \n",
    "T10Y2Y = get_data_frame('T10Y2Y', start_date, end_date)\n",
    "\n",
    "# Federal Funds VS Long term (10 year) Bond Interesrt \n",
    "T10YFF = get_data_frame('T10YFF', start_date, end_date)\n",
    "\n",
    "# Industrial Production\n",
    "industrial_prod = get_data_frame('INDPRO', start_date, end_date)\n",
    "\n",
    "# Capacity Production\n",
    "capacity_prod = get_data_frame('TCU', start_date, end_date)\n",
    "\n",
    "# Retail Sales, inflated\n",
    "retail_sales = get_data_frame('RSAFS', start_date, end_date)\n",
    "\n",
    "# Personal Savings Rate\n",
    "personal_savings = get_data_frame('PSAVERT', start_date, end_date)\n",
    "\n",
    "# 30 Year Fixed Mortgage\n",
    "mortgage_30_year = get_data_frame('MORTGAGE30US', start_date, end_date)\n",
    "\n",
    "# New Privately Owned Homes Start\n",
    "new_priv_housing = get_data_frame('HOUST', start_date, end_date)\n",
    "\n",
    "# Housing Price Index\n",
    "house_price_index = get_data_frame('USSTHPI', start_date, end_date)\n",
    "\n",
    "# Personal Income, inflated\n",
    "personal_income = get_data_frame('PI', start_date, end_date)"
   ]
  },
  {
   "cell_type": "markdown",
   "id": "8651d5d5-7bb8-4ed5-b09c-f67b61dc93d2",
   "metadata": {
    "jp-MarkdownHeadingCollapsed": true
   },
   "source": [
    "## Calculating Inflation"
   ]
  },
  {
   "cell_type": "markdown",
   "id": "8da86ce7-54e7-4d30-88be-1861806fa26b",
   "metadata": {
    "jp-MarkdownHeadingCollapsed": true
   },
   "source": [
    "### Formula for inflation:\n",
    "\n",
    "$Adjusted$ $Amount$ = $Past$ $Year$ $Dollar$ $Amount$ $* \\frac{Current Year CPI}{Past Year CPI}$"
   ]
  },
  {
   "cell_type": "code",
   "execution_count": 7,
   "id": "91484681-689a-47bd-a1ae-c6c127f42d11",
   "metadata": {},
   "outputs": [],
   "source": [
    "CPI_yearly_amount = cpi_2000_2025.groupby(cpi_2000_2025['Date'].dt.year)['CPIAUCSL'].mean().reset_index()\n",
    "\n",
    "CPI_2024 = CPI_yearly_amount[CPI_yearly_amount['Date'] == 2025]['CPIAUCSL'].values[0]\n",
    "\n",
    "def inflation_formula(cpi_curr, past_year, dollar_amount): \n",
    "    cpi_past = CPI_yearly_amount[CPI_yearly_amount['Date'] == past_year]['CPIAUCSL'].values[0]\n",
    "    return dollar_amount * (cpi_curr / cpi_past)\n",
    "# CPI_yearly_amount = pd.concat([CPI_yearly_amount, pd.DataFrame({'DATE': [2025], 'CPIAUCSL': [CPI_2024]})], ignore_index=True)"
   ]
  },
  {
   "cell_type": "code",
   "execution_count": 8,
   "id": "583570f6-d309-4210-bee3-907b0223af00",
   "metadata": {},
   "outputs": [],
   "source": [
    "def adjust_for_inflation(df):\n",
    "    df = df.reset_index().copy()\n",
    "    df_afi = df.assign(\n",
    "        Close = df.apply(lambda row: inflation_formula(\n",
    "            CPI_2024,\n",
    "            row['Date'].dt.year.values[0],\n",
    "            row['Close']\n",
    "        ), axis=1),\n",
    "        High = df.apply(lambda row: inflation_formula(\n",
    "            CPI_2024,\n",
    "            row['Date'].dt.year.values[0],\n",
    "            row['High']\n",
    "        ), axis=1),\n",
    "        Low = df.apply(lambda row: inflation_formula(\n",
    "            CPI_2024,\n",
    "            row['Date'].dt.year.values[0],\n",
    "            row['Low']\n",
    "        ), axis=1),\n",
    "        Open = df.apply(lambda row: inflation_formula(\n",
    "            CPI_2024,\n",
    "            row['Date'].dt.year.values[0],\n",
    "            row['Open']\n",
    "        ), axis=1),\n",
    "    )\n",
    "    return df_afi"
   ]
  },
  {
   "cell_type": "code",
   "execution_count": 9,
   "id": "0dd33a28-4fd0-4083-818b-4246a7ae7a4e",
   "metadata": {},
   "outputs": [],
   "source": [
    "Dow_Jones_data = adjust_for_inflation(Dow_Jones_Inflation)\n",
    "Nas_data = adjust_for_inflation(Nas_Inflation)\n",
    "SP500 = adjust_for_inflation(SP500_2000_2025)"
   ]
  },
  {
   "cell_type": "code",
   "execution_count": 10,
   "id": "e69c1d85-4a8d-4025-b86a-9b288c5918c4",
   "metadata": {},
   "outputs": [],
   "source": [
    "PCE_ai = PCE.reset_index().copy()\n",
    "PCE_ai = PCE.assign(\n",
    "        PCE = PCE.apply(lambda row: inflation_formula(\n",
    "            CPI_2024,\n",
    "            row['Date'].year,\n",
    "            row['PCE']\n",
    "        ), axis=1))\n",
    "\n",
    "consumer_debt_ai = consumer_debt.reset_index().copy()\n",
    "consumer_debt_ai = consumer_debt.assign(\n",
    "        REVOLSL = consumer_debt.apply(lambda row: inflation_formula(\n",
    "            CPI_2024,\n",
    "            row['Date'].year,\n",
    "            row['REVOLSL']\n",
    "        ), axis=1))\n",
    "\n",
    "retail_sales_ai = retail_sales.reset_index().copy()\n",
    "retail_sales_ai = retail_sales.assign(\n",
    "        RSAFS = retail_sales.apply(lambda row: inflation_formula(\n",
    "            CPI_2024,\n",
    "            row['Date'].year,\n",
    "            row['RSAFS']\n",
    "        ), axis=1))\n",
    "\n",
    "personal_income_ai = personal_income.assign(\n",
    "        PI = personal_income.apply(lambda row: inflation_formula(\n",
    "            CPI_2024,\n",
    "            row['Date'].year,\n",
    "            row['PI']\n",
    "        ), axis=1))"
   ]
  },
  {
   "cell_type": "markdown",
   "id": "cb0d3bd4-5e9c-4cb2-b16b-664c14680bd5",
   "metadata": {},
   "source": [
    "## Defining Function"
   ]
  },
  {
   "cell_type": "markdown",
   "id": "51762225-5a57-42d5-82d4-2c8ec662d51b",
   "metadata": {},
   "source": [
    "### Add Data Based on Date"
   ]
  },
  {
   "cell_type": "markdown",
   "id": "bb167dee-a3e6-45c9-854e-3429374cb7f0",
   "metadata": {},
   "source": [
    "adds a column to a dataset based on the `Date`\n",
    "\n",
    "returns a new dataframe"
   ]
  },
  {
   "cell_type": "code",
   "execution_count": 11,
   "id": "4a6300ba-78b3-4548-a68a-5bec5ad9213e",
   "metadata": {},
   "outputs": [],
   "source": [
    "def add_data_based_on_date(main_df, new_data, col_name):\n",
    "    return pd.merge_asof(\n",
    "            main_df, \n",
    "            new_data,\n",
    "            on='Date',\n",
    "            direction='backward'\n",
    "        )[col_name]"
   ]
  },
  {
   "cell_type": "markdown",
   "id": "330e36e7-3fb8-4caa-b025-475222d8e353",
   "metadata": {
    "jp-MarkdownHeadingCollapsed": true
   },
   "source": [
    "### Rate of Change | Percent Change"
   ]
  },
  {
   "cell_type": "markdown",
   "id": "cc7444a3-7dbd-47b7-a3b9-531042bf765f",
   "metadata": {},
   "source": [
    "**Rate of change**\n",
    "\n",
    "- *Returns*: \n",
    "\n",
    "Column based on `previous days`, `column name`.\n",
    "\n",
    "- *Equation*:\n",
    "\n",
    "$$\\frac{\\text{data}_{(\\text{days previous})} - \\text{data}_{(\\text{current day})}}{\\text{days previous}}$$\n",
    "\n",
    "\n",
    "**Rate of change**\n",
    "\n",
    "- *Returns*: \n",
    "\n",
    "Column based on `previous days`, `column name`.\n",
    "\n",
    "- *Equation*:\n",
    "\n",
    "$$\\frac{\\text{data}_{(\\text{current day})} - \\text{data}_{(\\text{days previous})}}{\\text{data}_{(\\text{days previous})}}$$\n",
    "\n",
    "\n"
   ]
  },
  {
   "cell_type": "code",
   "execution_count": 12,
   "id": "7c38b904-5b19-4a2c-ae2b-f7183080ea3f",
   "metadata": {},
   "outputs": [],
   "source": [
    "def rate_of_change(df, col,days_previous):\n",
    "    return (df[col].shift(days_previous) - df[col]) / days_previous\n",
    "\n",
    "def percent_change(df, col,days_previous):\n",
    "    return round((((df[col] - df[col].shift(days_previous)) / df[col].shift(days_previous)) * 100), 2)"
   ]
  },
  {
   "cell_type": "markdown",
   "id": "2014d424-1667-4dba-b40c-82acb201cd67",
   "metadata": {
    "jp-MarkdownHeadingCollapsed": true
   },
   "source": [
    "### Plotting Data"
   ]
  },
  {
   "cell_type": "markdown",
   "id": "4f1d9d6e-9300-44ea-9773-acf1a9381e17",
   "metadata": {},
   "source": [
    "**Plots**\n",
    "\n",
    "- `plot_time_from`\n",
    "\n",
    "    Plots column based on start year\n",
    "\n",
    "- `plot_time_frame`\n",
    "\n",
    "    Plots column based on start year and end year\n",
    "\n",
    "- `plot_time_frame_x2`\n",
    "\n",
    "    Plots 2 columns based on start year and end year"
   ]
  },
  {
   "cell_type": "code",
   "execution_count": 13,
   "id": "286941b4-1b32-46f5-95b8-561f44d83ad8",
   "metadata": {},
   "outputs": [],
   "source": [
    "def plot_time_from(year, df, x1):\n",
    "    df_tf = df[df['Date'].dt.year >= year]\n",
    "\n",
    "    plt.plot(df_tf['Date'], df_tf[x1], label=x1)\n",
    "    plt.legend()\n",
    "    plt.show()\n",
    "\n",
    "def plot_time_frame(year_start, year_end, df, x1):\n",
    "    df_tf = df[(df['Date'].dt.year >= year_start) & (df['Date'].dt.year <= year_end)]\n",
    "\n",
    "    plt.plot(df_tf['Date'], df_tf[x1], label=x1)\n",
    "    plt.legend()\n",
    "    plt.show()\n",
    "\n",
    "def plot_time_frames(year_start1, year_end1, year_start2, year_end2, df, x1):\n",
    "    # Filter for first time frame\n",
    "    df_tf_1 = df[(df['Date'].dt.year >= year_start1) & (df['Date'].dt.year <= year_end1)]\n",
    "    \n",
    "    # Filter for second time frame\n",
    "    df_tf_2 = df[(df['Date'].dt.year >= year_start2) & (df['Date'].dt.year <= year_end2)]\n",
    "\n",
    "\n",
    "    days_tf1 = len(df_tf_1)\n",
    "    days_tf2 = len(df_tf_2)\n",
    "    \n",
    "    x_axis1 = np.linspace(0, year_end1 - year_start1, days_tf1)\n",
    "    x_axis2 = np.linspace(0, year_end2 - year_start2, days_tf2)\n",
    "    \n",
    "    # Plot both time frames\n",
    "    plt.plot(x_axis1, df_tf_1[x1], label=f'{year_start1} - {year_end1}')\n",
    "    plt.plot(x_axis2, df_tf_2[x1], label=f'{year_start2} - {year_end2}')\n",
    "    plt.legend()\n",
    "    plt.show()\n",
    "def plot_time_frame_x2(year_start, year_end, df, x1, x2):\n",
    "    df_tf = df[(df['Date'].dt.year >= year_start) & (df['Date'].dt.year <= year_end)]\n",
    "\n",
    "    plt.plot(df_tf['Date'], df_tf[x1], label=x1)\n",
    "    plt.plot(df_tf['Date'], df_tf[x2], label=x2)\n",
    "    plt.legend()\n",
    "    plt.show()"
   ]
  },
  {
   "cell_type": "markdown",
   "id": "3e893af3-0e6e-4570-956b-9ff3384927be",
   "metadata": {
    "jp-MarkdownHeadingCollapsed": true
   },
   "source": [
    "### Apply Classification (Stocks)"
   ]
  },
  {
   "cell_type": "markdown",
   "id": "f7a4ccba-aa61-4fc4-8925-9f4870093f43",
   "metadata": {},
   "source": [
    "####  Defining Thresholds"
   ]
  },
  {
   "cell_type": "markdown",
   "id": "3f784fc3-5d68-4fc2-ba02-dc6194f237cf",
   "metadata": {},
   "source": [
    "**+5% decrease** : Stock decreases by 5% or more\n",
    "\n",
    "**5 - 4.75% decrease** : Stock decreases between 5% and 4.75%\n",
    "\n",
    "**4.75 - 4.5% decrease** : Stock decreases between 4.75% and 4.5%\n",
    "\n",
    "**4.5 - 4.25% decrease** : Stock decreases between 4.5% and 4.25%\n",
    "\n",
    "**4.25 - 4% decrease** : Stock decreases between 4.25% and 4%\n",
    "\n",
    "    .\n",
    "    .\n",
    "    .\n",
    "    \n",
    "**0.5 - 0.25% decrease** : Stock decreases between 0.5% and 0.25%\n",
    "\n",
    "**0.25 - 0% decrease** : Stock decreases between 0.25% and 0%\n",
    "\n",
    "**0% change** : Stock shows no change\n",
    "\n",
    "**0 - 0.25% increase** : Stock increases between 0% and 0.25%\n",
    "\n",
    "**0.25 - 0.5% increase** : Stock increases between 0.25% and 0.5%\n",
    "\n",
    "    .\n",
    "    .\n",
    "    .\n",
    "    \n",
    "**4 - 4.25% increase** : Stock increases between 4% and 4.25%\n",
    "\n",
    "**4.25 - 4.5% increase** : Stock increases between 4.25% and 4.5%\n",
    "\n",
    "**4.5 - 4.75% increase** : Stock increases between 4.5% and 4.75%\n",
    "\n",
    "**4.75 - 5% increase** : Stock increases between 4.75% and 5%\n",
    "\n",
    "**+5% increase** : Stock increases by 5% or more\n"
   ]
  },
  {
   "cell_type": "code",
   "execution_count": 14,
   "id": "be680fe0-b38a-4912-a5af-8ef8da05d3d5",
   "metadata": {},
   "outputs": [
    {
     "data": {
      "text/plain": [
       "43"
      ]
     },
     "execution_count": 14,
     "metadata": {},
     "output_type": "execute_result"
    }
   ],
   "source": [
    "stock_categories = [\n",
    "    \"Decrease 5%+\",\n",
    "    \"Decrease 5-4.75%\",\n",
    "    \"Decrease 4.75-4.5%\",\n",
    "    \"Decrease 4.5-4.25%\",\n",
    "    \"Decrease 4.25-4%\",\n",
    "    \"Decrease 4-3.75%\",\n",
    "    \"Decrease 3.75-3.5%\",\n",
    "    \"Decrease 3.5-3.25%\",\n",
    "    \"Decrease 3.25-3%\",\n",
    "    \"Decrease 3-2.75%\",\n",
    "    \"Decrease 2.75-2.5%\",\n",
    "    \"Decrease 2.5-2.25%\",\n",
    "    \"Decrease 2.25-2%\",\n",
    "    \"Decrease 2-1.75%\",\n",
    "    \"Decrease 1.75-1.5%\",\n",
    "    \"Decrease 1.5-1.25%\",\n",
    "    \"Decrease 1.25-1%\",\n",
    "    \"Decrease 1-0.75%\",\n",
    "    \"Decrease 0.75-0.5%\",\n",
    "    \"Decrease 0.5-0.25%\",\n",
    "    \"Decrease 0.25-0%\",\n",
    "    \"No Change\",\n",
    "    \"Increase 0-0.25%\",\n",
    "    \"Increase 0.25-0.5%\",\n",
    "    \"Increase 0.5-0.75%\",\n",
    "    \"Increase 0.75-1%\",\n",
    "    \"Increase 1-1.25%\",\n",
    "    \"Increase 1.25-1.5%\",\n",
    "    \"Increase 1.5-1.75%\",\n",
    "    \"Increase 1.75-2%\",\n",
    "    \"Increase 2-2.25%\",\n",
    "    \"Increase 2.25-2.5%\",\n",
    "    \"Increase 2.5-2.75%\",\n",
    "    \"Increase 2.75-3%\",\n",
    "    \"Increase 3-3.25%\",\n",
    "    \"Increase 3.25-3.5%\",\n",
    "    \"Increase 3.5-3.75%\",\n",
    "    \"Increase 3.75-4%\",\n",
    "    \"Increase 4-4.25%\",\n",
    "    \"Increase 4.25-4.5%\",\n",
    "    \"Increase 4.5-4.75%\",\n",
    "    \"Increase 4.75-5%\",\n",
    "    \"Increase 5%+\"\n",
    "]\n",
    "\n",
    "len(stock_categories)"
   ]
  },
  {
   "cell_type": "markdown",
   "id": "8d0db0dc-a0a8-4a80-9cd3-63741c7163bf",
   "metadata": {},
   "source": [
    "#### Applying Class Function"
   ]
  },
  {
   "cell_type": "code",
   "execution_count": 15,
   "id": "7ca7cf22-9fea-41fb-92ba-b098bc4b3918",
   "metadata": {},
   "outputs": [],
   "source": [
    "def assign_class(df, stock):\n",
    "    df_helper = df[['Date', stock]].copy()\n",
    "\n",
    "    # Get One Day Percent Change\n",
    "    df_helper['percent_change'] = percent_change(df=df_helper, col=stock, days_previous=1)\n",
    "\n",
    "    # Applies classification for based on 'stock categories' and percent of change\n",
    "    df_helper[f'{stock} class'] = df_helper.apply(\n",
    "        lambda row: \n",
    "            stock_categories[0] if row['percent_change'] <= -5 else\n",
    "            stock_categories[1] if -5 < row['percent_change'] <= -4.75 else\n",
    "            stock_categories[2] if -4.75 < row['percent_change'] <= -4.5 else\n",
    "            stock_categories[3] if -4.5 < row['percent_change'] <= -4.25 else\n",
    "            stock_categories[4] if -4.25 < row['percent_change'] <= -4 else\n",
    "            stock_categories[5] if -4 < row['percent_change'] <= -3.75 else\n",
    "            stock_categories[6] if -3.75 < row['percent_change'] <= -3.5 else\n",
    "            stock_categories[7] if -3.5 < row['percent_change'] <= -3.25 else\n",
    "            stock_categories[8] if -3.25 < row['percent_change'] <= -3 else\n",
    "            stock_categories[9] if -3 < row['percent_change'] <= -2.75 else\n",
    "            stock_categories[10] if -2.75 < row['percent_change'] <= -2.5 else\n",
    "            stock_categories[11] if -2.5 < row['percent_change'] <= -2.25 else\n",
    "            stock_categories[12] if -2.25 < row['percent_change'] <= -2 else\n",
    "            stock_categories[13] if -2 < row['percent_change'] <= -1.75 else\n",
    "            stock_categories[14] if -1.75 < row['percent_change'] <= -1.5 else\n",
    "            stock_categories[15] if -1.5 < row['percent_change'] <= -1.25 else\n",
    "            stock_categories[16] if -1.25 < row['percent_change'] <= -1 else\n",
    "            stock_categories[17] if -1 < row['percent_change'] <= -0.75 else\n",
    "            stock_categories[18] if -0.75 < row['percent_change'] <= -0.5 else\n",
    "            stock_categories[19] if -0.5 < row['percent_change'] <= -0.25 else\n",
    "            stock_categories[20] if -0.25 < row['percent_change'] < 0 else\n",
    "            stock_categories[21] if row['percent_change'] == 0 else\n",
    "            stock_categories[22] if 0 < row['percent_change'] <= 0.25 else\n",
    "            stock_categories[23] if 0.25 < row['percent_change'] <= 0.5 else\n",
    "            stock_categories[24] if 0.5 < row['percent_change'] <= 0.75 else\n",
    "            stock_categories[25] if 0.75 < row['percent_change'] <= 1 else\n",
    "            stock_categories[26] if 1 < row['percent_change'] <= 1.25 else\n",
    "            stock_categories[27] if 1.25 < row['percent_change'] <= 1.5 else\n",
    "            stock_categories[28] if 1.5 < row['percent_change'] <= 1.75 else\n",
    "            stock_categories[29] if 1.75 < row['percent_change'] <= 2 else\n",
    "            stock_categories[30] if 2 < row['percent_change'] <= 2.25 else\n",
    "            stock_categories[31] if 2.25 < row['percent_change'] <= 2.5 else\n",
    "            stock_categories[32] if 2.5 < row['percent_change'] <= 2.75 else\n",
    "            stock_categories[33] if 2.75 < row['percent_change'] <= 3 else\n",
    "            stock_categories[34] if 3 < row['percent_change'] <= 3.25 else\n",
    "            stock_categories[35] if 3.25 < row['percent_change'] <= 3.5 else\n",
    "            stock_categories[36] if 3.5 < row['percent_change'] <= 3.75 else\n",
    "            stock_categories[37] if 3.75 < row['percent_change'] <= 4 else\n",
    "            stock_categories[38] if 4 < row['percent_change'] <= 4.25 else\n",
    "            stock_categories[39] if 4.25 < row['percent_change'] <= 4.5 else\n",
    "            stock_categories[40] if 4.5 < row['percent_change'] <= 4.75 else\n",
    "            stock_categories[41] if 4.75 < row['percent_change'] <= 5 else\n",
    "            stock_categories[42],\n",
    "        axis=1\n",
    "    )\n",
    "\n",
    "    return df_helper[f'{stock} class']        "
   ]
  },
  {
   "cell_type": "markdown",
   "id": "78e6aba9-fff2-48dd-8edd-ca6fb6fc759e",
   "metadata": {},
   "source": [
    "### Apply Window Based Normlization (Time-Series Based)"
   ]
  },
  {
   "cell_type": "markdown",
   "id": "30452da4-d5eb-48ea-9246-8f98f978531e",
   "metadata": {},
   "source": [
    "The way we will apply normilzation is as follows:\n",
    "\n",
    "- Using scikit learns `RobustScaler` for better outlier handling for features by:\n",
    "    - Calculating the scalar using the IQR, the range between the 75th and 25th percentiles\n",
    "        - Using the standard divation is more prone to outliers\n",
    "        - Using the minimum and maximum values could be outliers\n",
    "        - **Uses *Interquartile range* that includes where most values fall**\n",
    "    - Also uses the median rather than the mean\n",
    "        - Using the mean is heavily influenced by outliers\n",
    "        - X_min could be the outlier itself\n",
    "        - **Uses the *median* which isn't effected by outliers as much**\n",
    "\n",
    "- Will only scale based on **Past** data.\n",
    "    - `window_size` will be our scale for how far we want to look back in time for normalization"
   ]
  },
  {
   "cell_type": "code",
   "execution_count": 16,
   "id": "f1aa4743-3b96-40ba-a9d0-40d3214ef0ee",
   "metadata": {},
   "outputs": [],
   "source": [
    "from sklearn.preprocessing import RobustScaler\n",
    "\n",
    "def norm_data_st(df, col, window_size=90):\n",
    "    df_scaled = df.copy()\n",
    "\n",
    "    # Moving through each row starting at \n",
    "    # window_size and going to df length\n",
    "    for i in range(window_size, len(df)):\n",
    "\n",
    "        # Grabs data from past\n",
    "        time_window = df.iloc[i-window_size:i]\n",
    "\n",
    "        # Grab current time\n",
    "        current_time = df.iloc[i:i+1]\n",
    "\n",
    "        # Create scaler on based on window\n",
    "        robust_scaler = RobustScaler()\n",
    "        robust_scaler.fit(time_window[col])\n",
    "\n",
    "        # Apply scaler to current index feature\n",
    "        scaled_values = robust_scaler.transform(current_time[col])\n",
    "        df_scaled.loc[df.index[i], col] = scaled_values[0]\n",
    "    return df_scaled\n"
   ]
  },
  {
   "cell_type": "markdown",
   "id": "3ea4a3a8-397b-42ac-9dbd-0c2281dd465e",
   "metadata": {},
   "source": [
    "### Apply Normalizaion Long Term (Time-Series Based)"
   ]
  },
  {
   "cell_type": "markdown",
   "id": "31ea4629-ac26-4552-857f-b1e324462599",
   "metadata": {},
   "source": [
    "Applies the same techinque as `norm_data_st` but instead:\n",
    "\n",
    "- There is no `window_size`  (**rolling window**).\n",
    "- The metrics used in `RobustScalar` are determined based on how far we can go back in the data set\n",
    "    - For example:\n",
    "\n",
    "      If we have data that ranges from 2000 - 2005, then some point in 2003 will be normalized based on all data\n",
    "      spanning back to 2000. The same will apply for all data points"
   ]
  },
  {
   "cell_type": "code",
   "execution_count": 17,
   "id": "d1940dd2-eb06-483f-a8d2-d82b47d66d1c",
   "metadata": {},
   "outputs": [],
   "source": [
    "def norm_data_lt(df, col):\n",
    "    df_scaled = df.copy()\n",
    "\n",
    "    # Moving through each row starting at \n",
    "    # window_size and going to df length\n",
    "    for i in range(1, len(df)):\n",
    "\n",
    "        # Grabs data from past\n",
    "        time_window = df.iloc[0:i]\n",
    "\n",
    "        # Grab current time\n",
    "        current_time = df.iloc[i:i+1]\n",
    "\n",
    "        # Create scaler on based on window\n",
    "        robust_scaler = RobustScaler()\n",
    "        robust_scaler.fit(time_window[col])\n",
    "\n",
    "        # Apply scaler to current index feature\n",
    "        scaled_values = robust_scaler.transform(current_time[col])\n",
    "        df_scaled.loc[df.index[i], col] = scaled_values[0]\n",
    "    return df_scaled"
   ]
  },
  {
   "cell_type": "markdown",
   "id": "9d1c6222-e799-4145-8a9b-707614f329d9",
   "metadata": {},
   "source": [
    "## Combining Markets"
   ]
  },
  {
   "cell_type": "markdown",
   "id": "9a4c2617-b1ea-4c08-9651-76781a3dd7c9",
   "metadata": {
    "jp-MarkdownHeadingCollapsed": true
   },
   "source": [
    "#### Adding Stock Market Data"
   ]
  },
  {
   "cell_type": "code",
   "execution_count": 18,
   "id": "4358be77-61a7-45c0-9536-ea7163f164d9",
   "metadata": {},
   "outputs": [],
   "source": [
    "all_markets = pd.DataFrame()\n",
    "\n",
    "all_markets['Date'] = SP500['Date']\n",
    "\n",
    "# Adding S&P 500\n",
    "all_markets['S&P Close'] = SP500['Close']\n",
    "all_markets['S&P Open'] = SP500['Open']\n",
    "all_markets['S&P Low'] = SP500['Low']\n",
    "all_markets['S&P High'] = SP500['High']\n",
    "all_markets['S&P Vol'] = SP500['Volume']\n",
    "\n",
    "# Adding Dow Jones\n",
    "all_markets['Dow Jones Close'] = Dow_Jones_data['Close']\n",
    "all_markets['Dow Jones Open'] = Dow_Jones_data['Open']\n",
    "all_markets['Dow Jones Low'] = Dow_Jones_data['Low']\n",
    "all_markets['Dow Jones High'] = Dow_Jones_data['High']\n",
    "all_markets['Dow Jones Vol'] = Dow_Jones_data['Volume']\n",
    "\n",
    "# Adding Dow Jones\n",
    "all_markets['Nas Close'] = Nas_data['Close']\n",
    "all_markets['Nas Open'] = Nas_data['Open']\n",
    "all_markets['Nas Low'] = Nas_data['Low']\n",
    "all_markets['Nas High'] = Nas_data['High']\n",
    "all_markets['Nas Vol'] = Nas_data['Volume']\n",
    "\n",
    "stock_data = all_markets[['Dow Jones Close', 'S&P Close', 'Nas Close', 'S&P Vol', 'Dow Jones Vol', 'Nas Vol','Date']].copy()\n",
    "\n",
    "stock_data['S&P Close Class'] = assign_class(stock_data, 'S&P Close')\n",
    "stock_data['Dow Jones Close Class'] = assign_class(stock_data, 'Dow Jones Close')\n",
    "stock_data['Nas Close Class'] = assign_class(stock_data, 'Nas Close')\n",
    "\n",
    "stock_markets = ['S&P', 'Dow Jones', 'Nas']\n",
    "\n",
    "for stock in stock_markets:\n",
    "    stock_data[f'{stock} Close PC'] = percent_change(df=stock_data, days_previous=1, col=f'{stock} Close')\n",
    "    stock_data[f'{stock} Vol PC'] = percent_change(df=stock_data, days_previous=1, col=f'{stock} Vol')\n",
    "\n"
   ]
  },
  {
   "cell_type": "markdown",
   "id": "c524c829-1b8c-4b3b-9a63-2490576f0c43",
   "metadata": {
    "jp-MarkdownHeadingCollapsed": true
   },
   "source": [
    "#### Adding Monitary Policy"
   ]
  },
  {
   "cell_type": "code",
   "execution_count": 19,
   "id": "8ee8ae32-dbce-4699-bdd1-144fe4f578db",
   "metadata": {},
   "outputs": [],
   "source": [
    "# Adding GDP\n",
    "stock_data['GDP'] = add_data_based_on_date(stock_data, gdp, 'GDP')\n",
    "\n",
    "# Adding Interest Rates\n",
    "stock_data['Interest Rates'] = add_data_based_on_date(stock_data, interest_rates, 'DFF')\n",
    "\n",
    "# Unemployment Rates\n",
    "stock_data['Unemploy Rates'] = add_data_based_on_date(stock_data, unempl_rates, 'UNRATE')\n",
    "\n",
    "# Money Supply\n",
    "stock_data['M2'] = add_data_based_on_date(stock_data, M2, 'WM2NS')\n",
    "\n",
    "# PCE\n",
    "stock_data['PCE'] = add_data_based_on_date(stock_data, PCE_ai, 'PCE')\n",
    "\n",
    "# Initial Claims\n",
    "stock_data['Initial Claims'] = add_data_based_on_date(stock_data, inital_claims, 'ICSA')\n",
    "\n",
    "# Job Openings Construciton\n",
    "stock_data['Job Openings Const'] = add_data_based_on_date(stock_data, job_openings_construction, 'JTS2300JOL')\n",
    "\n",
    "# Job Openings Private\n",
    "stock_data['Job Openings Priv'] = add_data_based_on_date(stock_data, job_openings_private, 'JTS1000JOL')\n",
    "\n",
    "# Job Openings: Non Farm \n",
    "stock_data['Job Openings NF'] = add_data_based_on_date(stock_data, job_openings_nf, 'JTSJOL')\n",
    "\n",
    "# Consumer Debt\n",
    "stock_data['Consumer Debt'] = add_data_based_on_date(stock_data, consumer_debt_ai, 'REVOLSL')\n",
    "\n",
    "# Income paying debt\n",
    "stock_data['TDSP'] = add_data_based_on_date(stock_data, TDSP, 'TDSP')\n",
    "\n",
    "# Income paying debt\n",
    "stock_data['CDSP'] = add_data_based_on_date(stock_data, CDSP, 'CDSP')\n",
    "\n",
    "# 10y VS 2y Yield Curve\n",
    "stock_data['10Y 2Y'] = add_data_based_on_date(stock_data, T10Y2Y, 'T10Y2Y')\n",
    "\n",
    "# 10y VS Federal Funds Yield Curve\n",
    "stock_data['10Y FF'] = add_data_based_on_date(stock_data, T10YFF, 'T10YFF')\n",
    "\n",
    "# Industrial Production\n",
    "stock_data['Industrial Prod'] = add_data_based_on_date(stock_data ,industrial_prod, 'INDPRO')\n",
    "\n",
    "# Capacity Utilization\n",
    "stock_data['Capacity Prod'] = add_data_based_on_date(stock_data ,capacity_prod, 'TCU')\n",
    "\n",
    "# Consumer Spending\n",
    "stock_data['Retail Prod'] = add_data_based_on_date(stock_data , retail_sales_ai, 'RSAFS')\n",
    "\n",
    "# Personal Savings Rate\n",
    "stock_data['Personal Savings'] = add_data_based_on_date(stock_data , personal_savings, 'PSAVERT')\n",
    "\n",
    "# 30 Year Mortgage Rate\n",
    "stock_data['Mortgage 30 Years'] = add_data_based_on_date(stock_data , mortgage_30_year, 'MORTGAGE30US')\n",
    "\n",
    "# Private Housing Construction\n",
    "stock_data['New Private Housing'] = add_data_based_on_date(stock_data , new_priv_housing, 'HOUST')\n",
    "\n",
    "# Housing Pricing\n",
    "stock_data['House Price Index'] = add_data_based_on_date(stock_data , house_price_index, 'USSTHPI')\n",
    "\n",
    "# Inflaction Metric\n",
    "stock_data['CPI'] = add_data_based_on_date(stock_data , cpi_2000_2025, 'CPIAUCSL')\n",
    "\n",
    "# Personal Income\n",
    "stock_data['Personal Income'] = add_data_based_on_date(stock_data , personal_income, 'PI')\n"
   ]
  },
  {
   "cell_type": "code",
   "execution_count": 20,
   "id": "db883b89-473f-49c0-a7f8-93d680ee033a",
   "metadata": {},
   "outputs": [
    {
     "data": {
      "text/html": [
       "<div>\n",
       "<style scoped>\n",
       "    .dataframe tbody tr th:only-of-type {\n",
       "        vertical-align: middle;\n",
       "    }\n",
       "\n",
       "    .dataframe tbody tr th {\n",
       "        vertical-align: top;\n",
       "    }\n",
       "\n",
       "    .dataframe thead th {\n",
       "        text-align: right;\n",
       "    }\n",
       "</style>\n",
       "<table border=\"1\" class=\"dataframe\">\n",
       "  <thead>\n",
       "    <tr style=\"text-align: right;\">\n",
       "      <th></th>\n",
       "      <th>Dow Jones Close</th>\n",
       "      <th>S&amp;P Close</th>\n",
       "      <th>Nas Close</th>\n",
       "      <th>S&amp;P Vol</th>\n",
       "      <th>Dow Jones Vol</th>\n",
       "      <th>Nas Vol</th>\n",
       "      <th>Date</th>\n",
       "      <th>S&amp;P Close Class</th>\n",
       "      <th>Dow Jones Close Class</th>\n",
       "      <th>Nas Close Class</th>\n",
       "      <th>...</th>\n",
       "      <th>10Y FF</th>\n",
       "      <th>Industrial Prod</th>\n",
       "      <th>Capacity Prod</th>\n",
       "      <th>Retail Prod</th>\n",
       "      <th>Personal Savings</th>\n",
       "      <th>Mortgage 30 Years</th>\n",
       "      <th>New Private Housing</th>\n",
       "      <th>House Price Index</th>\n",
       "      <th>CPI</th>\n",
       "      <th>Personal Income</th>\n",
       "    </tr>\n",
       "  </thead>\n",
       "  <tbody>\n",
       "    <tr>\n",
       "      <th>2254</th>\n",
       "      <td>19223.063816</td>\n",
       "      <td>2437.234517</td>\n",
       "      <td>4901.950447</td>\n",
       "      <td>1195200000</td>\n",
       "      <td>301730000</td>\n",
       "      <td>2221970000</td>\n",
       "      <td>2000-12-01</td>\n",
       "      <td>Increase 0-0.25%</td>\n",
       "      <td>Decrease 0.5-0.25%</td>\n",
       "      <td>Increase 1.75-2%</td>\n",
       "      <td>...</td>\n",
       "      <td>-1.08</td>\n",
       "      <td>92.3457</td>\n",
       "      <td>79.9449</td>\n",
       "      <td>511064.494174</td>\n",
       "      <td>4.1</td>\n",
       "      <td>7.65</td>\n",
       "      <td>1532</td>\n",
       "      <td>241.78</td>\n",
       "      <td>174.600</td>\n",
       "      <td>8844.0</td>\n",
       "    </tr>\n",
       "    <tr>\n",
       "      <th>2255</th>\n",
       "      <td>19570.350989</td>\n",
       "      <td>2455.283558</td>\n",
       "      <td>4847.210209</td>\n",
       "      <td>1103000000</td>\n",
       "      <td>261400000</td>\n",
       "      <td>1860480000</td>\n",
       "      <td>2000-12-04</td>\n",
       "      <td>Increase 0.5-0.75%</td>\n",
       "      <td>Increase 1.75-2%</td>\n",
       "      <td>Decrease 1.25-1%</td>\n",
       "      <td>...</td>\n",
       "      <td>-1.04</td>\n",
       "      <td>92.3457</td>\n",
       "      <td>79.9449</td>\n",
       "      <td>511064.494174</td>\n",
       "      <td>4.1</td>\n",
       "      <td>7.65</td>\n",
       "      <td>1532</td>\n",
       "      <td>241.78</td>\n",
       "      <td>174.600</td>\n",
       "      <td>8844.0</td>\n",
       "    </tr>\n",
       "    <tr>\n",
       "      <th>2256</th>\n",
       "      <td>20196.267044</td>\n",
       "      <td>2550.847340</td>\n",
       "      <td>5355.048570</td>\n",
       "      <td>900300000</td>\n",
       "      <td>291620000</td>\n",
       "      <td>2474670000</td>\n",
       "      <td>2000-12-05</td>\n",
       "      <td>Increase 3.75-4%</td>\n",
       "      <td>Increase 3-3.25%</td>\n",
       "      <td>Increase 5%+</td>\n",
       "      <td>...</td>\n",
       "      <td>-1.08</td>\n",
       "      <td>92.3457</td>\n",
       "      <td>79.9449</td>\n",
       "      <td>511064.494174</td>\n",
       "      <td>4.1</td>\n",
       "      <td>7.65</td>\n",
       "      <td>1532</td>\n",
       "      <td>241.78</td>\n",
       "      <td>174.600</td>\n",
       "      <td>8844.0</td>\n",
       "    </tr>\n",
       "    <tr>\n",
       "      <th>2257</th>\n",
       "      <td>19762.015115</td>\n",
       "      <td>2504.371794</td>\n",
       "      <td>5182.155538</td>\n",
       "      <td>1399300000</td>\n",
       "      <td>312570000</td>\n",
       "      <td>2308280000</td>\n",
       "      <td>2000-12-06</td>\n",
       "      <td>Decrease 2-1.75%</td>\n",
       "      <td>Decrease 2.25-2%</td>\n",
       "      <td>Decrease 3.25-3%</td>\n",
       "      <td>...</td>\n",
       "      <td>-1.16</td>\n",
       "      <td>92.3457</td>\n",
       "      <td>79.9449</td>\n",
       "      <td>511064.494174</td>\n",
       "      <td>4.1</td>\n",
       "      <td>7.65</td>\n",
       "      <td>1532</td>\n",
       "      <td>241.78</td>\n",
       "      <td>174.600</td>\n",
       "      <td>8844.0</td>\n",
       "    </tr>\n",
       "    <tr>\n",
       "      <th>2258</th>\n",
       "      <td>19674.883871</td>\n",
       "      <td>2489.714045</td>\n",
       "      <td>5100.916076</td>\n",
       "      <td>1128000000</td>\n",
       "      <td>249400000</td>\n",
       "      <td>1756810000</td>\n",
       "      <td>2000-12-07</td>\n",
       "      <td>Decrease 0.75-0.5%</td>\n",
       "      <td>Decrease 0.5-0.25%</td>\n",
       "      <td>Decrease 1.75-1.5%</td>\n",
       "      <td>...</td>\n",
       "      <td>-1.17</td>\n",
       "      <td>92.3457</td>\n",
       "      <td>79.9449</td>\n",
       "      <td>511064.494174</td>\n",
       "      <td>4.1</td>\n",
       "      <td>7.65</td>\n",
       "      <td>1532</td>\n",
       "      <td>241.78</td>\n",
       "      <td>174.600</td>\n",
       "      <td>8844.0</td>\n",
       "    </tr>\n",
       "    <tr>\n",
       "      <th>...</th>\n",
       "      <td>...</td>\n",
       "      <td>...</td>\n",
       "      <td>...</td>\n",
       "      <td>...</td>\n",
       "      <td>...</td>\n",
       "      <td>...</td>\n",
       "      <td>...</td>\n",
       "      <td>...</td>\n",
       "      <td>...</td>\n",
       "      <td>...</td>\n",
       "      <td>...</td>\n",
       "      <td>...</td>\n",
       "      <td>...</td>\n",
       "      <td>...</td>\n",
       "      <td>...</td>\n",
       "      <td>...</td>\n",
       "      <td>...</td>\n",
       "      <td>...</td>\n",
       "      <td>...</td>\n",
       "      <td>...</td>\n",
       "      <td>...</td>\n",
       "    </tr>\n",
       "    <tr>\n",
       "      <th>8348</th>\n",
       "      <td>43239.500000</td>\n",
       "      <td>5861.569824</td>\n",
       "      <td>18544.419922</td>\n",
       "      <td>5057680000</td>\n",
       "      <td>739620000</td>\n",
       "      <td>7700290000</td>\n",
       "      <td>2025-02-27</td>\n",
       "      <td>Decrease 1.75-1.5%</td>\n",
       "      <td>Decrease 0.5-0.25%</td>\n",
       "      <td>Decrease 3-2.75%</td>\n",
       "      <td>...</td>\n",
       "      <td>-0.04</td>\n",
       "      <td>103.5110</td>\n",
       "      <td>77.7660</td>\n",
       "      <td>723853.000000</td>\n",
       "      <td>4.6</td>\n",
       "      <td>6.76</td>\n",
       "      <td>1366</td>\n",
       "      <td>690.90</td>\n",
       "      <td>319.086</td>\n",
       "      <td>25345.5</td>\n",
       "    </tr>\n",
       "    <tr>\n",
       "      <th>8349</th>\n",
       "      <td>43840.910156</td>\n",
       "      <td>5954.500000</td>\n",
       "      <td>18847.279297</td>\n",
       "      <td>6441140000</td>\n",
       "      <td>782170000</td>\n",
       "      <td>8247520000</td>\n",
       "      <td>2025-02-28</td>\n",
       "      <td>Increase 1.5-1.75%</td>\n",
       "      <td>Increase 1.25-1.5%</td>\n",
       "      <td>Increase 1.5-1.75%</td>\n",
       "      <td>...</td>\n",
       "      <td>-0.09</td>\n",
       "      <td>103.5110</td>\n",
       "      <td>77.7660</td>\n",
       "      <td>723853.000000</td>\n",
       "      <td>4.6</td>\n",
       "      <td>6.76</td>\n",
       "      <td>1366</td>\n",
       "      <td>690.90</td>\n",
       "      <td>319.086</td>\n",
       "      <td>25345.5</td>\n",
       "    </tr>\n",
       "    <tr>\n",
       "      <th>8350</th>\n",
       "      <td>43191.238281</td>\n",
       "      <td>5849.720215</td>\n",
       "      <td>18350.189453</td>\n",
       "      <td>5613850000</td>\n",
       "      <td>731560000</td>\n",
       "      <td>8170140000</td>\n",
       "      <td>2025-03-03</td>\n",
       "      <td>Decrease 2-1.75%</td>\n",
       "      <td>Decrease 1.5-1.25%</td>\n",
       "      <td>Decrease 2.75-2.5%</td>\n",
       "      <td>...</td>\n",
       "      <td>-0.17</td>\n",
       "      <td>103.5110</td>\n",
       "      <td>77.7660</td>\n",
       "      <td>723853.000000</td>\n",
       "      <td>4.6</td>\n",
       "      <td>6.76</td>\n",
       "      <td>1366</td>\n",
       "      <td>690.90</td>\n",
       "      <td>319.086</td>\n",
       "      <td>25345.5</td>\n",
       "    </tr>\n",
       "    <tr>\n",
       "      <th>8351</th>\n",
       "      <td>42520.988281</td>\n",
       "      <td>5778.149902</td>\n",
       "      <td>18285.160156</td>\n",
       "      <td>6138110000</td>\n",
       "      <td>815780000</td>\n",
       "      <td>8469180000</td>\n",
       "      <td>2025-03-04</td>\n",
       "      <td>Decrease 1.25-1%</td>\n",
       "      <td>Decrease 1.75-1.5%</td>\n",
       "      <td>Decrease 0.5-0.25%</td>\n",
       "      <td>...</td>\n",
       "      <td>-0.11</td>\n",
       "      <td>103.5110</td>\n",
       "      <td>77.7660</td>\n",
       "      <td>723853.000000</td>\n",
       "      <td>4.6</td>\n",
       "      <td>6.76</td>\n",
       "      <td>1366</td>\n",
       "      <td>690.90</td>\n",
       "      <td>319.086</td>\n",
       "      <td>25345.5</td>\n",
       "    </tr>\n",
       "    <tr>\n",
       "      <th>8352</th>\n",
       "      <td>43006.589844</td>\n",
       "      <td>5842.629883</td>\n",
       "      <td>18552.730469</td>\n",
       "      <td>5285970000</td>\n",
       "      <td>582350000</td>\n",
       "      <td>7048430000</td>\n",
       "      <td>2025-03-05</td>\n",
       "      <td>Increase 1-1.25%</td>\n",
       "      <td>Increase 1-1.25%</td>\n",
       "      <td>Increase 1.25-1.5%</td>\n",
       "      <td>...</td>\n",
       "      <td>-0.11</td>\n",
       "      <td>103.5110</td>\n",
       "      <td>77.7660</td>\n",
       "      <td>723853.000000</td>\n",
       "      <td>4.6</td>\n",
       "      <td>6.76</td>\n",
       "      <td>1366</td>\n",
       "      <td>690.90</td>\n",
       "      <td>319.086</td>\n",
       "      <td>25345.5</td>\n",
       "    </tr>\n",
       "  </tbody>\n",
       "</table>\n",
       "<p>6054 rows × 39 columns</p>\n",
       "</div>"
      ],
      "text/plain": [
       "      Dow Jones Close    S&P Close     Nas Close     S&P Vol  Dow Jones Vol  \\\n",
       "2254     19223.063816  2437.234517   4901.950447  1195200000      301730000   \n",
       "2255     19570.350989  2455.283558   4847.210209  1103000000      261400000   \n",
       "2256     20196.267044  2550.847340   5355.048570   900300000      291620000   \n",
       "2257     19762.015115  2504.371794   5182.155538  1399300000      312570000   \n",
       "2258     19674.883871  2489.714045   5100.916076  1128000000      249400000   \n",
       "...               ...          ...           ...         ...            ...   \n",
       "8348     43239.500000  5861.569824  18544.419922  5057680000      739620000   \n",
       "8349     43840.910156  5954.500000  18847.279297  6441140000      782170000   \n",
       "8350     43191.238281  5849.720215  18350.189453  5613850000      731560000   \n",
       "8351     42520.988281  5778.149902  18285.160156  6138110000      815780000   \n",
       "8352     43006.589844  5842.629883  18552.730469  5285970000      582350000   \n",
       "\n",
       "         Nas Vol       Date     S&P Close Class Dow Jones Close Class  \\\n",
       "2254  2221970000 2000-12-01    Increase 0-0.25%    Decrease 0.5-0.25%   \n",
       "2255  1860480000 2000-12-04  Increase 0.5-0.75%      Increase 1.75-2%   \n",
       "2256  2474670000 2000-12-05    Increase 3.75-4%      Increase 3-3.25%   \n",
       "2257  2308280000 2000-12-06    Decrease 2-1.75%      Decrease 2.25-2%   \n",
       "2258  1756810000 2000-12-07  Decrease 0.75-0.5%    Decrease 0.5-0.25%   \n",
       "...          ...        ...                 ...                   ...   \n",
       "8348  7700290000 2025-02-27  Decrease 1.75-1.5%    Decrease 0.5-0.25%   \n",
       "8349  8247520000 2025-02-28  Increase 1.5-1.75%    Increase 1.25-1.5%   \n",
       "8350  8170140000 2025-03-03    Decrease 2-1.75%    Decrease 1.5-1.25%   \n",
       "8351  8469180000 2025-03-04    Decrease 1.25-1%    Decrease 1.75-1.5%   \n",
       "8352  7048430000 2025-03-05    Increase 1-1.25%      Increase 1-1.25%   \n",
       "\n",
       "         Nas Close Class  ...  10Y FF  Industrial Prod  Capacity Prod  \\\n",
       "2254    Increase 1.75-2%  ...   -1.08          92.3457        79.9449   \n",
       "2255    Decrease 1.25-1%  ...   -1.04          92.3457        79.9449   \n",
       "2256        Increase 5%+  ...   -1.08          92.3457        79.9449   \n",
       "2257    Decrease 3.25-3%  ...   -1.16          92.3457        79.9449   \n",
       "2258  Decrease 1.75-1.5%  ...   -1.17          92.3457        79.9449   \n",
       "...                  ...  ...     ...              ...            ...   \n",
       "8348    Decrease 3-2.75%  ...   -0.04         103.5110        77.7660   \n",
       "8349  Increase 1.5-1.75%  ...   -0.09         103.5110        77.7660   \n",
       "8350  Decrease 2.75-2.5%  ...   -0.17         103.5110        77.7660   \n",
       "8351  Decrease 0.5-0.25%  ...   -0.11         103.5110        77.7660   \n",
       "8352  Increase 1.25-1.5%  ...   -0.11         103.5110        77.7660   \n",
       "\n",
       "        Retail Prod  Personal Savings  Mortgage 30 Years  New Private Housing  \\\n",
       "2254  511064.494174               4.1               7.65                 1532   \n",
       "2255  511064.494174               4.1               7.65                 1532   \n",
       "2256  511064.494174               4.1               7.65                 1532   \n",
       "2257  511064.494174               4.1               7.65                 1532   \n",
       "2258  511064.494174               4.1               7.65                 1532   \n",
       "...             ...               ...                ...                  ...   \n",
       "8348  723853.000000               4.6               6.76                 1366   \n",
       "8349  723853.000000               4.6               6.76                 1366   \n",
       "8350  723853.000000               4.6               6.76                 1366   \n",
       "8351  723853.000000               4.6               6.76                 1366   \n",
       "8352  723853.000000               4.6               6.76                 1366   \n",
       "\n",
       "      House Price Index      CPI  Personal Income  \n",
       "2254             241.78  174.600           8844.0  \n",
       "2255             241.78  174.600           8844.0  \n",
       "2256             241.78  174.600           8844.0  \n",
       "2257             241.78  174.600           8844.0  \n",
       "2258             241.78  174.600           8844.0  \n",
       "...                 ...      ...              ...  \n",
       "8348             690.90  319.086          25345.5  \n",
       "8349             690.90  319.086          25345.5  \n",
       "8350             690.90  319.086          25345.5  \n",
       "8351             690.90  319.086          25345.5  \n",
       "8352             690.90  319.086          25345.5  \n",
       "\n",
       "[6054 rows x 39 columns]"
      ]
     },
     "execution_count": 20,
     "metadata": {},
     "output_type": "execute_result"
    }
   ],
   "source": [
    "stock_data = stock_data.dropna()\n",
    "stock_data"
   ]
  },
  {
   "cell_type": "markdown",
   "id": "a4074923-4dd3-4797-9bc1-628c0e5ef08c",
   "metadata": {},
   "source": [
    "## Normalize Markets (Short Term)"
   ]
  },
  {
   "cell_type": "code",
   "execution_count": 21,
   "id": "adf93156-876f-47c6-a844-94ea684f8aa9",
   "metadata": {},
   "outputs": [
    {
     "name": "stderr",
     "output_type": "stream",
     "text": [
      "/var/folders/dz/ls7s785d52j9jwwk1cpbk5fr0000gn/T/ipykernel_92722/3103949087.py:22: FutureWarning: Setting an item of incompatible dtype is deprecated and will raise an error in a future version of pandas. Value '0.49019607843137253' has dtype incompatible with int64, please explicitly cast to a compatible dtype first.\n",
      "  df_scaled.loc[df.index[i], col] = scaled_values[0]\n"
     ]
    }
   ],
   "source": [
    "\n",
    "# Columns that release quarterly updates\n",
    "quarterly_cols = [\n",
    "    'GDP',\n",
    "    'PCE',\n",
    "    'CDSP',\n",
    "    'TDSP',\n",
    "    'House Price Index'\n",
    "]\n",
    "\n",
    "# Columns that release monthly updates\n",
    "monthly_cols = [\n",
    "    'CPI',\n",
    "    'M2',\n",
    "    'Job Openings Const',\n",
    "    'Job Openings Priv',\n",
    "    'Job Openings NF',\n",
    "    'Consumer Debt',\n",
    "    'Industrial Prod',\n",
    "    'Capacity Prod',\n",
    "    'Retail Prod',\n",
    "    'Personal Savings',\n",
    "    'New Private Housing',\n",
    "    'Personal Income'\n",
    "]\n",
    "\n",
    "# Columns that release weekly updates\n",
    "weekly_cols = [\n",
    "    'Interest Rates',\n",
    "    'Unemploy Rates',\n",
    "    'Initial Claims',\n",
    "    'Mortgage 30 Years',\n",
    "]\n",
    "\n",
    "# Columns that release daily updates\n",
    "daily_cols = [\n",
    "    '10Y 2Y',\n",
    "    '10Y FF'\n",
    "]\n",
    "\n",
    "normalized_df = stock_data.copy()\n",
    "\n",
    "# Disincludes Weekends\n",
    "BUSINESS_YEAR = (5 * 52)\n",
    "BUSINESS_MONTH = (5 * 4)\n",
    "\n",
    "# Normalize for Quarterly Results\n",
    "QUART_WINDOW_SIZE = int(BUSINESS_YEAR * 3) # Window size based on 5 quarters\n",
    "normalized_df = norm_data_st(df=normalized_df, col=quarterly_cols, window_size=(QUART_WINDOW_SIZE))\n",
    "\n",
    "# Normalize for Monthly Results\n",
    "MONTH_WINDOW_SIZE = int(BUSINESS_YEAR * 1.5)\n",
    "normalized_df = norm_data_st(df=normalized_df, col=monthly_cols, window_size=(MONTH_WINDOW_SIZE))\n",
    "\n",
    "# Normalize for Weekly Results\n",
    "WEEK_WINDOW_SIZE =  BUSINESS_MONTH * 6\n",
    "normalized_df = norm_data_st(df=normalized_df, col=weekly_cols, window_size=(WEEK_WINDOW_SIZE))\n",
    "\n",
    "# Normalize for Daily Results\n",
    "DAY_WINDOW_SIZE = BUSINESS_MONTH * 3\n",
    "normalized_df = norm_data_st(df=normalized_df, col=daily_cols, window_size=(DAY_WINDOW_SIZE))\n",
    "\n",
    "# Remove first quarters for normalized data\n",
    "normalized_df = normalized_df[QUART_WINDOW_SIZE:len(normalized_df)]\n"
   ]
  },
  {
   "cell_type": "code",
   "execution_count": 22,
   "id": "5063e640-a0ef-43be-be9b-861fe93287f7",
   "metadata": {},
   "outputs": [],
   "source": [
    "normalized_df.to_csv('normalized_data_02_25_25.csv')"
   ]
  },
  {
   "cell_type": "markdown",
   "id": "f32420e1-66b5-41c5-bf38-3e411360ea57",
   "metadata": {},
   "source": [
    "## Normalize Markets (Long Term)"
   ]
  },
  {
   "cell_type": "code",
   "execution_count": 23,
   "id": "9e52fdc2-4d52-4272-bb40-bf551ebc1cfa",
   "metadata": {},
   "outputs": [
    {
     "name": "stderr",
     "output_type": "stream",
     "text": [
      "/var/folders/dz/ls7s785d52j9jwwk1cpbk5fr0000gn/T/ipykernel_92722/1167255424.py:20: FutureWarning: Setting an item of incompatible dtype is deprecated and will raise an error in a future version of pandas. Value '-0.5' has dtype incompatible with int64, please explicitly cast to a compatible dtype first.\n",
      "  df_scaled.loc[df.index[i], col] = scaled_values[0]\n"
     ]
    }
   ],
   "source": [
    "# Normalzing all columns on same scale\n",
    "cols = [\n",
    "    'GDP',\n",
    "    'PCE',\n",
    "    'CDSP',\n",
    "    'TDSP',\n",
    "    'House Price Index',\n",
    "    'CPI',\n",
    "    'M2',\n",
    "    'Job Openings Const',\n",
    "    'Job Openings Priv',\n",
    "    'Job Openings NF',\n",
    "    'Consumer Debt',\n",
    "    'Industrial Prod',\n",
    "    'Capacity Prod',\n",
    "    'Retail Prod',\n",
    "    'Personal Savings',\n",
    "    'New Private Housing',\n",
    "    'Personal Income',\n",
    "    'Interest Rates',\n",
    "    'Unemploy Rates',\n",
    "    'Initial Claims',\n",
    "    'Mortgage 30 Years',\n",
    "    '10Y 2Y',\n",
    "    '10Y FF'\n",
    "]\n",
    "\n",
    "normalized_df_lt = stock_data.copy()\n",
    "\n",
    "# Remove first quarters for normalized data for proper merge of data\n",
    "normalized_df_lt = normalized_df_lt[QUART_WINDOW_SIZE:len(normalized_df)]\n",
    "\n",
    "# Normalizing data on a long term scale (as far as data goes back for each time point)\n",
    "normalized_df_lt = norm_data_lt(df=normalized_df_lt, col=cols)"
   ]
  },
  {
   "cell_type": "markdown",
   "id": "857b8616-ca20-45ea-ae4b-4db8cea1d910",
   "metadata": {},
   "source": [
    "## Combining both Normilized Methods"
   ]
  },
  {
   "cell_type": "code",
   "execution_count": 24,
   "id": "a319e79a-1111-4b4e-86e6-c6bbc89eeb38",
   "metadata": {},
   "outputs": [],
   "source": [
    "combined_df = normalized_df.join(normalized_df_lt, rsuffix=' (Long Term)')"
   ]
  },
  {
   "cell_type": "markdown",
   "id": "331c1545-9a3e-42a6-900a-6f588d13ce5d",
   "metadata": {},
   "source": [
    "### Method 1: Difference Between Short Term and Long Term"
   ]
  },
  {
   "cell_type": "code",
   "execution_count": 25,
   "id": "883ab9a5-e8f2-48fc-be9a-b9d083ad2625",
   "metadata": {},
   "outputs": [],
   "source": [
    "for col in cols:\n",
    "    combined_df[f'{col} Divergence'] = combined_df[col] - combined_df[f'{col} (Long Term)']"
   ]
  },
  {
   "cell_type": "markdown",
   "id": "22e4ca82-1c31-476d-9db8-65eaf69bf8b0",
   "metadata": {},
   "source": [
    "### Method 2: Ratio Between Short Term and Long Term"
   ]
  },
  {
   "cell_type": "code",
   "execution_count": 26,
   "id": "6007258d-30e7-4acf-8ed4-f636520f7491",
   "metadata": {},
   "outputs": [],
   "source": [
    "for col in cols:\n",
    "    combined_df[f'{col} Ratio'] = combined_df[col] / combined_df[f'{col} (Long Term)']"
   ]
  },
  {
   "cell_type": "markdown",
   "id": "0a364d22-1cd8-4eea-b365-92f61d1f3e74",
   "metadata": {},
   "source": [
    "### Method 3: Weighted Sum between Short Term and Long Term"
   ]
  },
  {
   "cell_type": "code",
   "execution_count": 27,
   "id": "e4e50f1b-aa71-44dd-a485-199e02b36a33",
   "metadata": {},
   "outputs": [],
   "source": [
    "for col in cols:\n",
    "    combined_df[f'{col} Composite'] = (.7 * combined_df[col]) + (.3 * combined_df[f'{col} (Long Term)'])"
   ]
  },
  {
   "cell_type": "markdown",
   "id": "f8703d2d-bb8a-483c-95b3-2f4c56e78fcd",
   "metadata": {},
   "source": [
    "## Basic Analysis (Economic Health Report)"
   ]
  },
  {
   "cell_type": "code",
   "execution_count": 28,
   "id": "dcbd62f3-8955-4d20-8042-7b986485148a",
   "metadata": {},
   "outputs": [],
   "source": [
    "# FOR REFERENCE: \n",
    "# Used to update data set\n",
    "# all_markets.update(add_data_based_on_date(all_markets, interest_rates, 'DFF'))"
   ]
  },
  {
   "cell_type": "code",
   "execution_count": 29,
   "id": "ed6bdeb9-2a4c-4e27-abce-0341a84001f1",
   "metadata": {},
   "outputs": [],
   "source": [
    "def calc_economic_health(data, col_type=''):\n",
    "    data[f'health overall{col_type}'] = (\n",
    "        # Employment Health (30%)\n",
    "        -.15 * data[f'Unemploy Rates{col_type}'] +      # Primary job market indicator\n",
    "        -.10 * data[f'Initial Claims{col_type}'] +     # Early warning system for job losses\n",
    "        .05 * data[f'Job Openings Priv'] + # Business hiring confidence\n",
    "        \n",
    "        # Production & Business Activity (20%)\n",
    "        .10 * data[f'Industrial Prod{col_type}'] +    # Manufacturing health\n",
    "        .05 * data[f'Capacity Prod{col_type}'] +      # Factory utilization\n",
    "        .05 * data[f'Job Openings Const{col_type}'] + # Construction sector health\n",
    "        \n",
    "        # Consumer Behavior (15%)\n",
    "        .05 * data[f'Retail Prod{col_type}'] +        # Shopping patterns\n",
    "        .05 * data[f'Personal Savings{col_type}'] +    # Financial cushion\n",
    "        -.05 * data[f'Consumer Debt{col_type}'] +      # Household financial stress\n",
    "        \n",
    "        # Housing Market (15%)\n",
    "        -.05 * data[f'Mortgage 30 Years{col_type}'] +  # Cost of home buying\n",
    "        .05 * data[f'New Private Housing{col_type}'] + # Construction activity\n",
    "        -.05 * data[f'House Price Index{col_type}'] +   # Market values\n",
    "        \n",
    "        # Financial Markets (20%)\n",
    "        .10 * data[f'10Y 2Y{col_type}'] +            # Recession predictor\n",
    "        .10 * data[f'10Y FF{col_type}'] +\n",
    "        -.10 * data[f'Interest Rates{col_type}']     # Cost of borrowing\n",
    "    )\n",
    "    return data"
   ]
  },
  {
   "cell_type": "code",
   "execution_count": 30,
   "id": "2397038b-2b25-4abb-a7ab-f7638ff722b2",
   "metadata": {},
   "outputs": [
    {
     "name": "stdout",
     "output_type": "stream",
     "text": [
      " Divergence\n"
     ]
    },
    {
     "data": {
      "image/png": "[encoded data removed]",
      "text/plain": [
       "<Figure size 640x480 with 1 Axes>"
      ]
     },
     "metadata": {},
     "output_type": "display_data"
    },
    {
     "name": "stdout",
     "output_type": "stream",
     "text": [
      " Ratio\n"
     ]
    },
    {
     "data": {
      "image/png": "[encoded data removed]",
      "text/plain": [
       "<Figure size 640x480 with 1 Axes>"
      ]
     },
     "metadata": {},
     "output_type": "display_data"
    },
    {
     "name": "stdout",
     "output_type": "stream",
     "text": [
      " Composite\n"
     ]
    },
    {
     "data": {
      "image/png": "[encoded data removed]",
      "text/plain": [
       "<Figure size 640x480 with 1 Axes>"
      ]
     },
     "metadata": {},
     "output_type": "display_data"
    }
   ],
   "source": [
    "col_type = [\n",
    "    ' Divergence',\n",
    "    ' Ratio',\n",
    "    ' Composite'\n",
    "]\n",
    "\n",
    "for col in col_type:\n",
    "    combined_df = calc_economic_health(combined_df, col_type=col)\n",
    "    print(f'{col}')\n",
    "    plot_time_frames(year_start1=2006, year_end1=2008, year_start2=2021, year_end2=2025, df=combined_df, x1=f'health overall{col}')"
   ]
  },
  {
   "cell_type": "markdown",
   "id": "654a6c9d-009c-4cbe-b30d-950c900f9d76",
   "metadata": {},
   "source": [
    "## Analysis Part 2: Feature Engineering"
   ]
  },
  {
   "cell_type": "markdown",
   "id": "ab33717d-8e3d-4340-ae86-04ffc8de2214",
   "metadata": {},
   "source": [
    "### All Market DataFrame Columns:"
   ]
  },
  {
   "cell_type": "markdown",
   "id": "72ed4bae-08e0-4e12-a7ca-470fdc490a57",
   "metadata": {},
   "source": [
    "#### S&P Data\n",
    "- S&P Close\n",
    "- S&P Open\n",
    "- S&P Low\n",
    "- S&P High\n",
    "- S&P Vol\n",
    "\n",
    "#### Dow Jones Data\n",
    "- Dow Jones Close\n",
    "- Dow Jones Open\n",
    "- Dow Jones Low\n",
    "- Dow Jones High\n",
    "- Dow Jones Vol\n",
    "\n",
    "#### NASDAQ Data\n",
    "- NASDAQ Close\n",
    "- NASDAQ Open\n",
    "- NASDAQ Low\n",
    "- NASDAQ High\n",
    "- NASDAQ Vol\n",
    "\n",
    "#### Monetary Policy & Financial Conditions\n",
    "\n",
    "- **Interest Rates**\n",
    "    - the baseline interest rate that influences all other borrowing costs\n",
    "- **M2**\n",
    "    - Money supply measure - tracks how much money is circulating in the economy\n",
    "- **10Y-2Y Spread (10Y 2Y)**\n",
    "    - Difference between 10-year and 2-year Treasury yields - *a key recession predictor*\n",
    "\n",
    "#### Labor Market Health\n",
    "\n",
    "- **Unemployment Rate (Unemploy Rates)**\n",
    "    - Overall joblessness measure\n",
    "- **Initial Claims**\n",
    "    - New unemployment claims *an early warning signal*\n",
    "- **Job Openings**:\n",
    "    - *Construction* **(Job Openings Const)**\n",
    "      Building sector hiring\n",
    "    - *Private Sector* **(Job Openings Priv)**\n",
    "      Overall business hiring\n",
    "\n",
    "#### Consumer Financial Health\n",
    "\n",
    "- **Personal Savings Rate (Personal Savings)**\n",
    "    - How much income people save\n",
    "- **Consumer Debt**\n",
    "    - Credit card and revolving debt levels\n",
    "- **Total Debt Service Payments (TDSP)**\n",
    "    - Portion of income going to debt payments\n",
    "\n",
    "#### Production & Business Activity\n",
    "\n",
    "- **Industrial Production (Industrial Prod)**\n",
    "    - Manufacturing output\n",
    "- **Capacity Utilization (Capacity Prod)**\n",
    "    - How much of industrial capacity is being used\n",
    "- **Retail Sales (Retail Prod)**\n",
    "    - Consumer spending at stores\n",
    "\n",
    "#### Housing Market\n",
    "\n",
    "- **30-Year Mortgage Rate (Mortgage 30 Years)**\n",
    "    - Cost of home loans\n",
    "- **New Housing Starts (New Private Housing)**\n",
    "    - New home construction activity\n",
    "- **House Price Index**\n",
    "    - Home value trends\n",
    "\n",
    "#### Inflation Metrics\n",
    "\n",
    "- **Consumer Price Index (CPI)**\n",
    "    - Overall price changes\n",
    "- **Personal Consumption Expenditures (PCE)**\n",
    "    - Alternative inflation measure\n",
    "\n",
    "***'normalized_data' has all normalized data by add 'Score' after each feature name***"
   ]
  },
  {
   "cell_type": "markdown",
   "id": "d14e9b63-0a42-4045-89b2-64df71e1053b",
   "metadata": {},
   "source": [
    "### Analysis"
   ]
  },
  {
   "cell_type": "code",
   "execution_count": 31,
   "id": "21f8620f-5b85-41b7-ae6d-9e49319f1340",
   "metadata": {},
   "outputs": [],
   "source": [
    "fe_df = pd.DataFrame()\n",
    "fe_df['Date'] = all_markets['Date']\n",
    "normalized_data = normalized_df.copy()"
   ]
  },
  {
   "cell_type": "code",
   "execution_count": 32,
   "id": "ef4eef02-108f-47c1-b446-65c630605401",
   "metadata": {},
   "outputs": [],
   "source": [
    "fe_df['Housing Stress'] = (\n",
    "                            (\n",
    "                                normalized_df['House Price Index'] / \n",
    "                                normalized_df['Personal Income']\n",
    "                            )\n",
    "                           * normalized_df['Mortgage 30 Years']\n",
    "                          ) \\\n",
    "                            + normalized_df['TDSP']"
   ]
  },
  {
   "cell_type": "code",
   "execution_count": 33,
   "id": "e2087877-f913-40dc-b510-91cd85d97039",
   "metadata": {},
   "outputs": [
    {
     "data": {
      "image/png": "[encoded data removed]",
      "text/plain": [
       "<Figure size 640x480 with 1 Axes>"
      ]
     },
     "metadata": {},
     "output_type": "display_data"
    },
    {
     "data": {
      "image/png": "[encoded data removed]",
      "text/plain": [
       "<Figure size 640x480 with 1 Axes>"
      ]
     },
     "metadata": {},
     "output_type": "display_data"
    }
   ],
   "source": [
    "plot_time_frames(2003, 2008, 2021, 2025, fe_df, 'Housing Stress')\n",
    "plot_time_frame(2000, 2025, fe_df, 'Housing Stress')"
   ]
  },
  {
   "cell_type": "code",
   "execution_count": 34,
   "id": "128ff99d-4fbf-45f4-9fd7-def6f791d35b",
   "metadata": {},
   "outputs": [],
   "source": [
    "fe_df['Financial Stress'] = (normalized_data['Consumer Debt'] / normalized_data['M2']) * (normalized_data['10Y 2Y'])"
   ]
  },
  {
   "cell_type": "code",
   "execution_count": 35,
   "id": "a9a0fb63-b331-4560-800c-c590e597535b",
   "metadata": {},
   "outputs": [
    {
     "data": {
      "image/png": "[encoded data removed]",
      "text/plain": [
       "<Figure size 640x480 with 1 Axes>"
      ]
     },
     "metadata": {},
     "output_type": "display_data"
    }
   ],
   "source": [
    "plot_time_frames(2000, 2025, 2021, 2024, fe_df, 'Financial Stress')"
   ]
  },
  {
   "cell_type": "code",
   "execution_count": 36,
   "id": "fb640814-03d7-46fe-bd1a-6919e659786b",
   "metadata": {},
   "outputs": [],
   "source": [
    "DAY_PREV = 30\n",
    "fe_df['Economic Stress 30D'] = (normalized_data['Interest Rates'] * rate_of_change(normalized_data, 'CPI', DAY_PREV)) + \\\n",
    "                           (rate_of_change(normalized_data, 'Unemploy Rates', DAY_PREV) * rate_of_change(normalized_data, 'Initial Claims', DAY_PREV)) - \\\n",
    "                           rate_of_change(normalized_data, 'Industrial Prod', DAY_PREV) \n",
    "fe_df['Market Pressure 30D'] = (rate_of_change(normalized_data, 'S&P Close', DAY_PREV) * rate_of_change(normalized_data, 'S&P Vol', DAY_PREV)) / normalized_data['S&P Vol'].mean()\n",
    "fe_df['Financial_Health 30D'] = rate_of_change(normalized_data, '10Y 2Y', DAY_PREV) + rate_of_change(normalized_data, 'Consumer Debt', DAY_PREV) - rate_of_change(normalized_data, 'Personal Savings', DAY_PREV)"
   ]
  },
  {
   "cell_type": "code",
   "execution_count": 37,
   "id": "a111ffa3-f385-4572-88a0-e68665eb04d4",
   "metadata": {},
   "outputs": [],
   "source": [
    "DAY_PREV = 90\n",
    "fe_df['Economic Stress 90D'] = (normalized_data['Interest Rates'] * rate_of_change(normalized_data, 'CPI', DAY_PREV)) + \\\n",
    "                           (rate_of_change(normalized_data, 'Unemploy Rates', DAY_PREV) * rate_of_change(normalized_data, 'Initial Claims', DAY_PREV)) - \\\n",
    "                           rate_of_change(normalized_data, 'Industrial Prod', DAY_PREV) \n",
    "fe_df['Market Pressure 90D'] = (rate_of_change(normalized_data, 'S&P Close', DAY_PREV) * rate_of_change(normalized_data, 'S&P Vol', DAY_PREV)) / normalized_data['S&P Vol'].mean()\n",
    "fe_df['Financial_Health 90D'] = rate_of_change(normalized_data, '10Y 2Y', DAY_PREV) + rate_of_change(normalized_data, 'Consumer Debt', DAY_PREV) - rate_of_change(normalized_data, 'Personal Savings', DAY_PREV)"
   ]
  },
  {
   "cell_type": "code",
   "execution_count": 38,
   "id": "fcae7a49-f2ed-4946-9aee-57855636360e",
   "metadata": {},
   "outputs": [],
   "source": [
    "DAY_PREV = 150\n",
    "fe_df['Economic Stress 150D'] = (normalized_data['Interest Rates'] * rate_of_change(normalized_data, 'CPI', DAY_PREV)) + \\\n",
    "                           (rate_of_change(normalized_data, 'Unemploy Rates', DAY_PREV) * rate_of_change(normalized_data, 'Initial Claims', DAY_PREV)) - \\\n",
    "                           rate_of_change(normalized_data, 'Industrial Prod', DAY_PREV) \n",
    "fe_df['Market Pressure 150D'] = (rate_of_change(normalized_data, 'S&P Close', DAY_PREV) * rate_of_change(normalized_data, 'S&P Vol', DAY_PREV)) / normalized_data['S&P Vol'].mean()\n",
    "fe_df['Financial_Health 150D'] = rate_of_change(normalized_data, '10Y 2Y', DAY_PREV) + rate_of_change(normalized_data, 'Consumer Debt', DAY_PREV) - rate_of_change(normalized_data, 'Personal Savings', DAY_PREV)"
   ]
  },
  {
   "cell_type": "code",
   "execution_count": 39,
   "id": "ed750434-ae68-489d-9691-3d78bf1747d7",
   "metadata": {},
   "outputs": [
    {
     "data": {
      "image/png": "[encoded data removed]",
      "text/plain": [
       "<Figure size 640x480 with 1 Axes>"
      ]
     },
     "metadata": {},
     "output_type": "display_data"
    }
   ],
   "source": [
    "plot_time_frames(2005,2010, 2021, 2025, fe_df, 'Financial_Health 150D')"
   ]
  },
  {
   "cell_type": "code",
   "execution_count": 40,
   "id": "fe17ca16-ff81-4711-a17d-5b4104fc2d2c",
   "metadata": {},
   "outputs": [],
   "source": [
    "fe_df['Crash Risk'] = (\n",
    "\n",
    "    # Market Pressure 40%\n",
    "    0.2 * fe_df['Market Pressure 150D'] + \n",
    "    0.15 * fe_df['Market Pressure 90D'] +\n",
    "    0.05 * fe_df['Market Pressure 30D'] +\n",
    "\n",
    "    # Economic Stress 35%\n",
    "    0.15 * fe_df['Economic Stress 150D'] + \n",
    "    0.12 * fe_df['Economic Stress 90D'] +\n",
    "    0.08 * fe_df['Economic Stress 30D'] +\n",
    "\n",
    "    # Financial Health 25%\n",
    "    0.10 * fe_df['Financial_Health 150D'] +\n",
    "    0.08 * fe_df['Financial_Health 90D'] +\n",
    "    0.07 * fe_df['Financial_Health 30D']\n",
    ")"
   ]
  },
  {
   "cell_type": "code",
   "execution_count": 45,
   "id": "9bca8ff0-4f2a-42e4-9c5d-4512f8e7c2f8",
   "metadata": {},
   "outputs": [
    {
     "data": {
      "image/png": "[encoded data removed]",
      "text/plain": [
       "<Figure size 640x480 with 1 Axes>"
      ]
     },
     "metadata": {},
     "output_type": "display_data"
    }
   ],
   "source": [
    "plot_time_frame(2024, 2025, fe_df, 'Crash Risk')"
   ]
  },
  {
   "cell_type": "code",
   "execution_count": null,
   "id": "553c69c0-772d-42a9-9ce6-6638004e6aff",
   "metadata": {},
   "outputs": [],
   "source": []
  },
  {
   "cell_type": "code",
   "execution_count": 42,
   "id": "bfedf58e-8ec4-4484-861a-f741656af43c",
   "metadata": {},
   "outputs": [],
   "source": [
    "# insert"
   ]
  },
  {
   "cell_type": "code",
   "execution_count": 43,
   "id": "68796e21-10d6-48e1-8fe3-a3d0c1d944b3",
   "metadata": {},
   "outputs": [],
   "source": [
    "# Hello"
   ]
  }
 ],
 "metadata": {
  "kernelspec": {
   "display_name": "Python 3 (ipykernel)",
   "language": "python",
   "name": "python3"
  },
  "language_info": {
   "codemirror_mode": {
    "name": "ipython",
    "version": 3
   },
   "file_extension": ".py",
   "mimetype": "text/x-python",
   "name": "python",
   "nbconvert_exporter": "python",
   "pygments_lexer": "ipython3",
   "version": "3.12.8"
  }
 },
 "nbformat": 4,
 "nbformat_minor": 5
}
